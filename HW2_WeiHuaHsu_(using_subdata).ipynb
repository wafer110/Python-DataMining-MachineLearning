{
  "nbformat": 4,
  "nbformat_minor": 0,
  "metadata": {
    "colab": {
      "name": "HW2_WeiHuaHsu (using subdata).ipynb",
      "provenance": [],
      "collapsed_sections": [],
      "toc_visible": true,
      "machine_shape": "hm",
      "include_colab_link": true
    },
    "kernelspec": {
      "name": "python3",
      "display_name": "Python 3"
    },
    "accelerator": "TPU"
  },
  "cells": [
    {
      "cell_type": "markdown",
      "metadata": {
        "id": "view-in-github",
        "colab_type": "text"
      },
      "source": [
        "<a href=\"https://colab.research.google.com/github/wafer110/Python-DataMining-MachineLearning/blob/master/HW2_WeiHuaHsu_(using_subdata).ipynb\" target=\"_parent\"><img src=\"https://colab.research.google.com/assets/colab-badge.svg\" alt=\"Open In Colab\"/></a>"
      ]
    },
    {
      "cell_type": "markdown",
      "metadata": {
        "id": "xH530DD-NgcI"
      },
      "source": [
        "## Load Packages  \n",
        "\n",
        "- Some packages may need to be installed first"
      ]
    },
    {
      "cell_type": "code",
      "metadata": {
        "id": "niMu-lDBNhND"
      },
      "source": [
        "import pandas as pd \n",
        "import numpy as np\n",
        "import math\n",
        "import matplotlib.pylab as plt\n",
        "import matplotlib.pyplot as plt\n",
        "import re\n",
        "\n",
        "# Ignore warnings\n",
        "import warnings; warnings.filterwarnings(\"ignore\")\n",
        "\n",
        "# Natural Language Processing\n",
        "import nltk\n",
        "nltk.download('stopwords')\n",
        "from nltk.corpus import stopwords \n",
        "stopWords = set(stopwords.words('english'))\n",
        "nltk.download('punkt')\n",
        "nltk.download('wordnet')\n",
        "from nltk.tokenize import word_tokenize \n",
        "from nltk.stem import WordNetLemmatizer \n",
        "lemmatizer = WordNetLemmatizer()\n",
        "from sklearn.feature_extraction.text import TfidfVectorizer\n",
        "from gensim.models import Word2Vec \n",
        "\n",
        "# Machine Learning\n",
        "from sklearn.model_selection import train_test_split\n",
        "# Stratified K-fold Cross Validation\n",
        "from sklearn.model_selection import StratifiedKFold\n",
        "# Classifiers\n",
        "from sklearn.tree import DecisionTreeClassifier\n",
        "from sklearn.neural_network import MLPClassifier\n",
        "from sklearn.naive_bayes import GaussianNB\n",
        "from sklearn.naive_bayes import MultinomialNB\n",
        "from sklearn.naive_bayes import BernoulliNB\n",
        "from sklearn.neighbors import KNeighborsClassifier\n",
        "from sklearn.svm import SVC\n",
        "from sklearn.ensemble import BaggingClassifier\n",
        "from sklearn.ensemble import AdaBoostClassifier\n",
        "# Evaluate Classification\n",
        "from sklearn.model_selection import cross_val_score\n",
        "from sklearn.metrics import f1_score, precision_score\n",
        "from sklearn.metrics import recall_score, accuracy_score\n",
        "# Friedman & Nemenyi test\n",
        "import scipy.stats as ss\n",
        "!pip install scikit_posthocs\n",
        "import scikit_posthocs as sp\n",
        "# Clusters\n",
        "from sklearn.cluster import AgglomerativeClustering\n",
        "from sklearn.cluster import DBSCAN\n",
        "from sklearn.cluster import KMeans\n",
        "from sklearn.cluster import MiniBatchKMeans\n",
        "# Evaluate Clustering\n",
        "from sklearn.metrics import silhouette_samples, silhouette_score\n",
        "from sklearn.metrics import calinski_harabasz_score\n",
        "from sklearn.metrics import davies_bouldin_score\n",
        "# UMAP\n",
        "!pip install umap-learn[plot]\n",
        "!pip install holoviews\n",
        "!pip install -U ipykernel\n",
        "import umap\n",
        "import umap.plot"
      ],
      "execution_count": null,
      "outputs": []
    },
    {
      "cell_type": "markdown",
      "metadata": {
        "id": "GYpX3E7HI1h4"
      },
      "source": [
        "## Read Data sets  "
      ]
    },
    {
      "cell_type": "code",
      "metadata": {
        "id": "HEbnBa49Bopb"
      },
      "source": [
        "# Read the data through github raw data URL\n",
        "# Anyone with this .ipynb file can run it well\n",
        "genuine_url = 'https://raw.githubusercontent.com/wafer110/Python-DataMining-MachineLearning/master/HW2/2020-03-13_1_coronavirus_genuine.xlsx'\n",
        "genuine = pd.read_excel(genuine_url)\n",
        "mixmisinfo_url = 'https://raw.githubusercontent.com/wafer110/Python-DataMining-MachineLearning/master/HW2/2020-03-13_10_coronavirus_misinformation.xlsx'\n",
        "mixmisinfo = pd.read_excel(mixmisinfo_url)"
      ],
      "execution_count": null,
      "outputs": []
    },
    {
      "cell_type": "code",
      "metadata": {
        "id": "FybGkxl_l_e-",
        "outputId": "d9e08128-3a0f-404a-d99b-fa3022db7e8c",
        "colab": {
          "base_uri": "https://localhost:8080/",
          "height": 142
        }
      },
      "source": [
        "# Create a new column named 'labels'\n",
        "# Genuine class = 0, Mixed Misinformed class = 1\n",
        "genuine['labels'] = 0\n",
        "mixmisinfo['labels'] = 1\n",
        "# Combine two data sets into one S data set\n",
        "S = pd.concat([genuine, mixmisinfo]).reset_index(drop = True)\n",
        "S.head(3) # View the data"
      ],
      "execution_count": null,
      "outputs": [
        {
          "output_type": "execute_result",
          "data": {
            "text/html": [
              "<div>\n",
              "<style scoped>\n",
              "    .dataframe tbody tr th:only-of-type {\n",
              "        vertical-align: middle;\n",
              "    }\n",
              "\n",
              "    .dataframe tbody tr th {\n",
              "        vertical-align: top;\n",
              "    }\n",
              "\n",
              "    .dataframe thead th {\n",
              "        text-align: right;\n",
              "    }\n",
              "</style>\n",
              "<table border=\"1\" class=\"dataframe\">\n",
              "  <thead>\n",
              "    <tr style=\"text-align: right;\">\n",
              "      <th></th>\n",
              "      <th>id</th>\n",
              "      <th>source.text</th>\n",
              "      <th>labels</th>\n",
              "    </tr>\n",
              "  </thead>\n",
              "  <tbody>\n",
              "    <tr>\n",
              "      <th>0</th>\n",
              "      <td>1237495776517009410</td>\n",
              "      <td>COVID-19 Update\\nhttps://t.co/zVUNZqFp9x\\n#Cor...</td>\n",
              "      <td>0</td>\n",
              "    </tr>\n",
              "    <tr>\n",
              "      <th>1</th>\n",
              "      <td>1237451958803484672</td>\n",
              "      <td>The Vox guide to Covid-19 coronavirus  https:/...</td>\n",
              "      <td>0</td>\n",
              "    </tr>\n",
              "    <tr>\n",
              "      <th>2</th>\n",
              "      <td>1236041601157300225</td>\n",
              "      <td>The Vox guide to Covid-19 coronavirus  https:/...</td>\n",
              "      <td>0</td>\n",
              "    </tr>\n",
              "  </tbody>\n",
              "</table>\n",
              "</div>"
            ],
            "text/plain": [
              "                    id  ... labels\n",
              "0  1237495776517009410  ...      0\n",
              "1  1237451958803484672  ...      0\n",
              "2  1236041601157300225  ...      0\n",
              "\n",
              "[3 rows x 3 columns]"
            ]
          },
          "metadata": {
            "tags": []
          },
          "execution_count": 18
        }
      ]
    },
    {
      "cell_type": "markdown",
      "metadata": {
        "id": "EXSPHgUdS8p9"
      },
      "source": [
        "## Data Pre-processing"
      ]
    },
    {
      "cell_type": "markdown",
      "metadata": {
        "id": "5QGQEj5uTP98"
      },
      "source": [
        "### Detect language  \n",
        "   \n",
        "- (Running this commend will take a bit while.)   \n",
        "- The original size of Genuine is 128003 and Mix_misinformation is 1614. I omitted non-English tweets in order to do a better further analysis. The size of new subset data is 125633 + 1612 = 127245 observations.    \n",
        "- Reference:   \n",
        "https://stackoverflow.com/questions/39142778/python-how-to-determine-the-language   \n"
      ]
    },
    {
      "cell_type": "code",
      "metadata": {
        "id": "GZLWowefCM9V"
      },
      "source": [
        "# Language Detect (download pkg required)\n",
        "!pip install langdetect\n",
        "from langdetect import detect, DetectorFactory"
      ],
      "execution_count": null,
      "outputs": []
    },
    {
      "cell_type": "code",
      "metadata": {
        "id": "ckly4_xPU78P",
        "outputId": "25e91248-3047-4f64-b7c0-bf7cfecb8143",
        "colab": {
          "base_uri": "https://localhost:8080/"
        }
      },
      "source": [
        "# Detect the language from each tweet\n",
        "# Keep the English tweet only\n",
        "DetectorFactory.seed = 0\n",
        "S['language'] = S['source.text'].apply(detect)\n",
        "S = S[S['language'] == 'en']\n",
        "# Reset index\n",
        "S = S.reset_index(drop = True)\n",
        "# Review the data set\n",
        "S.shape"
      ],
      "execution_count": null,
      "outputs": [
        {
          "output_type": "execute_result",
          "data": {
            "text/plain": [
              "(127245, 4)"
            ]
          },
          "metadata": {
            "tags": []
          },
          "execution_count": 19
        }
      ]
    },
    {
      "cell_type": "markdown",
      "metadata": {
        "id": "y_Dxfj0JROLZ"
      },
      "source": [
        "### Text Cleaning  \n",
        "  \n",
        "- In this part, I cleaned the text by removing `twitter handles`, `Internet domains`, and `punctuations`. I also remove `short tweets` at which text length is shorter than 3. The size of clened dataset has **126879** observations."
      ]
    },
    {
      "cell_type": "code",
      "metadata": {
        "id": "XT9y7BaGRsTl"
      },
      "source": [
        "def CleanText(text):\n",
        "  # Replace contractions\n",
        "  text = text.replace(\"’\", \"'\")\n",
        "  text = text.replace(\"can't\", \"can not\")\n",
        "  text = text.replace(\"won't\", \"will not\")\n",
        "  text = text.replace(\"n\\'t\", \" not\")\n",
        "  text = text.replace(\"\\'ll\", \" will\")\n",
        "  text = text.replace(\"\\'ve\", \" have\")\n",
        "  text = text.replace(\"\\'d\", \" would\")\n",
        "  text = text.replace(\"\\'s\", \" is\") \n",
        "  text = text.replace(\"\\'m\", \" am\")\n",
        "  text = text.replace(\"\\'re\", \" are\")\n",
        "  text = text.replace(\"\\n\", \" \")\n",
        "  # Remove twitter handles \n",
        "  output = re.sub(\"@[\\w]*\", \"\", text)\n",
        "  # Remove Internet domains\n",
        "  output = re.sub(\"http\\S+\", \"\", output)\n",
        "  # Remove punctuations\n",
        "  output = re.sub(\"[^a-zA-Z0-9\\s]\", \"\", output)\n",
        "  # Remove extra whitepaces\n",
        "  output = re.sub(\"\\s+\", \" \", output)\n",
        "  return(output)\n",
        "\n",
        "# Apply function \"CleanText\"\n",
        "S['texts'] = S['source.text'].apply(CleanText)\n",
        "# Lowercase the tweets\n",
        "S['texts'] = S['texts'].apply(str.lower)\n",
        "# Remove short tweets (length < 3)\n",
        "S['text_length'] = [len(S['texts'][i].split()) for i in range(len(S['texts']))]\n",
        "S = S[S['text_length'] > 3][['id', 'texts', 'labels', 'source.text']] "
      ],
      "execution_count": null,
      "outputs": []
    },
    {
      "cell_type": "markdown",
      "metadata": {
        "id": "61h5y1QHLl12"
      },
      "source": [
        "- In addition to preliminary text cleaning process. This part applied the data to a couple of important and useful NLP manipulating terms. Including `tokenize`, `lemmatize`, and `remove stopwords`."
      ]
    },
    {
      "cell_type": "code",
      "metadata": {
        "id": "DGfsjmaRPvNC",
        "outputId": "13c12b20-8454-4aca-e4e1-03b52f7d860c",
        "colab": {
          "base_uri": "https://localhost:8080/",
          "height": 193
        }
      },
      "source": [
        "def ProcessText(text): \n",
        "  output = [word for word in text.split() if word not in stopWords]\n",
        "  output = [lemmatizer.lemmatize(w) for w in word_tokenize(\" \".join(output))]\n",
        "  output = \" \".join(output)\n",
        "  return(output)\n",
        "\n",
        "# Apply function \"ProcessText\"\n",
        "S['texts'] = S['texts'].apply(ProcessText)\n",
        "# Reset index\n",
        "S = S.reset_index(drop = True)\n",
        "# Review the data set\n",
        "S.head(3)"
      ],
      "execution_count": null,
      "outputs": [
        {
          "output_type": "execute_result",
          "data": {
            "text/html": [
              "<div>\n",
              "<style scoped>\n",
              "    .dataframe tbody tr th:only-of-type {\n",
              "        vertical-align: middle;\n",
              "    }\n",
              "\n",
              "    .dataframe tbody tr th {\n",
              "        vertical-align: top;\n",
              "    }\n",
              "\n",
              "    .dataframe thead th {\n",
              "        text-align: right;\n",
              "    }\n",
              "</style>\n",
              "<table border=\"1\" class=\"dataframe\">\n",
              "  <thead>\n",
              "    <tr style=\"text-align: right;\">\n",
              "      <th></th>\n",
              "      <th>id</th>\n",
              "      <th>texts</th>\n",
              "      <th>labels</th>\n",
              "      <th>source.text</th>\n",
              "    </tr>\n",
              "  </thead>\n",
              "  <tbody>\n",
              "    <tr>\n",
              "      <th>0</th>\n",
              "      <td>1237495776517009410</td>\n",
              "      <td>covid19 update coronavirus covid19</td>\n",
              "      <td>0</td>\n",
              "      <td>COVID-19 Update\\nhttps://t.co/zVUNZqFp9x\\n#Cor...</td>\n",
              "    </tr>\n",
              "    <tr>\n",
              "      <th>1</th>\n",
              "      <td>1237451958803484672</td>\n",
              "      <td>vox guide covid19 coronavirus covid19 coronavirus</td>\n",
              "      <td>0</td>\n",
              "      <td>The Vox guide to Covid-19 coronavirus  https:/...</td>\n",
              "    </tr>\n",
              "    <tr>\n",
              "      <th>2</th>\n",
              "      <td>1236041601157300225</td>\n",
              "      <td>vox guide covid19 coronavirus covid19 coronavirus</td>\n",
              "      <td>0</td>\n",
              "      <td>The Vox guide to Covid-19 coronavirus  https:/...</td>\n",
              "    </tr>\n",
              "  </tbody>\n",
              "</table>\n",
              "</div>"
            ],
            "text/plain": [
              "                    id  ...                                        source.text\n",
              "0  1237495776517009410  ...  COVID-19 Update\\nhttps://t.co/zVUNZqFp9x\\n#Cor...\n",
              "1  1237451958803484672  ...  The Vox guide to Covid-19 coronavirus  https:/...\n",
              "2  1236041601157300225  ...  The Vox guide to Covid-19 coronavirus  https:/...\n",
              "\n",
              "[3 rows x 4 columns]"
            ]
          },
          "metadata": {
            "tags": []
          },
          "execution_count": 24
        }
      ]
    },
    {
      "cell_type": "markdown",
      "metadata": {
        "id": "WwrJ7ume82xI"
      },
      "source": [
        "Reference:    \n",
        "  \n",
        "Text Cleaning + Classifiers https://medium.com/analytics-vidhya/twitter-sentiment-analysis-b9a12dbb2043    \n",
        "Pre-processing https://www.analyticsvidhya.com/blog/2018/07/hands-on-sentiment-analysis-dataset-python/"
      ]
    },
    {
      "cell_type": "markdown",
      "metadata": {
        "id": "9yvklNAZbpVR"
      },
      "source": [
        "### Pre-train Model  \n",
        "  \n",
        "- Convert the data into features in order to fit the classifiers. This assignment will cover TF-IDF and Word Embeddings.   \n",
        "  \n",
        "- I copied the `S` dataset as `S_set` to keep the original dataset S for other uses."
      ]
    },
    {
      "cell_type": "code",
      "metadata": {
        "id": "3UHnaIeQ8tG4",
        "outputId": "2cfada68-5039-4a26-b786-e9141bf3328a",
        "colab": {
          "base_uri": "https://localhost:8080/"
        }
      },
      "source": [
        "S_set = S\n",
        "S_set.shape"
      ],
      "execution_count": 114,
      "outputs": [
        {
          "output_type": "execute_result",
          "data": {
            "text/plain": [
              "(126879, 4)"
            ]
          },
          "metadata": {
            "tags": []
          },
          "execution_count": 114
        }
      ]
    },
    {
      "cell_type": "markdown",
      "metadata": {
        "id": "fsRXL4Z_eKyF"
      },
      "source": [
        "#### TF-IDF (Subset Data)"
      ]
    },
    {
      "cell_type": "code",
      "metadata": {
        "id": "EsZowAbvbum4",
        "outputId": "42a74ee6-2e9e-4660-8a3e-77a66a924705",
        "colab": {
          "base_uri": "https://localhost:8080/"
        }
      },
      "source": [
        "tfidf_vec = TfidfVectorizer(max_df = 0.80, min_df = 5, max_features = 2000) \n",
        "tfidf_array = tfidf_vec.fit_transform(S['texts'])\n",
        "tfidf_df = pd.DataFrame(tfidf_array.toarray())\n",
        "# Review the TF-IDF vector\n",
        "tfidf_df.shape"
      ],
      "execution_count": 224,
      "outputs": [
        {
          "output_type": "execute_result",
          "data": {
            "text/plain": [
              "(126879, 2000)"
            ]
          },
          "metadata": {
            "tags": []
          },
          "execution_count": 224
        }
      ]
    },
    {
      "cell_type": "code",
      "metadata": {
        "id": "SqyVr8GAg5AX",
        "outputId": "3f96a455-c163-4a5e-ede4-d2d8f0c5b12d",
        "colab": {
          "base_uri": "https://localhost:8080/"
        }
      },
      "source": [
        "# Obtain a subset TF-IDF vector & S set\n",
        "tfidf_df = tfidf_df.iloc[120000:, :].reset_index(drop = True)\n",
        "S_set = S.iloc[120000:].reset_index(drop = True)\n",
        "# Review the shape of TF-IDF vector & Labels\n",
        "print(tfidf_df.shape, S_set.labels.shape)\n",
        "print('The S set dataset is trimmed to', S_set.shape)"
      ],
      "execution_count": 32,
      "outputs": [
        {
          "output_type": "stream",
          "text": [
            "(6879, 2000) (6879,)\n",
            "The S set dataset is trimmed to (6879, 4)\n"
          ],
          "name": "stdout"
        }
      ]
    },
    {
      "cell_type": "markdown",
      "metadata": {
        "id": "_P9dmEeeeCID"
      },
      "source": [
        "#### Word2vec   \n",
        " \n",
        "Word2vec is a two-layer neural net that processes text. Its input is a text corpus and its output is a set of vectors.  \n",
        "  \n",
        "Reference:   \n",
        "https://realpython.com/python-keras-text-classification/#word-embeddings"
      ]
    },
    {
      "cell_type": "code",
      "metadata": {
        "id": "gxAWxQzKeHw5"
      },
      "source": [
        "# Tokenize texts for fitting to the w2v \n",
        "texts_token = S['texts'].apply(lambda x: x.split()) \n",
        "\n",
        "# Word2Vec - skip-gram model\n",
        "model_w2v = Word2Vec(texts_token, \n",
        "                     size = 200,  # desired number of features/independent variables \n",
        "                     window = 5, # context window size \n",
        "                     min_count = 2, \n",
        "                     sg = 1, # skip-gram model \n",
        "                     hs = 0, \n",
        "                     negative = 10, # negative sampling \n",
        "                     workers = 2, # number of cores \n",
        "                     seed = 34)\n",
        "model_w2v.train(texts_token, total_examples = len(S['texts']), epochs = 20)"
      ],
      "execution_count": null,
      "outputs": []
    },
    {
      "cell_type": "code",
      "metadata": {
        "id": "72mrDa-2j3mM",
        "outputId": "d6f0e4ef-a5ce-403c-847a-714c3aa01dc0",
        "colab": {
          "base_uri": "https://localhost:8080/",
          "height": 187
        }
      },
      "source": [
        "# most_similar words\n",
        "model_w2v.wv.most_similar(positive = 'trump')\n",
        "model_w2v.wv.most_similar(positive = 'covid19')\n",
        "model_w2v.wv.most_similar(positive = 'pandemic')"
      ],
      "execution_count": null,
      "outputs": [
        {
          "output_type": "execute_result",
          "data": {
            "text/plain": [
              "[('pand', 0.5039507150650024),\n",
              " ('finallycoronavirus', 0.4961145520210266),\n",
              " ('directorate', 0.48065871000289917),\n",
              " ('dotarddonnie', 0.4786580801010132),\n",
              " ('pandemi', 0.46463823318481445),\n",
              " ('thoughtsandprayers', 0.46440640091896057),\n",
              " ('dementiadonnie', 0.46411222219467163),\n",
              " ('announc', 0.45796287059783936),\n",
              " ('wuhanvirus2020', 0.45591285824775696),\n",
              " ('rung', 0.4537968933582306)]"
            ]
          },
          "metadata": {
            "tags": []
          },
          "execution_count": 15
        }
      ]
    },
    {
      "cell_type": "markdown",
      "metadata": {
        "id": "GyXiJCstn0EY"
      },
      "source": [
        "- Set a function to create a vector for each tweet by taking the average of the vectors of the words present in the tweet."
      ]
    },
    {
      "cell_type": "code",
      "metadata": {
        "id": "42DPwYwgj4yP"
      },
      "source": [
        "def word_vector(tokens, size): \n",
        "  vec = np.zeros(size).reshape((1, size)) \n",
        "  count = 0.\n",
        "  for word in tokens: \n",
        "    try: \n",
        "      vec += model_w2v[word].reshape((1, size)) \n",
        "      count += 1.\n",
        "    except KeyError:  # when token is not in vocabulary\n",
        "      continue \n",
        "  if count != 0:\n",
        "    vec /= count \n",
        "  return(vec)"
      ],
      "execution_count": null,
      "outputs": []
    },
    {
      "cell_type": "markdown",
      "metadata": {
        "id": "Jxvc6NlXoGms"
      },
      "source": [
        "- Prepared a Word2Vec feature set."
      ]
    },
    {
      "cell_type": "code",
      "metadata": {
        "id": "ajh94Jk4r-jQ"
      },
      "source": [
        "w2v_arrays = np.zeros((len(texts_token), 200))\n",
        "\n",
        "for i in range(len(texts_token)): \n",
        "  w2v_arrays[i,:] = word_vector(texts_token[i], 200)\n",
        "  \n",
        "w2v_df = pd.DataFrame(w2v_arrays) \n",
        "w2v_df.shape"
      ],
      "execution_count": null,
      "outputs": []
    },
    {
      "cell_type": "markdown",
      "metadata": {
        "id": "Y7c4jk876pW7"
      },
      "source": [
        "# Part I"
      ]
    },
    {
      "cell_type": "markdown",
      "metadata": {
        "id": "1j0N8h_a2DXz"
      },
      "source": [
        "## Classification    \n",
        "\n",
        "- The procedure of fit the classifiers includes **1) K-fold CV; 2) classifiers; and 3) evaluation**.   \n",
        "  \n",
        "- Reference:   \n",
        "Kfold CV https://machinelearningmastery.com/cross-validation-for-imbalanced-classification/  \n",
        "Cross_val_score https://stackoverflow.com/questions/16379313/how-to-use-the-a-k-fold-cross-validation-in-scikit-with-naive-bayes-classifier-a  \n",
        "Cross_val_score Keys https://scikit-learn.org/stable/modules/model_evaluation.html"
      ]
    },
    {
      "cell_type": "markdown",
      "metadata": {
        "id": "SPl47j35mBlF"
      },
      "source": [
        "### 1) K-fold Cross Validation  \n",
        "\n",
        "- To fit the K-fold cross validation, I used Stratified K-fold Cross Validation. It is because Stratified K-fold will divide data into 10 folds with the same proportion."
      ]
    },
    {
      "cell_type": "code",
      "metadata": {
        "id": "AxbVUB9UFM3i"
      },
      "source": [
        "# Stratified K-fold CV\n",
        "SKfold = StratifiedKFold(n_splits = 10, random_state = 29, shuffle = True)"
      ],
      "execution_count": 47,
      "outputs": []
    },
    {
      "cell_type": "markdown",
      "metadata": {
        "id": "W0-FtFiDnGXN"
      },
      "source": [
        "### 2) Fit Classifiers"
      ]
    },
    {
      "cell_type": "markdown",
      "metadata": {
        "id": "zejSxSORKZAh"
      },
      "source": [
        "#### Decision Tree\n"
      ]
    },
    {
      "cell_type": "code",
      "metadata": {
        "id": "MUSYh9efKZwp",
        "outputId": "4ce555da-28e6-496f-f836-fd1890b890da",
        "colab": {
          "base_uri": "https://localhost:8080/"
        }
      },
      "source": [
        "%%time\n",
        "# Fit Decision Tree Classifier\n",
        "clf = DecisionTreeClassifier(criterion = 'entropy', min_samples_split = 50)\n",
        "\n",
        "# Evaluation\n",
        "DT_precision = cross_val_score(clf, tfidf_df, S_set.labels, cv = SKfold, \n",
        "                               scoring = 'precision')\n",
        "DT_recall = cross_val_score(clf, tfidf_df, S_set.labels, cv = SKfold, \n",
        "                            scoring = 'recall')\n",
        "DT_f1 = cross_val_score(clf, tfidf_df, S_set.labels, cv = SKfold, \n",
        "                        scoring = 'f1')\n",
        "\n",
        "# Print the results\n",
        "print(f'Precision: {np.mean(DT_precision)}')\n",
        "print(f'Recall: {np.mean(DT_recall)}')\n",
        "print(f'F-Measure: {np.mean(DT_f1)}')"
      ],
      "execution_count": 48,
      "outputs": [
        {
          "output_type": "stream",
          "text": [
            "Precision: 0.9066270793069808\n",
            "Recall: 0.926830764511924\n",
            "F-Measure: 0.9160865200457156\n",
            "CPU times: user 22.3 s, sys: 377 ms, total: 22.7 s\n",
            "Wall time: 22.7 s\n"
          ],
          "name": "stdout"
        }
      ]
    },
    {
      "cell_type": "markdown",
      "metadata": {
        "id": "QOfF6HLN2YmV"
      },
      "source": [
        "#### Multi-layer Preceptrons"
      ]
    },
    {
      "cell_type": "code",
      "metadata": {
        "id": "7IGtRYJPkqbR",
        "outputId": "dad97781-8b7f-40e9-a35b-0ae8e75ee34a",
        "colab": {
          "base_uri": "https://localhost:8080/"
        }
      },
      "source": [
        "%%time\n",
        "# Fit Multi-Layer Perceptrons \n",
        "clf = MLPClassifier(activation = 'logistic', \n",
        "                    alpha = 1e-5,\n",
        "                    max_iter = 1000,  \n",
        "                    random_state = 1,\n",
        "                    learning_rate_init = 0.5)\n",
        "\n",
        "# Evaluation\n",
        "MLP_precision = cross_val_score(clf, tfidf_df, S_set.labels, cv = SKfold, \n",
        "                                scoring = 'precision')\n",
        "MLP_recall = cross_val_score(clf, tfidf_df, S_set.labels, cv = SKfold, \n",
        "                             scoring = 'recall')\n",
        "MLP_f1 = cross_val_score(clf, tfidf_df, S_set.labels, cv = SKfold, \n",
        "                         scoring = 'f1')\n",
        "\n",
        "# Print the results\n",
        "print(f'Precision: {np.mean(MLP_precision)}')\n",
        "print(f'Recall: {np.mean(MLP_recall)}')\n",
        "print(f'F-Measure: {np.mean(MLP_f1)}')"
      ],
      "execution_count": 68,
      "outputs": [
        {
          "output_type": "stream",
          "text": [
            "Precision: 0.900960648937275\n",
            "Recall: 0.8802737520128824\n",
            "F-Measure: 0.8900577645703294\n",
            "CPU times: user 9min 41s, sys: 8min 27s, total: 18min 9s\n",
            "Wall time: 4min 37s\n"
          ],
          "name": "stdout"
        }
      ]
    },
    {
      "cell_type": "markdown",
      "metadata": {
        "id": "fGE4RVe33CmP"
      },
      "source": [
        "#### Naive Bayes\n",
        "\n",
        "Different Naive Bayes classifiers provide different algorithms which depend on the feature data (training data = input data = X). The difference of NB classifiers are sorted below:    \n",
        "\n",
        "1. **Gaussian NB**: It should be used for the features in decimal form. Gaussian NB assumes features to follow a normal distribution.  \n",
        "\n",
        "2. **MultiNomial NB**: It should be used for the features with discrete values like word count 1,2,3, etc.\n",
        "\n",
        "3. **Bernoulli NB**: It should be used for features with binary or boolean values like True/False or 0/1."
      ]
    },
    {
      "cell_type": "markdown",
      "metadata": {
        "id": "T07c4ZhLB9cc"
      },
      "source": [
        "- As for this Covid-19 Tweets, I tried with all above NB methods. The `Bernoulli Naive Bayes` performs the best with f1 = 0.88.   \n",
        "- Concerning to too long codes, I didn't print all NB classifiers results but I hashtag the classifier commend and pasted the evaluation results afterwards."
      ]
    },
    {
      "cell_type": "code",
      "metadata": {
        "id": "bKsLF_xC2Exs",
        "outputId": "22edf6ac-0dca-4fbe-f5be-45288ef011b9",
        "colab": {
          "base_uri": "https://localhost:8080/"
        }
      },
      "source": [
        "# Fit Naive Bayes Classifier\n",
        "# (You may un-hashtag the classifiers to \n",
        "#  compare the performance between different NB classifiers)\n",
        "clf = BernoulliNB()    \n",
        "#clf = GaussianNB()    \n",
        "#clf = MultinomialNB() \n",
        "\n",
        "# Evaluation\n",
        "NB_precision = cross_val_score(clf, tfidf_df, S_set.labels, cv = SKfold, \n",
        "                               scoring = 'precision')\n",
        "NB_recall = cross_val_score(clf, tfidf_df, S_set.labels, cv = SKfold, \n",
        "                            scoring = 'recall')\n",
        "NB_f1 = cross_val_score(clf, tfidf_df, S_set.labels, cv = SKfold, \n",
        "                        scoring = 'f1')\n",
        "\n",
        "# Print the results\n",
        "print(f'Precision: {np.mean(NB_precision)}')\n",
        "print(f'Recall: {np.mean(NB_recall)}')\n",
        "print(f'F-Measure: {np.mean(NB_f1)}')"
      ],
      "execution_count": 72,
      "outputs": [
        {
          "output_type": "stream",
          "text": [
            "Precision: 0.8650397146591043\n",
            "Recall: 0.9088183421516755\n",
            "F-Measure: 0.8862884377863345\n"
          ],
          "name": "stdout"
        }
      ]
    },
    {
      "cell_type": "markdown",
      "metadata": {
        "id": "rhhQxqGP5E32"
      },
      "source": [
        "#### K-Nearest Neighbors   "
      ]
    },
    {
      "cell_type": "code",
      "metadata": {
        "id": "EMYn1EsOZZ4y",
        "outputId": "47f21099-f53a-430d-e28d-585fa915dae2",
        "colab": {
          "base_uri": "https://localhost:8080/"
        }
      },
      "source": [
        "%%time\n",
        "\n",
        "kNN_precision = []\n",
        "kNN_recall = []\n",
        "kNN_f1 = []\n",
        "\n",
        "for train_index, test_index in SKfold.split(tfidf_df, S_set.labels):\n",
        "  X_train, X_test = tfidf_df.iloc[train_index,:], tfidf_df.iloc[test_index,:]\n",
        "  y_train, y_test = S_set.labels[train_index], S_set.labels[test_index]\n",
        "  \n",
        "  # Fit Classifier\n",
        "  clf = KNeighborsClassifier(n_neighbors = 2)    \n",
        "  # Train the model using the training sets\n",
        "  clf.fit(X_train,y_train)\n",
        "  # Predict Output\n",
        "  y_pred = clf.predict(X_test)\n",
        "  \n",
        "  # Evaluation\n",
        "  Precisions = precision_score(y_test, y_pred)\n",
        "  kNN_precision.append(Precisions)\n",
        "  Recalls = recall_score(y_test, y_pred)\n",
        "  kNN_recall.append(Recalls)\n",
        "  F_Measures = f1_score(y_test, y_pred)\n",
        "  kNN_f1.append(F_Measures)\n",
        "\n",
        "\n",
        "print(f'Precision: {np.mean(kNN_precision)}')\n",
        "print(f'Recall: {np.mean(kNN_recall)}')\n",
        "print(f'F-Measure: {np.mean(kNN_f1)}')"
      ],
      "execution_count": 75,
      "outputs": [
        {
          "output_type": "stream",
          "text": [
            "Precision: 0.9545462202040211\n",
            "Recall: 0.5656391381029062\n",
            "F-Measure: 0.7052383903643774\n",
            "CPU times: user 2min 42s, sys: 6.17 ms, total: 2min 42s\n",
            "Wall time: 2min 42s\n"
          ],
          "name": "stdout"
        }
      ]
    },
    {
      "cell_type": "markdown",
      "metadata": {
        "id": "ldZnthrJ4_Jv"
      },
      "source": [
        "#### Support Vector Machines (SVM)  \n",
        "  \n",
        "- The Kernel SVM is similar to the simple SNM, but the kernal SVM can use Gaussian, polynomial, sigmoid, or computable kernel.   \n",
        "  \n",
        "- I implement simple SVM cause the simple (linear) one help reduce the very too large computing burdens, and the performance I tried does return better than Gaussian or other Kernal SVM."
      ]
    },
    {
      "cell_type": "code",
      "metadata": {
        "id": "vD49INPZRtVQ",
        "outputId": "26301abb-8c17-4d0c-de8b-0f528b087ed9",
        "colab": {
          "base_uri": "https://localhost:8080/"
        }
      },
      "source": [
        "%%time\n",
        "\n",
        "SVM_precision = []\n",
        "SVM_recall = []\n",
        "SVM_f1 = []\n",
        "\n",
        "for train_index, test_index in SKfold.split(tfidf_df, S_set.labels):\n",
        "  X_train, X_test = tfidf_df.iloc[train_index,:], tfidf_df.iloc[test_index,:]\n",
        "  y_train, y_test = S_set.labels[train_index], S_set.labels[test_index]\n",
        "  \n",
        "  # Fit Classifier\n",
        "  clf = SVC(kernel = 'linear', gamma = 'auto', random_state = 13)\n",
        "  # Train the model using the training sets\n",
        "  clf.fit(X_train,y_train)\n",
        "  # Predict Output\n",
        "  y_pred = clf.predict(X_test)\n",
        "  \n",
        "  # Evaluation\n",
        "  Precisions = precision_score(y_test, y_pred)\n",
        "  SVM_precision.append(Precisions)\n",
        "  Recalls = recall_score(y_test, y_pred)\n",
        "  SVM_recall.append(Recalls)\n",
        "  F_Measures = f1_score(y_test, y_pred)\n",
        "  SVM_f1.append(F_Measures)\n",
        "\n",
        "print(f'Precision: {np.mean(SVM_precision)}')\n",
        "print(f'Recall: {np.mean(SVM_recall)}')\n",
        "print(f'F-Measure: {np.mean(SVM_f1)}')"
      ],
      "execution_count": 79,
      "outputs": [
        {
          "output_type": "stream",
          "text": [
            "Precision: 0.9160302608192825\n",
            "Recall: 0.9373667663522735\n",
            "F-Measure: 0.926434070308986\n",
            "CPU times: user 4min 3s, sys: 25.5 ms, total: 4min 3s\n",
            "Wall time: 4min 3s\n"
          ],
          "name": "stdout"
        }
      ]
    },
    {
      "cell_type": "markdown",
      "metadata": {
        "id": "LK2-3IrrEtve"
      },
      "source": [
        "#### Bagging  \n",
        "\n",
        "- In Bagging algorithm, the number of decision trees used is an important parameter. Usually, the number of trees is increased until the model performance becomes stable. The natural of this learning algorithm is immune to overfitting when more trees is tuned. The number of trees can be set via \"n_estimators\", the default setting is 100.  "
      ]
    },
    {
      "cell_type": "code",
      "metadata": {
        "id": "YtgXgMBwotx2",
        "outputId": "9ec0b371-b9c2-4bb6-fadf-972552237167",
        "colab": {
          "base_uri": "https://localhost:8080/"
        }
      },
      "source": [
        "%%time \n",
        "\n",
        "# Fit Bagging\n",
        "clf = BaggingClassifier(max_samples=0.5, bootstrap=False)\n",
        "\n",
        "# Evaluation\n",
        "Bag_precision = cross_val_score(clf, tfidf_df, S_set.labels, cv = SKfold, \n",
        "                                scoring = 'precision')\n",
        "Bag_recall = cross_val_score(clf, tfidf_df, S_set.labels, cv = SKfold, \n",
        "                             scoring = 'recall')\n",
        "Bag_f1 = cross_val_score(clf, tfidf_df, S_set.labels, cv = SKfold, \n",
        "                         scoring = 'f1')\n",
        "\n",
        "# Print the results\n",
        "print(f'Precision: {np.mean(Bag_precision)}')\n",
        "print(f'Recall: {np.mean(Bag_recall)}')\n",
        "print(f'F-Measure: {np.mean(Bag_f1)}')"
      ],
      "execution_count": 84,
      "outputs": [
        {
          "output_type": "stream",
          "text": [
            "Precision: 0.9074754405542726\n",
            "Recall: 0.9249674104746568\n",
            "F-Measure: 0.9183167223570059\n",
            "CPU times: user 2min 8s, sys: 1.56 s, total: 2min 10s\n",
            "Wall time: 2min 10s\n"
          ],
          "name": "stdout"
        }
      ]
    },
    {
      "cell_type": "markdown",
      "metadata": {
        "id": "_vcaCleaFqcS"
      },
      "source": [
        "#### Boosting  \n",
        "  \n",
        "- In addition to focus on high quality prediction as most Machine Learning models do so, boosting algorithms aim to improve the prediction power by training a sequence of weak model. Each model compensates the weaknesses of its predecessors.   \n",
        "- Among boosting algorithms, I tried `Gradient Boosting Regressor` and `Ada Boost Classifier`. The performance in Ada Boost is valid while the Gradient can't be fitted properly since the Gradient is a non-parametric statistical learning technique.  "
      ]
    },
    {
      "cell_type": "code",
      "metadata": {
        "id": "_oV-1WTzCWyo",
        "outputId": "fcb6fa0a-5bcf-447f-b809-c6333b009f12",
        "colab": {
          "base_uri": "https://localhost:8080/"
        }
      },
      "source": [
        "%%time \n",
        "\n",
        "# Fit Boosting\n",
        "clf = AdaBoostClassifier(random_state=1) # n_estimators=100, learning_rate = 0.5\n",
        "\n",
        "# Evaluation\n",
        "Bst_precision = cross_val_score(clf, tfidf_df, S_set.labels, cv = SKfold, \n",
        "                                scoring = 'precision')\n",
        "Bst_recall = cross_val_score(clf, tfidf_df, S_set.labels, cv = SKfold, \n",
        "                             scoring = 'recall')\n",
        "Bst_f1 = cross_val_score(clf, tfidf_df, S_set.labels, cv = SKfold, \n",
        "                         scoring = 'f1')\n",
        "\n",
        "# Print the results\n",
        "print(f'Precision: {np.mean(Bst_precision)}')\n",
        "print(f'Recall: {np.mean(Bst_recall)}')\n",
        "print(f'F-Measure: {np.mean(Bst_f1)}')"
      ],
      "execution_count": 87,
      "outputs": [
        {
          "output_type": "stream",
          "text": [
            "Precision: 0.9431285974596051\n",
            "Recall: 0.9044973544973545\n",
            "F-Measure: 0.9230999539605923\n",
            "CPU times: user 2min 47s, sys: 112 ms, total: 2min 47s\n",
            "Wall time: 2min 47s\n"
          ],
          "name": "stdout"
        }
      ]
    },
    {
      "cell_type": "markdown",
      "metadata": {
        "id": "QrGCzzjy5uJ8"
      },
      "source": [
        "Reference:     \n",
        "  \n",
        "Naive Bayes https://stats.stackexchange.com/questions/258458/bernoulli-nb-vs-multinomial-nb-how-to-choose-among-different-nb-algorithms  \n",
        "kNN https://stackabuse.com/k-nearest-neighbors-algorithm-in-python-and-scikit-learn/     \n",
        "SBM https://stackabuse.com/implementing-svm-and-kernel-svm-with-pythons-scikit-learn/    \n",
        "Bagging https://machinelearningmastery.com/bagging-ensemble-with-python/  \n",
        "Ada Boost Classifier https://scikit-learn.org/stable/modules/generated/sklearn.ensemble.AdaBoostClassifier.html#sklearn.ensemble.AdaBoostClassifier   \n",
        "Boosting https://towardsdatascience.com/boosting-algorithms-explained-d38f56ef3f30  \n",
        "Define Overfitting https://shankarmsy.github.io/stories/gbrt-sklearn.html    "
      ]
    },
    {
      "cell_type": "markdown",
      "metadata": {
        "id": "UkL3fShLxGsX"
      },
      "source": [
        "### 3) Evaluation    \n",
        "  \n",
        "Precision-Recall is a useful measure of success of prediction when the classes are very imbalanced. This evaluation methods are typically used in binary classification to study the output of a classifier.   \n",
        "   \n",
        "High scores for precision and recall show that the classifier is returning accurate results (high precision), as well as a majority of all positive results (high recall).\n",
        "\n",
        "Besides, the F1-Measure can be interpreted as a weighted average of the precision and recall. When F1-Measure reaches its best value at 1 and worst score at 0. The relative contribution of precision and recall to the F1-Measure are equal.  \n",
        "\n",
        "The situation of `high recall but low precision` returns many results, but most of its predicted labels are incorrect when compared to the training labels. While a system with `high precision but low recall` is just the opposite, returning very few results, but most of its predicted labels are correct when compared to the training labels. The ideal system with high precision and high recall will return many results, with all results labeled correctly."
      ]
    },
    {
      "cell_type": "markdown",
      "metadata": {
        "id": "v5nRJmyR8NGO"
      },
      "source": [
        "#### Precision  \n",
        "  \n",
        "The precision is a measure of result relevancy.\n",
        "\n"
      ]
    },
    {
      "cell_type": "code",
      "metadata": {
        "id": "qPjpF00GFnap",
        "outputId": "b0448d6f-c4e8-477d-972c-1673795fad04",
        "colab": {
          "base_uri": "https://localhost:8080/",
          "height": 359
        }
      },
      "source": [
        "Precisions = pd.DataFrame([DT_precision, MLP_precision, NB_precision, kNN_precision,\n",
        "                           SVM_precision, Bag_precision, Bst_precision],\n",
        "                          index = ['DT', 'MLP', 'NB', 'kNN', 'SVM', 'Bag', 'Bst'])\n",
        "# A table of precisions with 7 classifiers in 10-folds\n",
        "Precisions.transpose()"
      ],
      "execution_count": 167,
      "outputs": [
        {
          "output_type": "execute_result",
          "data": {
            "text/html": [
              "<div>\n",
              "<style scoped>\n",
              "    .dataframe tbody tr th:only-of-type {\n",
              "        vertical-align: middle;\n",
              "    }\n",
              "\n",
              "    .dataframe tbody tr th {\n",
              "        vertical-align: top;\n",
              "    }\n",
              "\n",
              "    .dataframe thead th {\n",
              "        text-align: right;\n",
              "    }\n",
              "</style>\n",
              "<table border=\"1\" class=\"dataframe\">\n",
              "  <thead>\n",
              "    <tr style=\"text-align: right;\">\n",
              "      <th></th>\n",
              "      <th>DT</th>\n",
              "      <th>MLP</th>\n",
              "      <th>NB</th>\n",
              "      <th>kNN</th>\n",
              "      <th>SVM</th>\n",
              "      <th>Bag</th>\n",
              "      <th>Bst</th>\n",
              "    </tr>\n",
              "  </thead>\n",
              "  <tbody>\n",
              "    <tr>\n",
              "      <th>0</th>\n",
              "      <td>0.918429</td>\n",
              "      <td>0.894410</td>\n",
              "      <td>0.890909</td>\n",
              "      <td>0.730769</td>\n",
              "      <td>0.913580</td>\n",
              "      <td>0.914110</td>\n",
              "      <td>0.905660</td>\n",
              "    </tr>\n",
              "    <tr>\n",
              "      <th>1</th>\n",
              "      <td>0.907463</td>\n",
              "      <td>0.891641</td>\n",
              "      <td>0.881459</td>\n",
              "      <td>0.627119</td>\n",
              "      <td>0.933333</td>\n",
              "      <td>0.913433</td>\n",
              "      <td>0.905660</td>\n",
              "    </tr>\n",
              "    <tr>\n",
              "      <th>2</th>\n",
              "      <td>0.921212</td>\n",
              "      <td>0.913580</td>\n",
              "      <td>0.913433</td>\n",
              "      <td>0.748092</td>\n",
              "      <td>0.933735</td>\n",
              "      <td>0.924471</td>\n",
              "      <td>0.931250</td>\n",
              "    </tr>\n",
              "    <tr>\n",
              "      <th>3</th>\n",
              "      <td>0.896142</td>\n",
              "      <td>0.866873</td>\n",
              "      <td>0.845921</td>\n",
              "      <td>0.703125</td>\n",
              "      <td>0.909639</td>\n",
              "      <td>0.892857</td>\n",
              "      <td>0.919255</td>\n",
              "    </tr>\n",
              "    <tr>\n",
              "      <th>4</th>\n",
              "      <td>0.920732</td>\n",
              "      <td>0.895899</td>\n",
              "      <td>0.892308</td>\n",
              "      <td>0.693227</td>\n",
              "      <td>0.922118</td>\n",
              "      <td>0.907407</td>\n",
              "      <td>0.940063</td>\n",
              "    </tr>\n",
              "    <tr>\n",
              "      <th>5</th>\n",
              "      <td>0.928793</td>\n",
              "      <td>0.910769</td>\n",
              "      <td>0.900302</td>\n",
              "      <td>0.698039</td>\n",
              "      <td>0.938650</td>\n",
              "      <td>0.932099</td>\n",
              "      <td>0.934579</td>\n",
              "    </tr>\n",
              "    <tr>\n",
              "      <th>6</th>\n",
              "      <td>0.919753</td>\n",
              "      <td>0.873786</td>\n",
              "      <td>0.893617</td>\n",
              "      <td>0.650407</td>\n",
              "      <td>0.935780</td>\n",
              "      <td>0.923547</td>\n",
              "      <td>0.917722</td>\n",
              "    </tr>\n",
              "    <tr>\n",
              "      <th>7</th>\n",
              "      <td>0.905063</td>\n",
              "      <td>0.885449</td>\n",
              "      <td>0.869822</td>\n",
              "      <td>0.674699</td>\n",
              "      <td>0.910769</td>\n",
              "      <td>0.916409</td>\n",
              "      <td>0.916667</td>\n",
              "    </tr>\n",
              "    <tr>\n",
              "      <th>8</th>\n",
              "      <td>0.918750</td>\n",
              "      <td>0.890282</td>\n",
              "      <td>0.889571</td>\n",
              "      <td>0.841424</td>\n",
              "      <td>0.925926</td>\n",
              "      <td>0.925926</td>\n",
              "      <td>0.928105</td>\n",
              "    </tr>\n",
              "    <tr>\n",
              "      <th>9</th>\n",
              "      <td>0.924528</td>\n",
              "      <td>0.877888</td>\n",
              "      <td>0.885542</td>\n",
              "      <td>0.685484</td>\n",
              "      <td>0.940810</td>\n",
              "      <td>0.932907</td>\n",
              "      <td>0.932039</td>\n",
              "    </tr>\n",
              "  </tbody>\n",
              "</table>\n",
              "</div>"
            ],
            "text/plain": [
              "         DT       MLP        NB       kNN       SVM       Bag       Bst\n",
              "0  0.918429  0.894410  0.890909  0.730769  0.913580  0.914110  0.905660\n",
              "1  0.907463  0.891641  0.881459  0.627119  0.933333  0.913433  0.905660\n",
              "2  0.921212  0.913580  0.913433  0.748092  0.933735  0.924471  0.931250\n",
              "3  0.896142  0.866873  0.845921  0.703125  0.909639  0.892857  0.919255\n",
              "4  0.920732  0.895899  0.892308  0.693227  0.922118  0.907407  0.940063\n",
              "5  0.928793  0.910769  0.900302  0.698039  0.938650  0.932099  0.934579\n",
              "6  0.919753  0.873786  0.893617  0.650407  0.935780  0.923547  0.917722\n",
              "7  0.905063  0.885449  0.869822  0.674699  0.910769  0.916409  0.916667\n",
              "8  0.918750  0.890282  0.889571  0.841424  0.925926  0.925926  0.928105\n",
              "9  0.924528  0.877888  0.885542  0.685484  0.940810  0.932907  0.932039"
            ]
          },
          "metadata": {
            "tags": []
          },
          "execution_count": 167
        }
      ]
    },
    {
      "cell_type": "markdown",
      "metadata": {
        "id": "WNNOCU0kQ1AI"
      },
      "source": [
        "- According to the `Friedman's test` for Precisions, the p-value = 1.68e-08 is very small. We have sufficient evidence to reject the null hypothesis that different classifiers have the same precisions."
      ]
    },
    {
      "cell_type": "code",
      "metadata": {
        "id": "j6iZi5njFqrS",
        "outputId": "630d6904-82ec-4093-9f96-2c8c332648d1",
        "colab": {
          "base_uri": "https://localhost:8080/"
        }
      },
      "source": [
        "# Transpose the matrix to be 7 classifiers by 10-folds\n",
        "print(*np.array(Precisions).shape)\n",
        "# Friedman test\n",
        "ss.friedmanchisquare(*np.array(Precisions))"
      ],
      "execution_count": 179,
      "outputs": [
        {
          "output_type": "execute_result",
          "data": {
            "text/plain": [
              "FriedmanchisquareResult(statistic=47.225806451612925, pvalue=1.6867799453547035e-08)"
            ]
          },
          "metadata": {
            "tags": []
          },
          "execution_count": 179
        }
      ]
    },
    {
      "cell_type": "markdown",
      "metadata": {
        "id": "dwxTEgiORqfs"
      },
      "source": [
        "- The `Nemenyi multiple comparison test` identifies the difference between classifiers. The relationships between these classifiers are highly significant (p-value < 0.01):    \n",
        "  - K-Nearest Neighbors v.s. Decision Trees, MLP, NB, and Bagging;   \n",
        "  - Boosting v.s. Decision Trees, MLP, and Naive Bayes.    \n",
        "\n",
        "\n"
      ]
    },
    {
      "cell_type": "code",
      "metadata": {
        "id": "XAQNAamkSX8I",
        "outputId": "a7d94ad2-dedc-4d53-962e-0cd8a95c7898",
        "colab": {
          "base_uri": "https://localhost:8080/",
          "height": 266
        }
      },
      "source": [
        "# Nemenyi test\n",
        "sp.posthoc_nemenyi_friedman(Precisions.transpose())"
      ],
      "execution_count": 180,
      "outputs": [
        {
          "output_type": "execute_result",
          "data": {
            "text/html": [
              "<div>\n",
              "<style scoped>\n",
              "    .dataframe tbody tr th:only-of-type {\n",
              "        vertical-align: middle;\n",
              "    }\n",
              "\n",
              "    .dataframe tbody tr th {\n",
              "        vertical-align: top;\n",
              "    }\n",
              "\n",
              "    .dataframe thead th {\n",
              "        text-align: right;\n",
              "    }\n",
              "</style>\n",
              "<table border=\"1\" class=\"dataframe\">\n",
              "  <thead>\n",
              "    <tr style=\"text-align: right;\">\n",
              "      <th></th>\n",
              "      <th>DT</th>\n",
              "      <th>MLP</th>\n",
              "      <th>NB</th>\n",
              "      <th>kNN</th>\n",
              "      <th>SVM</th>\n",
              "      <th>Bag</th>\n",
              "      <th>Bst</th>\n",
              "    </tr>\n",
              "  </thead>\n",
              "  <tbody>\n",
              "    <tr>\n",
              "      <th>DT</th>\n",
              "      <td>1.000000</td>\n",
              "      <td>0.900000</td>\n",
              "      <td>0.254909</td>\n",
              "      <td>0.011348</td>\n",
              "      <td>0.686522</td>\n",
              "      <td>0.900000</td>\n",
              "      <td>0.042827</td>\n",
              "    </tr>\n",
              "    <tr>\n",
              "      <th>MLP</th>\n",
              "      <td>0.900000</td>\n",
              "      <td>1.000000</td>\n",
              "      <td>0.309857</td>\n",
              "      <td>0.007884</td>\n",
              "      <td>0.625655</td>\n",
              "      <td>0.900000</td>\n",
              "      <td>0.031341</td>\n",
              "    </tr>\n",
              "    <tr>\n",
              "      <th>NB</th>\n",
              "      <td>0.254909</td>\n",
              "      <td>0.309857</td>\n",
              "      <td>1.000000</td>\n",
              "      <td>0.001000</td>\n",
              "      <td>0.002458</td>\n",
              "      <td>0.165019</td>\n",
              "      <td>0.001000</td>\n",
              "    </tr>\n",
              "    <tr>\n",
              "      <th>kNN</th>\n",
              "      <td>0.011348</td>\n",
              "      <td>0.007884</td>\n",
              "      <td>0.001000</td>\n",
              "      <td>1.000000</td>\n",
              "      <td>0.503923</td>\n",
              "      <td>0.022624</td>\n",
              "      <td>0.900000</td>\n",
              "    </tr>\n",
              "    <tr>\n",
              "      <th>SVM</th>\n",
              "      <td>0.686522</td>\n",
              "      <td>0.625655</td>\n",
              "      <td>0.002458</td>\n",
              "      <td>0.503923</td>\n",
              "      <td>1.000000</td>\n",
              "      <td>0.808251</td>\n",
              "      <td>0.747387</td>\n",
              "    </tr>\n",
              "    <tr>\n",
              "      <th>Bag</th>\n",
              "      <td>0.900000</td>\n",
              "      <td>0.900000</td>\n",
              "      <td>0.165019</td>\n",
              "      <td>0.022624</td>\n",
              "      <td>0.808251</td>\n",
              "      <td>1.000000</td>\n",
              "      <td>0.076892</td>\n",
              "    </tr>\n",
              "    <tr>\n",
              "      <th>Bst</th>\n",
              "      <td>0.042827</td>\n",
              "      <td>0.031341</td>\n",
              "      <td>0.001000</td>\n",
              "      <td>0.900000</td>\n",
              "      <td>0.747387</td>\n",
              "      <td>0.076892</td>\n",
              "      <td>1.000000</td>\n",
              "    </tr>\n",
              "  </tbody>\n",
              "</table>\n",
              "</div>"
            ],
            "text/plain": [
              "           DT       MLP        NB       kNN       SVM       Bag       Bst\n",
              "DT   1.000000  0.900000  0.254909  0.011348  0.686522  0.900000  0.042827\n",
              "MLP  0.900000  1.000000  0.309857  0.007884  0.625655  0.900000  0.031341\n",
              "NB   0.254909  0.309857  1.000000  0.001000  0.002458  0.165019  0.001000\n",
              "kNN  0.011348  0.007884  0.001000  1.000000  0.503923  0.022624  0.900000\n",
              "SVM  0.686522  0.625655  0.002458  0.503923  1.000000  0.808251  0.747387\n",
              "Bag  0.900000  0.900000  0.165019  0.022624  0.808251  1.000000  0.076892\n",
              "Bst  0.042827  0.031341  0.001000  0.900000  0.747387  0.076892  1.000000"
            ]
          },
          "metadata": {
            "tags": []
          },
          "execution_count": 180
        }
      ]
    },
    {
      "cell_type": "markdown",
      "metadata": {
        "id": "g1q0OMCaFrPt"
      },
      "source": [
        "#### Recall  \n",
        "  \n",
        "Recall is a measure of how many truly relevant results are returned."
      ]
    },
    {
      "cell_type": "code",
      "metadata": {
        "id": "COsPdyBAFtX2",
        "outputId": "5a2158a4-665c-401b-e49b-c4174f245ecd",
        "colab": {
          "base_uri": "https://localhost:8080/",
          "height": 359
        }
      },
      "source": [
        "Recalls = pd.DataFrame([DT_recall, MLP_recall, NB_recall, kNN_recall,\n",
        "                        SVM_recall, Bag_recall, Bst_recall],\n",
        "                       index = ['DT', 'MLP', 'NB', 'kNN', 'SVM', 'Bag', 'Bst'])\n",
        "# A table of recalls with 7 classifiers in 10-folds\n",
        "Recalls.transpose()"
      ],
      "execution_count": 176,
      "outputs": [
        {
          "output_type": "execute_result",
          "data": {
            "text/html": [
              "<div>\n",
              "<style scoped>\n",
              "    .dataframe tbody tr th:only-of-type {\n",
              "        vertical-align: middle;\n",
              "    }\n",
              "\n",
              "    .dataframe tbody tr th {\n",
              "        vertical-align: top;\n",
              "    }\n",
              "\n",
              "    .dataframe thead th {\n",
              "        text-align: right;\n",
              "    }\n",
              "</style>\n",
              "<table border=\"1\" class=\"dataframe\">\n",
              "  <thead>\n",
              "    <tr style=\"text-align: right;\">\n",
              "      <th></th>\n",
              "      <th>DT</th>\n",
              "      <th>MLP</th>\n",
              "      <th>NB</th>\n",
              "      <th>kNN</th>\n",
              "      <th>SVM</th>\n",
              "      <th>Bag</th>\n",
              "      <th>Bst</th>\n",
              "    </tr>\n",
              "  </thead>\n",
              "  <tbody>\n",
              "    <tr>\n",
              "      <th>0</th>\n",
              "      <td>0.956522</td>\n",
              "      <td>0.894410</td>\n",
              "      <td>0.913043</td>\n",
              "      <td>0.590062</td>\n",
              "      <td>0.919255</td>\n",
              "      <td>0.944099</td>\n",
              "      <td>0.894410</td>\n",
              "    </tr>\n",
              "    <tr>\n",
              "      <th>1</th>\n",
              "      <td>0.950311</td>\n",
              "      <td>0.894410</td>\n",
              "      <td>0.900621</td>\n",
              "      <td>0.459627</td>\n",
              "      <td>0.956522</td>\n",
              "      <td>0.962733</td>\n",
              "      <td>0.894410</td>\n",
              "    </tr>\n",
              "    <tr>\n",
              "      <th>2</th>\n",
              "      <td>0.931677</td>\n",
              "      <td>0.919255</td>\n",
              "      <td>0.950311</td>\n",
              "      <td>0.608696</td>\n",
              "      <td>0.962733</td>\n",
              "      <td>0.944099</td>\n",
              "      <td>0.925466</td>\n",
              "    </tr>\n",
              "    <tr>\n",
              "      <th>3</th>\n",
              "      <td>0.931677</td>\n",
              "      <td>0.869565</td>\n",
              "      <td>0.869565</td>\n",
              "      <td>0.559006</td>\n",
              "      <td>0.937888</td>\n",
              "      <td>0.931677</td>\n",
              "      <td>0.919255</td>\n",
              "    </tr>\n",
              "    <tr>\n",
              "      <th>4</th>\n",
              "      <td>0.925466</td>\n",
              "      <td>0.881988</td>\n",
              "      <td>0.900621</td>\n",
              "      <td>0.540373</td>\n",
              "      <td>0.919255</td>\n",
              "      <td>0.906832</td>\n",
              "      <td>0.925466</td>\n",
              "    </tr>\n",
              "    <tr>\n",
              "      <th>5</th>\n",
              "      <td>0.931677</td>\n",
              "      <td>0.919255</td>\n",
              "      <td>0.925466</td>\n",
              "      <td>0.552795</td>\n",
              "      <td>0.950311</td>\n",
              "      <td>0.944099</td>\n",
              "      <td>0.931677</td>\n",
              "    </tr>\n",
              "    <tr>\n",
              "      <th>6</th>\n",
              "      <td>0.931677</td>\n",
              "      <td>0.838509</td>\n",
              "      <td>0.913043</td>\n",
              "      <td>0.496894</td>\n",
              "      <td>0.950311</td>\n",
              "      <td>0.906832</td>\n",
              "      <td>0.900621</td>\n",
              "    </tr>\n",
              "    <tr>\n",
              "      <th>7</th>\n",
              "      <td>0.895062</td>\n",
              "      <td>0.882716</td>\n",
              "      <td>0.907407</td>\n",
              "      <td>0.518519</td>\n",
              "      <td>0.913580</td>\n",
              "      <td>0.901235</td>\n",
              "      <td>0.882716</td>\n",
              "    </tr>\n",
              "    <tr>\n",
              "      <th>8</th>\n",
              "      <td>0.907407</td>\n",
              "      <td>0.876543</td>\n",
              "      <td>0.895062</td>\n",
              "      <td>0.802469</td>\n",
              "      <td>0.925926</td>\n",
              "      <td>0.901235</td>\n",
              "      <td>0.876543</td>\n",
              "    </tr>\n",
              "    <tr>\n",
              "      <th>9</th>\n",
              "      <td>0.906832</td>\n",
              "      <td>0.826087</td>\n",
              "      <td>0.913043</td>\n",
              "      <td>0.527950</td>\n",
              "      <td>0.937888</td>\n",
              "      <td>0.906832</td>\n",
              "      <td>0.894410</td>\n",
              "    </tr>\n",
              "  </tbody>\n",
              "</table>\n",
              "</div>"
            ],
            "text/plain": [
              "         DT       MLP        NB       kNN       SVM       Bag       Bst\n",
              "0  0.956522  0.894410  0.913043  0.590062  0.919255  0.944099  0.894410\n",
              "1  0.950311  0.894410  0.900621  0.459627  0.956522  0.962733  0.894410\n",
              "2  0.931677  0.919255  0.950311  0.608696  0.962733  0.944099  0.925466\n",
              "3  0.931677  0.869565  0.869565  0.559006  0.937888  0.931677  0.919255\n",
              "4  0.925466  0.881988  0.900621  0.540373  0.919255  0.906832  0.925466\n",
              "5  0.931677  0.919255  0.925466  0.552795  0.950311  0.944099  0.931677\n",
              "6  0.931677  0.838509  0.913043  0.496894  0.950311  0.906832  0.900621\n",
              "7  0.895062  0.882716  0.907407  0.518519  0.913580  0.901235  0.882716\n",
              "8  0.907407  0.876543  0.895062  0.802469  0.925926  0.901235  0.876543\n",
              "9  0.906832  0.826087  0.913043  0.527950  0.937888  0.906832  0.894410"
            ]
          },
          "metadata": {
            "tags": []
          },
          "execution_count": 176
        }
      ]
    },
    {
      "cell_type": "markdown",
      "metadata": {
        "id": "rHSzPFr4r-Xf"
      },
      "source": [
        "- The Friedman's test in Recalls, it is significant to reject the null hypothesis that different classifiers have the same recall with a very small p-value = 1.32e-08."
      ]
    },
    {
      "cell_type": "code",
      "metadata": {
        "id": "1_xvsPpyh0O5",
        "outputId": "64e09fd1-ac87-4300-ed0a-f585b1c6adf4",
        "colab": {
          "base_uri": "https://localhost:8080/"
        }
      },
      "source": [
        "# Friedman test\n",
        "ss.friedmanchisquare(*np.array(Recalls))"
      ],
      "execution_count": 181,
      "outputs": [
        {
          "output_type": "execute_result",
          "data": {
            "text/plain": [
              "FriedmanchisquareResult(statistic=47.7495462794918, pvalue=1.3258895535557776e-08)"
            ]
          },
          "metadata": {
            "tags": []
          },
          "execution_count": 181
        }
      ]
    },
    {
      "cell_type": "markdown",
      "metadata": {
        "id": "uJ-rabVNsVrZ"
      },
      "source": [
        "- The Nemenyi multiple comparison test identifies the kNN to Decision Trees, Naive Bayes, SVM, and Bagging are strongly significant (p-value < 0.01)."
      ]
    },
    {
      "cell_type": "code",
      "metadata": {
        "id": "BhboVM4jh6wh",
        "outputId": "0d71381c-ccf8-434f-9e49-089fdf5b0c70",
        "colab": {
          "base_uri": "https://localhost:8080/",
          "height": 266
        }
      },
      "source": [
        "# Nemenyi test\n",
        "sp.posthoc_nemenyi_friedman(Recalls.transpose())"
      ],
      "execution_count": 182,
      "outputs": [
        {
          "output_type": "execute_result",
          "data": {
            "text/html": [
              "<div>\n",
              "<style scoped>\n",
              "    .dataframe tbody tr th:only-of-type {\n",
              "        vertical-align: middle;\n",
              "    }\n",
              "\n",
              "    .dataframe tbody tr th {\n",
              "        vertical-align: top;\n",
              "    }\n",
              "\n",
              "    .dataframe thead th {\n",
              "        text-align: right;\n",
              "    }\n",
              "</style>\n",
              "<table border=\"1\" class=\"dataframe\">\n",
              "  <thead>\n",
              "    <tr style=\"text-align: right;\">\n",
              "      <th></th>\n",
              "      <th>DT</th>\n",
              "      <th>MLP</th>\n",
              "      <th>NB</th>\n",
              "      <th>kNN</th>\n",
              "      <th>SVM</th>\n",
              "      <th>Bag</th>\n",
              "      <th>Bst</th>\n",
              "    </tr>\n",
              "  </thead>\n",
              "  <tbody>\n",
              "    <tr>\n",
              "      <th>DT</th>\n",
              "      <td>1.000000</td>\n",
              "      <td>0.026662</td>\n",
              "      <td>0.900000</td>\n",
              "      <td>0.001000</td>\n",
              "      <td>0.869118</td>\n",
              "      <td>0.900000</td>\n",
              "      <td>0.438420</td>\n",
              "    </tr>\n",
              "    <tr>\n",
              "      <th>MLP</th>\n",
              "      <td>0.026662</td>\n",
              "      <td>1.000000</td>\n",
              "      <td>0.309857</td>\n",
              "      <td>0.838686</td>\n",
              "      <td>0.001000</td>\n",
              "      <td>0.036707</td>\n",
              "      <td>0.899551</td>\n",
              "    </tr>\n",
              "    <tr>\n",
              "      <th>NB</th>\n",
              "      <td>0.900000</td>\n",
              "      <td>0.309857</td>\n",
              "      <td>1.000000</td>\n",
              "      <td>0.009472</td>\n",
              "      <td>0.281728</td>\n",
              "      <td>0.900000</td>\n",
              "      <td>0.900000</td>\n",
              "    </tr>\n",
              "    <tr>\n",
              "      <th>kNN</th>\n",
              "      <td>0.001000</td>\n",
              "      <td>0.838686</td>\n",
              "      <td>0.009472</td>\n",
              "      <td>1.000000</td>\n",
              "      <td>0.001000</td>\n",
              "      <td>0.001000</td>\n",
              "      <td>0.165019</td>\n",
              "    </tr>\n",
              "    <tr>\n",
              "      <th>SVM</th>\n",
              "      <td>0.869118</td>\n",
              "      <td>0.001000</td>\n",
              "      <td>0.281728</td>\n",
              "      <td>0.001000</td>\n",
              "      <td>1.000000</td>\n",
              "      <td>0.808251</td>\n",
              "      <td>0.022624</td>\n",
              "    </tr>\n",
              "    <tr>\n",
              "      <th>Bag</th>\n",
              "      <td>0.900000</td>\n",
              "      <td>0.036707</td>\n",
              "      <td>0.900000</td>\n",
              "      <td>0.001000</td>\n",
              "      <td>0.808251</td>\n",
              "      <td>1.000000</td>\n",
              "      <td>0.503923</td>\n",
              "    </tr>\n",
              "    <tr>\n",
              "      <th>Bst</th>\n",
              "      <td>0.438420</td>\n",
              "      <td>0.899551</td>\n",
              "      <td>0.900000</td>\n",
              "      <td>0.165019</td>\n",
              "      <td>0.022624</td>\n",
              "      <td>0.503923</td>\n",
              "      <td>1.000000</td>\n",
              "    </tr>\n",
              "  </tbody>\n",
              "</table>\n",
              "</div>"
            ],
            "text/plain": [
              "           DT       MLP        NB       kNN       SVM       Bag       Bst\n",
              "DT   1.000000  0.026662  0.900000  0.001000  0.869118  0.900000  0.438420\n",
              "MLP  0.026662  1.000000  0.309857  0.838686  0.001000  0.036707  0.899551\n",
              "NB   0.900000  0.309857  1.000000  0.009472  0.281728  0.900000  0.900000\n",
              "kNN  0.001000  0.838686  0.009472  1.000000  0.001000  0.001000  0.165019\n",
              "SVM  0.869118  0.001000  0.281728  0.001000  1.000000  0.808251  0.022624\n",
              "Bag  0.900000  0.036707  0.900000  0.001000  0.808251  1.000000  0.503923\n",
              "Bst  0.438420  0.899551  0.900000  0.165019  0.022624  0.503923  1.000000"
            ]
          },
          "metadata": {
            "tags": []
          },
          "execution_count": 182
        }
      ]
    },
    {
      "cell_type": "markdown",
      "metadata": {
        "id": "5Fr9SN0MEutR"
      },
      "source": [
        "#### F1-Measure"
      ]
    },
    {
      "cell_type": "code",
      "metadata": {
        "id": "eqEEwVszLUsA",
        "outputId": "fc87baaa-da86-4c50-bb38-e21c452d7588",
        "colab": {
          "base_uri": "https://localhost:8080/",
          "height": 359
        }
      },
      "source": [
        "F1_scores = pd.DataFrame([DT_f1, MLP_f1, NB_f1, kNN_f1, SVM_f1, Bag_f1, Bst_f1],\n",
        "                         index = ['DT', 'MLP', 'NB', 'kNN', 'SVM', 'Bag', 'Bst'])\n",
        "# A table of f1-measure with 7 classifiers in 10-folds\n",
        "F1_scores.transpose()"
      ],
      "execution_count": 173,
      "outputs": [
        {
          "output_type": "execute_result",
          "data": {
            "text/html": [
              "<div>\n",
              "<style scoped>\n",
              "    .dataframe tbody tr th:only-of-type {\n",
              "        vertical-align: middle;\n",
              "    }\n",
              "\n",
              "    .dataframe tbody tr th {\n",
              "        vertical-align: top;\n",
              "    }\n",
              "\n",
              "    .dataframe thead th {\n",
              "        text-align: right;\n",
              "    }\n",
              "</style>\n",
              "<table border=\"1\" class=\"dataframe\">\n",
              "  <thead>\n",
              "    <tr style=\"text-align: right;\">\n",
              "      <th></th>\n",
              "      <th>DT</th>\n",
              "      <th>MLP</th>\n",
              "      <th>NB</th>\n",
              "      <th>kNN</th>\n",
              "      <th>SVM</th>\n",
              "      <th>Bag</th>\n",
              "      <th>Bst</th>\n",
              "    </tr>\n",
              "  </thead>\n",
              "  <tbody>\n",
              "    <tr>\n",
              "      <th>0</th>\n",
              "      <td>0.918429</td>\n",
              "      <td>0.894410</td>\n",
              "      <td>0.890909</td>\n",
              "      <td>0.730769</td>\n",
              "      <td>0.913580</td>\n",
              "      <td>0.914110</td>\n",
              "      <td>0.905660</td>\n",
              "    </tr>\n",
              "    <tr>\n",
              "      <th>1</th>\n",
              "      <td>0.907463</td>\n",
              "      <td>0.891641</td>\n",
              "      <td>0.881459</td>\n",
              "      <td>0.627119</td>\n",
              "      <td>0.933333</td>\n",
              "      <td>0.913433</td>\n",
              "      <td>0.905660</td>\n",
              "    </tr>\n",
              "    <tr>\n",
              "      <th>2</th>\n",
              "      <td>0.921212</td>\n",
              "      <td>0.913580</td>\n",
              "      <td>0.913433</td>\n",
              "      <td>0.748092</td>\n",
              "      <td>0.933735</td>\n",
              "      <td>0.924471</td>\n",
              "      <td>0.931250</td>\n",
              "    </tr>\n",
              "    <tr>\n",
              "      <th>3</th>\n",
              "      <td>0.896142</td>\n",
              "      <td>0.866873</td>\n",
              "      <td>0.845921</td>\n",
              "      <td>0.703125</td>\n",
              "      <td>0.909639</td>\n",
              "      <td>0.892857</td>\n",
              "      <td>0.919255</td>\n",
              "    </tr>\n",
              "    <tr>\n",
              "      <th>4</th>\n",
              "      <td>0.920732</td>\n",
              "      <td>0.895899</td>\n",
              "      <td>0.892308</td>\n",
              "      <td>0.693227</td>\n",
              "      <td>0.922118</td>\n",
              "      <td>0.907407</td>\n",
              "      <td>0.940063</td>\n",
              "    </tr>\n",
              "    <tr>\n",
              "      <th>5</th>\n",
              "      <td>0.928793</td>\n",
              "      <td>0.910769</td>\n",
              "      <td>0.900302</td>\n",
              "      <td>0.698039</td>\n",
              "      <td>0.938650</td>\n",
              "      <td>0.932099</td>\n",
              "      <td>0.934579</td>\n",
              "    </tr>\n",
              "    <tr>\n",
              "      <th>6</th>\n",
              "      <td>0.919753</td>\n",
              "      <td>0.873786</td>\n",
              "      <td>0.893617</td>\n",
              "      <td>0.650407</td>\n",
              "      <td>0.935780</td>\n",
              "      <td>0.923547</td>\n",
              "      <td>0.917722</td>\n",
              "    </tr>\n",
              "    <tr>\n",
              "      <th>7</th>\n",
              "      <td>0.905063</td>\n",
              "      <td>0.885449</td>\n",
              "      <td>0.869822</td>\n",
              "      <td>0.674699</td>\n",
              "      <td>0.910769</td>\n",
              "      <td>0.916409</td>\n",
              "      <td>0.916667</td>\n",
              "    </tr>\n",
              "    <tr>\n",
              "      <th>8</th>\n",
              "      <td>0.918750</td>\n",
              "      <td>0.890282</td>\n",
              "      <td>0.889571</td>\n",
              "      <td>0.841424</td>\n",
              "      <td>0.925926</td>\n",
              "      <td>0.925926</td>\n",
              "      <td>0.928105</td>\n",
              "    </tr>\n",
              "    <tr>\n",
              "      <th>9</th>\n",
              "      <td>0.924528</td>\n",
              "      <td>0.877888</td>\n",
              "      <td>0.885542</td>\n",
              "      <td>0.685484</td>\n",
              "      <td>0.940810</td>\n",
              "      <td>0.932907</td>\n",
              "      <td>0.932039</td>\n",
              "    </tr>\n",
              "  </tbody>\n",
              "</table>\n",
              "</div>"
            ],
            "text/plain": [
              "         DT       MLP        NB       kNN       SVM       Bag       Bst\n",
              "0  0.918429  0.894410  0.890909  0.730769  0.913580  0.914110  0.905660\n",
              "1  0.907463  0.891641  0.881459  0.627119  0.933333  0.913433  0.905660\n",
              "2  0.921212  0.913580  0.913433  0.748092  0.933735  0.924471  0.931250\n",
              "3  0.896142  0.866873  0.845921  0.703125  0.909639  0.892857  0.919255\n",
              "4  0.920732  0.895899  0.892308  0.693227  0.922118  0.907407  0.940063\n",
              "5  0.928793  0.910769  0.900302  0.698039  0.938650  0.932099  0.934579\n",
              "6  0.919753  0.873786  0.893617  0.650407  0.935780  0.923547  0.917722\n",
              "7  0.905063  0.885449  0.869822  0.674699  0.910769  0.916409  0.916667\n",
              "8  0.918750  0.890282  0.889571  0.841424  0.925926  0.925926  0.928105\n",
              "9  0.924528  0.877888  0.885542  0.685484  0.940810  0.932907  0.932039"
            ]
          },
          "metadata": {
            "tags": []
          },
          "execution_count": 173
        }
      ]
    },
    {
      "cell_type": "markdown",
      "metadata": {
        "id": "3ih2Fzb-6VCa"
      },
      "source": [
        "- According to the Friedman's test for F1-Measures, the p-value = 2.45e-09 is very small. Which implies sufficient evidences to reject the null hypothesis that different classifiers have the same F1-Measure."
      ]
    },
    {
      "cell_type": "code",
      "metadata": {
        "id": "RZGuMWAhiPan",
        "outputId": "8ed5d5b7-7ae2-4e1f-a9fe-ff9557f9869f",
        "colab": {
          "base_uri": "https://localhost:8080/"
        }
      },
      "source": [
        "# Friedman test\n",
        "ss.friedmanchisquare(*np.array(F1_scores))"
      ],
      "execution_count": 184,
      "outputs": [
        {
          "output_type": "execute_result",
          "data": {
            "text/plain": [
              "FriedmanchisquareResult(statistic=51.40250447227194, pvalue=2.4588382344451387e-09)"
            ]
          },
          "metadata": {
            "tags": []
          },
          "execution_count": 184
        }
      ]
    },
    {
      "cell_type": "markdown",
      "metadata": {
        "id": "K9M-4ukCiTAs"
      },
      "source": [
        "- The Nemenyi multiple comparison test identifies the difference between classifiers. As we can see from the output table below, the relationship between these classifiers are highly significant (p-value < 0.01):  \n",
        "  - SVM to kNN, Multi-layer Preceptrons, and Naive Bayes;  \n",
        "  - K-Nearest Neighbors to SVM, Decision Tree, Bagging, and Boosting;   \n",
        "  - Naive Bayes to SVM, Bagging, and Boosting.    \n",
        "\n"
      ]
    },
    {
      "cell_type": "code",
      "metadata": {
        "id": "jq8humukiWOw",
        "outputId": "087596ad-bd4d-40a5-9d8d-af6f5dfa5689",
        "colab": {
          "base_uri": "https://localhost:8080/",
          "height": 266
        }
      },
      "source": [
        "# Nemenyi test\n",
        "sp.posthoc_nemenyi_friedman(F1_scores.transpose())"
      ],
      "execution_count": 183,
      "outputs": [
        {
          "output_type": "execute_result",
          "data": {
            "text/html": [
              "<div>\n",
              "<style scoped>\n",
              "    .dataframe tbody tr th:only-of-type {\n",
              "        vertical-align: middle;\n",
              "    }\n",
              "\n",
              "    .dataframe tbody tr th {\n",
              "        vertical-align: top;\n",
              "    }\n",
              "\n",
              "    .dataframe thead th {\n",
              "        text-align: right;\n",
              "    }\n",
              "</style>\n",
              "<table border=\"1\" class=\"dataframe\">\n",
              "  <thead>\n",
              "    <tr style=\"text-align: right;\">\n",
              "      <th></th>\n",
              "      <th>DT</th>\n",
              "      <th>MLP</th>\n",
              "      <th>NB</th>\n",
              "      <th>kNN</th>\n",
              "      <th>SVM</th>\n",
              "      <th>Bag</th>\n",
              "      <th>Bst</th>\n",
              "    </tr>\n",
              "  </thead>\n",
              "  <tbody>\n",
              "    <tr>\n",
              "      <th>DT</th>\n",
              "      <td>1.000000</td>\n",
              "      <td>0.438420</td>\n",
              "      <td>0.129190</td>\n",
              "      <td>0.002458</td>\n",
              "      <td>0.656089</td>\n",
              "      <td>0.900000</td>\n",
              "      <td>0.900000</td>\n",
              "    </tr>\n",
              "    <tr>\n",
              "      <th>MLP</th>\n",
              "      <td>0.438420</td>\n",
              "      <td>1.000000</td>\n",
              "      <td>0.900000</td>\n",
              "      <td>0.503923</td>\n",
              "      <td>0.006540</td>\n",
              "      <td>0.114484</td>\n",
              "      <td>0.042827</td>\n",
              "    </tr>\n",
              "    <tr>\n",
              "      <th>NB</th>\n",
              "      <td>0.129190</td>\n",
              "      <td>0.900000</td>\n",
              "      <td>1.000000</td>\n",
              "      <td>0.869118</td>\n",
              "      <td>0.001000</td>\n",
              "      <td>0.019139</td>\n",
              "      <td>0.005411</td>\n",
              "    </tr>\n",
              "    <tr>\n",
              "      <th>kNN</th>\n",
              "      <td>0.002458</td>\n",
              "      <td>0.503923</td>\n",
              "      <td>0.869118</td>\n",
              "      <td>1.000000</td>\n",
              "      <td>0.001000</td>\n",
              "      <td>0.001000</td>\n",
              "      <td>0.001000</td>\n",
              "    </tr>\n",
              "    <tr>\n",
              "      <th>SVM</th>\n",
              "      <td>0.656089</td>\n",
              "      <td>0.006540</td>\n",
              "      <td>0.001000</td>\n",
              "      <td>0.001000</td>\n",
              "      <td>1.000000</td>\n",
              "      <td>0.900000</td>\n",
              "      <td>0.900000</td>\n",
              "    </tr>\n",
              "    <tr>\n",
              "      <th>Bag</th>\n",
              "      <td>0.900000</td>\n",
              "      <td>0.114484</td>\n",
              "      <td>0.019139</td>\n",
              "      <td>0.001000</td>\n",
              "      <td>0.900000</td>\n",
              "      <td>1.000000</td>\n",
              "      <td>0.900000</td>\n",
              "    </tr>\n",
              "    <tr>\n",
              "      <th>Bst</th>\n",
              "      <td>0.900000</td>\n",
              "      <td>0.042827</td>\n",
              "      <td>0.005411</td>\n",
              "      <td>0.001000</td>\n",
              "      <td>0.900000</td>\n",
              "      <td>0.900000</td>\n",
              "      <td>1.000000</td>\n",
              "    </tr>\n",
              "  </tbody>\n",
              "</table>\n",
              "</div>"
            ],
            "text/plain": [
              "           DT       MLP        NB       kNN       SVM       Bag       Bst\n",
              "DT   1.000000  0.438420  0.129190  0.002458  0.656089  0.900000  0.900000\n",
              "MLP  0.438420  1.000000  0.900000  0.503923  0.006540  0.114484  0.042827\n",
              "NB   0.129190  0.900000  1.000000  0.869118  0.001000  0.019139  0.005411\n",
              "kNN  0.002458  0.503923  0.869118  1.000000  0.001000  0.001000  0.001000\n",
              "SVM  0.656089  0.006540  0.001000  0.001000  1.000000  0.900000  0.900000\n",
              "Bag  0.900000  0.114484  0.019139  0.001000  0.900000  1.000000  0.900000\n",
              "Bst  0.900000  0.042827  0.005411  0.001000  0.900000  0.900000  1.000000"
            ]
          },
          "metadata": {
            "tags": []
          },
          "execution_count": 183
        }
      ]
    },
    {
      "cell_type": "markdown",
      "metadata": {
        "id": "l10MZ8tK4U6r"
      },
      "source": [
        "- In summary, I found the K-Nearest Neighbors classifier is the most significant among classifiers according to the Friedman and Nemenyi test. However, the mean of precision is high in 0.954 and the mean of recall is low in 0.565. Which indicates the prediciton of kNN is correct but it can only return very few results.  \n",
        "\n",
        "- In other words, the Friedman and Nemenyi test is useful in finding the difference between different classifiers. Moreover, the mean of precision, recall, and f1 scores by 10-folds in **Boosting** method are the best. I would like to use Boosting as my **TClass**.\n"
      ]
    },
    {
      "cell_type": "markdown",
      "metadata": {
        "id": "2V7KGNAi8esF"
      },
      "source": [
        "Reference:    \n",
        "  \n",
        "https://cran.r-project.org/web/packages/PMCMR/vignettes/PMCMR.pdf      \n",
        "https://github.com/maximtrp/scikit-posthocs    \n",
        "https://scikit-posthocs.readthedocs.io/en/latest/generated/scikit_posthocs.posthoc_nemenyi_friedman/   "
      ]
    },
    {
      "cell_type": "markdown",
      "metadata": {
        "id": "dlbDyXIVFzds"
      },
      "source": [
        "## Clustering    "
      ]
    },
    {
      "cell_type": "markdown",
      "metadata": {
        "id": "JPG5_W2dDmaD"
      },
      "source": [
        "### 1) Fit Clusters  \n",
        "  \n",
        "- I obtained a new `tfidf_df` since the size of the subset TF-IDF I used for clustering is bigger than the previous one I used in classifiers. "
      ]
    },
    {
      "cell_type": "code",
      "metadata": {
        "id": "hGE8uadt-Krz",
        "outputId": "526bb4a7-d388-49f5-f3bd-22a978076171",
        "colab": {
          "base_uri": "https://localhost:8080/"
        }
      },
      "source": [
        "# Obtain a subset TF-IDF vector\n",
        "tfidf_df = tfidf_df.iloc[80000:, :].reset_index(drop = True)\n",
        "# Review the shape of TF-IDF vector & Labels\n",
        "print('The tfidf_df is trimmed to', tfidf_df.shape)"
      ],
      "execution_count": 225,
      "outputs": [
        {
          "output_type": "stream",
          "text": [
            "The tfidf_df is trimmed to (46879, 2000)\n"
          ],
          "name": "stdout"
        }
      ]
    },
    {
      "cell_type": "markdown",
      "metadata": {
        "id": "5dC3VSt1Dwwa"
      },
      "source": [
        "#### Agglomerative Clustering"
      ]
    },
    {
      "cell_type": "code",
      "metadata": {
        "id": "hItYXpoU_3wi",
        "outputId": "16620ce6-f7d8-401c-de49-b091966cb533",
        "colab": {
          "base_uri": "https://localhost:8080/",
          "height": 299
        }
      },
      "source": [
        "%%time\n",
        "\n",
        "# Fit Cluster\n",
        "clu = AgglomerativeClustering(n_clusters = 2)\n",
        "# Predict clusters labels\n",
        "y_pred = clu.fit_predict(tfidf_df)\n",
        "# Retrieve unique clusters\n",
        "clusters = np.unique(y_pred)\n",
        "\n",
        "\n",
        "# Plot the samples from each cluster\n",
        "for cluster in clusters:\n",
        "  # Get row indexes for samples with this cluster\n",
        "  row_ix = np.where(y_pred == cluster)\n",
        "  # Create scatter of these samples\n",
        "  plt.scatter(np.array(tfidf_df)[row_ix, 0], np.array(tfidf_df)[row_ix, 1])\n",
        "# Show the plot\n",
        "plt.show()\n",
        "\n",
        "\n",
        "# Collect the measurements\n",
        "# Silhouette Coefficient\n",
        "Agg_silhouette = silhouette_score(tfidf_df, y_pred)\n",
        "# Calinski Harabasz Index\n",
        "Agg_CalinskiH = calinski_harabasz_score(tfidf_df, y_pred)\n",
        "# Davies Bouldin Index\n",
        "Agg_DaviesB = davies_bouldin_score(tfidf_df, y_pred)"
      ],
      "execution_count": 10,
      "outputs": [
        {
          "output_type": "display_data",
          "data": {
            "image/png": "[encoded data removed]",
            "text/plain": [
              "<Figure size 432x288 with 1 Axes>"
            ]
          },
          "metadata": {
            "tags": [],
            "needs_background": "light"
          }
        },
        {
          "output_type": "stream",
          "text": [
            "CPU times: user 647 ms, sys: 110 ms, total: 757 ms\n",
            "Wall time: 772 ms\n"
          ],
          "name": "stdout"
        }
      ]
    },
    {
      "cell_type": "markdown",
      "metadata": {
        "id": "2ZXphc5xFeS7"
      },
      "source": [
        "#### DBSCAN Clustering"
      ]
    },
    {
      "cell_type": "code",
      "metadata": {
        "id": "m4vvkwpgABmB",
        "outputId": "409a0662-a60d-4703-b34e-df31401c787a",
        "colab": {
          "base_uri": "https://localhost:8080/",
          "height": 265
        }
      },
      "source": [
        "%%time\n",
        "\n",
        "# Fit Cluster\n",
        "clu = DBSCAN(eps = 0.30, min_samples = 9)\n",
        "# Predict clusters labels\n",
        "y_pred = clu.fit_predict(tfidf_df)\n",
        "# Retrieve unique clusters\n",
        "clusters = np.unique(y_pred)\n",
        "\n",
        "\n",
        "# Collect the measurements\n",
        "# Silhouette Coefficient\n",
        "DBS_silhouette = silhouette_score(tfidf_df, y_pred)\n",
        "# Calinski Harabasz Index\n",
        "DBS_CalinskiH = calinski_harabasz_score(tfidf_df, y_pred)\n",
        "# Davies Bouldin Index\n",
        "DBS_DaviesB = davies_bouldin_score(tfidf_df, y_pred)\n",
        "\n",
        "\n",
        "# Plot the samples from each cluster\n",
        "for cluster in clusters:\n",
        "  # Get row indexes for samples with this cluster\n",
        "  row_ix = np.where(y_pred == cluster)\n",
        "  # Create scatter of these samples\n",
        "  plt.scatter(np.array(tfidf_df)[row_ix, 0], np.array(tfidf_df)[row_ix, 1])\n",
        "# Show the plot\n",
        "plt.show()"
      ],
      "execution_count": 12,
      "outputs": [
        {
          "output_type": "display_data",
          "data": {
            "image/png": "[encoded data removed]",
            "text/plain": [
              "<Figure size 432x288 with 1 Axes>"
            ]
          },
          "metadata": {
            "tags": [],
            "needs_background": "light"
          }
        }
      ]
    },
    {
      "cell_type": "markdown",
      "metadata": {
        "id": "xsh5AWt-FuJG"
      },
      "source": [
        "#### K-Means Clustering    \n",
        "   \n",
        "K-Means is extremely sensitive to cluster center initializations. Note that a bad initialization can lead to poor convergence speed and bad overall clustering. To get good results for K-means algorithm corresponding to global minimum. Run the algorithm for different centroid initialization to find out the optimal number of clusters.     \n",
        "\n",
        "Mini-Batch K-Means is a modified version of K-means that updates to the cluster centroids using mini-batches of samples rather than the entire dataset, which can make it faster for large datasets, and perhaps more robust to statistical noise.  \n",
        "    \n",
        "Our dataset is classifying the genuine and mis_informed data so that I set the cluster to 2."
      ]
    },
    {
      "cell_type": "code",
      "metadata": {
        "id": "oXj05HunFfxZ",
        "outputId": "7b5cc78d-23e7-44d8-da84-37d45bae8f73",
        "colab": {
          "base_uri": "https://localhost:8080/",
          "height": 299
        }
      },
      "source": [
        "%%time\n",
        "\n",
        "# Fit Cluster\n",
        "clu = KMeans(n_clusters = 2, random_state = 13)\n",
        "# Predict clusters\n",
        "y_pred = clu.fit_predict(tfidf_df)\n",
        "# Retrieve unique clusters\n",
        "clusters = np.unique(y_pred)\n",
        "\n",
        "\n",
        "# Collect the measurements\n",
        "# Silhouette Coefficient\n",
        "KM_silhouette = silhouette_score(tfidf_df, y_pred)\n",
        "# Calinski Harabasz Index\n",
        "KM_CalinskiH = calinski_harabasz_score(tfidf_df, y_pred)\n",
        "# Davies Bouldin Index\n",
        "KM_DaviesB = davies_bouldin_score(tfidf_df, y_pred)\n",
        "\n",
        "\n",
        "# Plot the samples from each cluster\n",
        "for cluster in clusters:\n",
        "  # Get row indexes for samples with this cluster\n",
        "  row_ix = np.where(y_pred == cluster)\n",
        "  # Create scatter of these samples\n",
        "  plt.scatter(np.array(tfidf_df)[row_ix, 0], np.array(tfidf_df)[row_ix, 1])\n",
        "# Show the plot\n",
        "plt.show()"
      ],
      "execution_count": 28,
      "outputs": [
        {
          "output_type": "display_data",
          "data": {
            "image/png": "[encoded data removed]",
            "text/plain": [
              "<Figure size 432x288 with 1 Axes>"
            ]
          },
          "metadata": {
            "tags": [],
            "needs_background": "light"
          }
        },
        {
          "output_type": "stream",
          "text": [
            "CPU times: user 664 ms, sys: 26 ms, total: 690 ms\n",
            "Wall time: 689 ms\n"
          ],
          "name": "stdout"
        }
      ]
    },
    {
      "cell_type": "markdown",
      "metadata": {
        "id": "eJz5p2yt8uYI"
      },
      "source": [
        "Reference:      \n",
        "  \n",
        "https://medium.com/@haataa/how-to-measure-clustering-performances-when-there-are-no-ground-truth-db027e9a871c  \n",
        "https://rocketloop.de/en/machine-learning-clustering-in-python/"
      ]
    },
    {
      "cell_type": "markdown",
      "metadata": {
        "id": "QHRXcv1s5842"
      },
      "source": [
        "### 2) Evaluation    \n",
        "\n",
        "The Silhouette Coefficient is a measure for each sample and is composed of two scores. The mean distance between a sample and all other points from the same cluster, and from a sample to all other points of different cluster. A **higher** average Silhouette Coefficient Score relates to a better clustering quality.     \n",
        "  \n",
        "The Calinski-Harabasz Index correlates with the separation and compactness of the clusters. Hence, the variance of the sums of squares of the distances of individual objects to their cluster center is divided by the sum of squares of the distance between the cluster centers and the center of the data of a cluster. A good clustering result has a **higher** Calinski-Harabasz Index value.     \n",
        "\n",
        "The Davies-Bouldin Index signifies the average similarity between clusters, where the similarity is a measure that compares the distance between clusters with the size of the clusters themselves. A **lower** Davies-Bouldin Index relates to a model with better separation between the clusters.     "
      ]
    },
    {
      "cell_type": "code",
      "metadata": {
        "id": "YdyGDBVnLv5Y",
        "outputId": "605ae12e-5e93-4b6b-e6de-39bb11f719a7",
        "colab": {
          "base_uri": "https://localhost:8080/",
          "height": 142
        }
      },
      "source": [
        "# A table of 3 Clustering Measures with 3 clustering methods\n",
        "ClusMeasures = pd.DataFrame(np.array([[Agg_silhouette, Agg_CalinskiH, \n",
        "                                       Agg_DaviesB],\n",
        "                                      [DBS_silhouette, DBS_CalinskiH, \n",
        "                                       DBS_DaviesB],\n",
        "                                      [KM_silhouette , KM_CalinskiH , \n",
        "                                       KM_DaviesB]]),\n",
        "            columns = ['Silhouette', 'Calinski-Harabasz', 'Davies-Bouldin'],\n",
        "            index = ['Agglomerative', 'DBSCAN', 'K-Means'])\n",
        "ClusMeasures"
      ],
      "execution_count": 39,
      "outputs": [
        {
          "output_type": "execute_result",
          "data": {
            "text/html": [
              "<div>\n",
              "<style scoped>\n",
              "    .dataframe tbody tr th:only-of-type {\n",
              "        vertical-align: middle;\n",
              "    }\n",
              "\n",
              "    .dataframe tbody tr th {\n",
              "        vertical-align: top;\n",
              "    }\n",
              "\n",
              "    .dataframe thead th {\n",
              "        text-align: right;\n",
              "    }\n",
              "</style>\n",
              "<table border=\"1\" class=\"dataframe\">\n",
              "  <thead>\n",
              "    <tr style=\"text-align: right;\">\n",
              "      <th></th>\n",
              "      <th>Silhouette</th>\n",
              "      <th>Calinski-Harabasz</th>\n",
              "      <th>Davies-Bouldin</th>\n",
              "    </tr>\n",
              "  </thead>\n",
              "  <tbody>\n",
              "    <tr>\n",
              "      <th>Agglomerative</th>\n",
              "      <td>0.010700</td>\n",
              "      <td>391.268131</td>\n",
              "      <td>1.008498</td>\n",
              "    </tr>\n",
              "    <tr>\n",
              "      <th>DBSCAN</th>\n",
              "      <td>0.101197</td>\n",
              "      <td>30.467119</td>\n",
              "      <td>1.004384</td>\n",
              "    </tr>\n",
              "    <tr>\n",
              "      <th>K-Means</th>\n",
              "      <td>0.010200</td>\n",
              "      <td>367.748439</td>\n",
              "      <td>1.833399</td>\n",
              "    </tr>\n",
              "  </tbody>\n",
              "</table>\n",
              "</div>"
            ],
            "text/plain": [
              "               Silhouette  Calinski-Harabasz  Davies-Bouldin\n",
              "Agglomerative    0.010700         391.268131        1.008498\n",
              "DBSCAN           0.101197          30.467119        1.004384\n",
              "K-Means          0.010200         367.748439        1.833399"
            ]
          },
          "metadata": {
            "tags": []
          },
          "execution_count": 39
        }
      ]
    },
    {
      "cell_type": "markdown",
      "metadata": {
        "id": "YyQKunn7qvA0"
      },
      "source": [
        "- The average Silhouette Coefficient in DBSCAN is the highest but the Calinski Harabasz Index is extremely low of which is not we prefer. Thus, I think the **Agglomerative Clustering** has overall a better performance for this data. Which has the highest Calinski Harabasz Index and its Silhouette Coefficient and Davies Bouldin Index are not too low (2nd place and not to less than the 1st place). I would like to use Agglomerative as my **TClus**."
      ]
    },
    {
      "cell_type": "markdown",
      "metadata": {
        "id": "odB2ifCd7qee"
      },
      "source": [
        "Reference:      \n",
        "     \n",
        "Silhouette Coefficient https://scikit-learn.org/stable/auto_examples/cluster/plot_kmeans_silhouette_analysis.html  \n",
        "Calinski Harabasz https://scikit-learn.org/stable/modules/generated/sklearn.metrics.calinski_harabasz_score.html  \n",
        "Davies Bouldin https://scikit-learn.org/stable/modules/generated/sklearn.metrics.davies_bouldin_score.html"
      ]
    },
    {
      "cell_type": "markdown",
      "metadata": {
        "id": "hiKRfHMJKiVq"
      },
      "source": [
        "## UMAP"
      ]
    },
    {
      "cell_type": "markdown",
      "metadata": {
        "id": "tAAnv-TXQkZW"
      },
      "source": [
        "- The UMAP method can apply dimension reduction to reduce the matrix from 6879 observations by 2000 dimensions to 6879 by 2 (2 is the number of components). Here we use a distance metric of `Hellinger distance` which measures the similarity between 2 probability distributions.   \n",
        "   \n",
        "- I plot 2 UMAP, the first one is a bigger subset data, is is very hard to see the classes distribution with these similar color and small dots. While the seconde UMP contains relatively smaller subset data. It is clear to find that the class 0 of genuine and class 1 of mix_misinformed are overlapping together and the amount of class 1 is a lot less than class 0.  "
      ]
    },
    {
      "cell_type": "code",
      "metadata": {
        "id": "tCSUacXCP8Wf",
        "outputId": "e905cc43-b531-4846-dc6f-0bc9ffbf5f50",
        "colab": {
          "base_uri": "https://localhost:8080/",
          "height": 723
        }
      },
      "source": [
        "%%time\n",
        "#\n",
        "# Shape of tfidf vector\n",
        "print(\"Original tfidf: \", tfidf_df.shape)\n",
        "\n",
        "tfidf_embedding = umap.UMAP(metric='hellinger').fit(tfidf_df)\n",
        "# Use Hellinger distance and UMAP to embed the documents\n",
        "print(\"tfidf tfidf word embedding: \", tfidf_embedding.embedding_.shape)\n",
        "\n",
        "# Plot the UMAP\n",
        "fig = umap.plot.points(tfidf_embedding, labels = S_set['labels'])\n",
        "print(fig)"
      ],
      "execution_count": 10,
      "outputs": [
        {
          "output_type": "stream",
          "text": [
            "Original tfidf:  (66879, 2000)\n",
            "tfidf tfidf word embedding:  (66879, 2)\n",
            "AxesSubplot(0.125,0.125;0.775x0.755)\n",
            "CPU times: user 26min 4s, sys: 10min 41s, total: 36min 45s\n",
            "Wall time: 2min 35s\n"
          ],
          "name": "stdout"
        },
        {
          "output_type": "display_data",
          "data": {
            "image/png": "[encoded data removed]",
            "text/plain": [
              "<Figure size 800x800 with 1 Axes>"
            ]
          },
          "metadata": {
            "tags": []
          }
        }
      ]
    },
    {
      "cell_type": "code",
      "metadata": {
        "id": "ZetyC0rrV8_I",
        "outputId": "a913c8e8-0547-4203-8b93-324597921fbd",
        "colab": {
          "base_uri": "https://localhost:8080/",
          "height": 723
        }
      },
      "source": [
        "%%time\n",
        "\n",
        "# Shape of tfidf vector\n",
        "print(\"Original tfidf: \", tfidf_df.shape)\n",
        "\n",
        "tfidf_embedding = umap.UMAP(metric='hellinger').fit(tfidf_df)\n",
        "# Use Hellinger distance and UMAP to embed the documents\n",
        "print(\"tfidf tfidf word embedding: \", tfidf_embedding.embedding_.shape)\n",
        "\n",
        "# Plot the UMAP\n",
        "fig = umap.plot.points(tfidf_embedding, labels = S_set['labels'])\n",
        "print(fig)"
      ],
      "execution_count": 6,
      "outputs": [
        {
          "output_type": "stream",
          "text": [
            "Original tfidf:  (46879, 2000)\n",
            "tfidf tfidf word embedding:  (46879, 2)\n",
            "AxesSubplot(0.125,0.125;0.775x0.755)\n",
            "CPU times: user 14min 32s, sys: 1min 52s, total: 16min 24s\n",
            "Wall time: 1min 40s\n"
          ],
          "name": "stdout"
        },
        {
          "output_type": "display_data",
          "data": {
            "image/png": "[encoded data removed]",
            "text/plain": [
              "<Figure size 800x800 with 1 Axes>"
            ]
          },
          "metadata": {
            "tags": []
          }
        }
      ]
    },
    {
      "cell_type": "markdown",
      "metadata": {
        "id": "oDW7PGD8Wx0M"
      },
      "source": [
        "Reference:  \n",
        "  \n",
        "https://umap-learn.readthedocs.io/en/latest/document_embedding.html"
      ]
    },
    {
      "cell_type": "markdown",
      "metadata": {
        "id": "bOasswDnL5ut"
      },
      "source": [
        "# Part II"
      ]
    },
    {
      "cell_type": "markdown",
      "metadata": {
        "id": "QTLw5uDNYMDv"
      },
      "source": [
        "- According to the `Part I`, I would like to these methods for `Part II` analysis:   \n",
        "  - **TClass: Boosting**  \n",
        "  - **TClus: Agglomerative**  \n",
        "\n",
        "- Use `TClus` to select the `Probably_Genuine` tweets"
      ]
    },
    {
      "cell_type": "markdown",
      "metadata": {
        "id": "4uEzQUAj0vuw"
      },
      "source": [
        "### Use `TClus` to select the `Probably_Genuine` tweets  \n",
        "  \n",
        "- As known that the last 1612 tweets are the `Mix_misinformed` data. I tried three sizes of dataset to train the clustering method. Which are 46879, 6879, and 3279 tweets in separate. All of them include the whole 1612 `Mix_misinformed` data.  \n",
        "  \n",
        "- As we assumed the `Mix_misinformed` data contains Genuine tweets more than Misinformed tweets. My goal is to increase the correct predictions in `Mix_misinformed` and decrease the incorrect prediction in `Genuine`.   \n",
        "  \n",
        "- Therefore, to look at the accuracy rate for the whole `y_pred` is not helpful. I will focus on the accuracy rate in the last 1612 `Mix_misinformed` data."
      ]
    },
    {
      "cell_type": "markdown",
      "metadata": {
        "id": "k4T6TYE-NsgK"
      },
      "source": [
        "#### 1) Big size (46879 observations)  \n",
        "  \n",
        "- This method includes a larger amount of Genuine data. However, the accuracy rate in predicting the `Misinformed` class is very weak. There is 0 observation is correctly predicted to be `Misinformed` in the last 1612 observations."
      ]
    },
    {
      "cell_type": "code",
      "metadata": {
        "id": "4AsqU22AmspI",
        "outputId": "1e3e138f-cf4a-442b-8784-d2ebe2481bd5",
        "colab": {
          "base_uri": "https://localhost:8080/"
        }
      },
      "source": [
        "%%time\n",
        "\n",
        "# TF-IDF ===============================================\n",
        "tfidf_vec = TfidfVectorizer(max_df = 0.80, min_df = 5, max_features = 2000) \n",
        "tfidf_array = tfidf_vec.fit_transform(S['texts'])\n",
        "tfidf_df1 = pd.DataFrame(tfidf_array.toarray())\n",
        "\n",
        "# Obtain a subset TF-IDF vector & S set\n",
        "tfidf_df1 = tfidf_df1.iloc[80000:, :].reset_index(drop = True)\n",
        "S1 = S.iloc[80000:].reset_index(drop = True)\n",
        "# Review the shape of TF-IDF vector & Labels\n",
        "print(tfidf_df1.shape, S1.labels.shape)\n",
        "print('The S set dataset is trimmed to', S1.shape)\n",
        "\n",
        "# Fit Cluster ===========================================\n",
        "clu = AgglomerativeClustering(n_clusters = 2)\n",
        "# Predict clusters labels\n",
        "y_pred1 = clu.fit_predict(tfidf_df1)"
      ],
      "execution_count": 226,
      "outputs": [
        {
          "output_type": "stream",
          "text": [
            "(46879, 2000) (46879,)\n",
            "The S set dataset is trimmed to (46879, 4)\n",
            "CPU times: user 37min 20s, sys: 10.5 s, total: 37min 31s\n",
            "Wall time: 37min 31s\n"
          ],
          "name": "stdout"
        }
      ]
    },
    {
      "cell_type": "markdown",
      "metadata": {
        "id": "Seti3Zm-O79_"
      },
      "source": [
        "- Although the accuracy rate for the whole `y_pred1` is 95%. When I filter to the last 1612 observations (Mix_misinformed), this is a bad prediction with 0 correct prediction in Mix_misinformed data."
      ]
    },
    {
      "cell_type": "code",
      "metadata": {
        "id": "oveL7-jzE87x",
        "outputId": "955c7f95-2748-4c6b-87f3-542f41d7fb0b",
        "colab": {
          "base_uri": "https://localhost:8080/"
        }
      },
      "source": [
        "# Accuracy Rate\n",
        "print(np.mean(y_pred1 == S1.labels))\n",
        "# Filter to the last 1612 Mix_misinformed data\n",
        "# We assumed to find class = 1 in the last 1612 data\n",
        "print('The correct prediction in Mix_misinformed data:', \n",
        "      sum(y_pred1[45267:] == 1)/sum(S1.labels[45267:] == 1))"
      ],
      "execution_count": 154,
      "outputs": [
        {
          "output_type": "stream",
          "text": [
            "0.9571236587811174\n",
            "The correct prediction in Mix_misinformed data: 0.0\n"
          ],
          "name": "stdout"
        }
      ]
    },
    {
      "cell_type": "markdown",
      "metadata": {
        "id": "7PZQr2JDyk6c"
      },
      "source": [
        "#### 2) Median size (6879 observations)"
      ]
    },
    {
      "cell_type": "code",
      "metadata": {
        "id": "RPqdKasgD92X",
        "outputId": "d2b92ea8-2c9d-43f1-8ae8-4f22c9c5341b",
        "colab": {
          "base_uri": "https://localhost:8080/"
        }
      },
      "source": [
        "%%time\n",
        "\n",
        "# TF-IDF ===============================================\n",
        "tfidf_vec = TfidfVectorizer(max_df = 0.80, min_df = 5, max_features = 2000) \n",
        "tfidf_array = tfidf_vec.fit_transform(S['texts'])\n",
        "tfidf_df2 = pd.DataFrame(tfidf_array.toarray())\n",
        "\n",
        "# Obtain a subset TF-IDF vector & S set\n",
        "tfidf_df2 = tfidf_df2.iloc[120000:, :].reset_index(drop = True)\n",
        "S2 = S.iloc[120000:].reset_index(drop = True)\n",
        "# Review the shape of TF-IDF vector & Labels\n",
        "print(tfidf_df2.shape, S2.labels.shape)\n",
        "print('The S set dataset is trimmed to', S2.shape)\n",
        "\n",
        "# Fit Cluster ===========================================\n",
        "clu = AgglomerativeClustering(n_clusters = 2)\n",
        "# Predict clusters labels\n",
        "y_pred2 = clu.fit_predict(tfidf_df2)"
      ],
      "execution_count": 120,
      "outputs": [
        {
          "output_type": "stream",
          "text": [
            "(6879, 2000) (6879,)\n",
            "The S set dataset is trimmed to (6879, 4)\n",
            "CPU times: user 48.3 s, sys: 46.5 ms, total: 48.3 s\n",
            "Wall time: 48.3 s\n"
          ],
          "name": "stdout"
        }
      ]
    },
    {
      "cell_type": "markdown",
      "metadata": {
        "id": "X2CfHjQzgwo7"
      },
      "source": [
        "- The correction prediction in Mix_misinformed data is 0.3926. This result is preferable cause we got some correct prediction in Mix_informed class with more predictions in Genuine Class."
      ]
    },
    {
      "cell_type": "code",
      "metadata": {
        "id": "S4BLYi1LFhTq",
        "outputId": "b368e661-059d-4ccc-bd6f-6de40354c9b3",
        "colab": {
          "base_uri": "https://localhost:8080/"
        }
      },
      "source": [
        "# Accuracy Rate\n",
        "print(np.mean(y_pred2 == S2.labels))\n",
        "# Filter to the last 1612 Mix_misinformed data\n",
        "print('The correct prediction in Mix_misinformed data:', \n",
        "      sum(y_pred2[5267:] == 1)/sum(S2.labels[5267:] == 1))"
      ],
      "execution_count": 156,
      "outputs": [
        {
          "output_type": "stream",
          "text": [
            "0.8412559965111208\n",
            "The correct prediction in Mix_misinformed data: 0.3926799007444169\n"
          ],
          "name": "stdout"
        }
      ]
    },
    {
      "cell_type": "markdown",
      "metadata": {
        "id": "bv7IvxMFzbaK"
      },
      "source": [
        "#### 3) Small size (3279 observations)"
      ]
    },
    {
      "cell_type": "code",
      "metadata": {
        "id": "1I0WVqbVzduW",
        "outputId": "99f54cc5-06ee-4016-b0c3-370c77718557",
        "colab": {
          "base_uri": "https://localhost:8080/"
        }
      },
      "source": [
        "%%time\n",
        "\n",
        "# TF-IDF ===========================================\n",
        "tfidf_vec = TfidfVectorizer(max_df = 0.80, min_df = 5, max_features = 2000) \n",
        "tfidf_array = tfidf_vec.fit_transform(S['texts'])\n",
        "tfidf_df3 = pd.DataFrame(tfidf_array.toarray())\n",
        "\n",
        "# Obtain a subset TF-IDF vector & S set\n",
        "tfidf_df3 = tfidf_df3.iloc[123600:, :].reset_index(drop = True)\n",
        "S3 = S.iloc[123600:].reset_index(drop = True)\n",
        "# Review the shape of TF-IDF vector & Labels\n",
        "print(tfidf_df3.shape, S3.labels.shape)\n",
        "print('The S set dataset is trimmed to', S3.shape)\n",
        "\n",
        "# Fit Cluster ===========================================\n",
        "clu = AgglomerativeClustering(n_clusters = 2)\n",
        "# Predict clusters labels\n",
        "y_pred3 = clu.fit_predict(tfidf_df3)"
      ],
      "execution_count": 124,
      "outputs": [
        {
          "output_type": "stream",
          "text": [
            "(3279, 2000) (3279,)\n",
            "The S set dataset is trimmed to (3279, 4)\n",
            "CPU times: user 11.2 s, sys: 40.1 ms, total: 11.2 s\n",
            "Wall time: 11.2 s\n"
          ],
          "name": "stdout"
        }
      ]
    },
    {
      "cell_type": "markdown",
      "metadata": {
        "id": "YdjkPAKFeilP"
      },
      "source": [
        "- The correct prediction in Mix_misinformed data is 60%. Our assumption is having more Genuine class than Misinformed class in the Mix_misinformed data. Therefore, I think this is not a good prediction either."
      ]
    },
    {
      "cell_type": "code",
      "metadata": {
        "id": "xSQ0A98CFc-2",
        "outputId": "82e019eb-c75d-4305-887e-d0147fec5996",
        "colab": {
          "base_uri": "https://localhost:8080/"
        }
      },
      "source": [
        "# Accuracy Rate\n",
        "print(np.mean(y_pred3 == S3.labels))\n",
        "# Filter to the last 1612 Mix_misinformed data\n",
        "print('The correct prediction in Mix_misinformed data:', \n",
        "      sum(y_pred3[1667:] == 1)/sum(S3.labels[1667:] == 1))"
      ],
      "execution_count": 153,
      "outputs": [
        {
          "output_type": "stream",
          "text": [
            "0.3043610856968588\n",
            "The correct prediction in Mix_misinformed data: 0.6066997518610422\n"
          ],
          "name": "stdout"
        }
      ]
    },
    {
      "cell_type": "markdown",
      "metadata": {
        "id": "XuJuR7-6i_cj"
      },
      "source": [
        "### Modify S set data by merging the `Probably_Genuine` data  \n",
        "  \n",
        "- Remain the last 1612 `Mix_mininformed` observations with the predicted data."
      ]
    },
    {
      "cell_type": "code",
      "metadata": {
        "id": "3cXJQaWNlHbx"
      },
      "source": [
        "# Set the Genuine part as class 0\n",
        "y_pred2[:5267] = 0\n",
        "# All Genuine observations are class 0\n",
        "sum(y_pred2[:5267] == 0)\n",
        "# Merge the y_pred2 to the S set\n",
        "S2['Probably_Genuine'] = y_pred2"
      ],
      "execution_count": 171,
      "outputs": []
    },
    {
      "cell_type": "markdown",
      "metadata": {
        "id": "nYQMgZyenPt4"
      },
      "source": [
        "### Run `TClass` on S set  \n",
        "  \n",
        "- The F1-Measure is 0.865, which is relatively lower than the previous Boosting method. Besides, the precision and recall are both around 0.86. Although this is not the best, but I personally think this is not too bad."
      ]
    },
    {
      "cell_type": "code",
      "metadata": {
        "id": "gxQbacjZL832",
        "outputId": "bb5208e7-f1f2-4a6a-88e6-0342ecc3bb7e",
        "colab": {
          "base_uri": "https://localhost:8080/"
        }
      },
      "source": [
        "%%time \n",
        "\n",
        "print(\"Shape of tfidf_df: \", tfidf_df.shape)\n",
        "\n",
        "# Stratified K-fold CV\n",
        "SKfold = StratifiedKFold(n_splits = 10, random_state = 29, shuffle = True)\n",
        "\n",
        "# Fit Boosting\n",
        "clf = AdaBoostClassifier(random_state = 1)\n",
        "\n",
        "# Evaluation\n",
        "S2_precision = cross_val_score(clf, tfidf_df, S2.Probably_Genuine, \n",
        "                               cv = SKfold, scoring = 'precision')\n",
        "S2_recall = cross_val_score(clf, tfidf_df, S2.Probably_Genuine, \n",
        "                            cv = SKfold, scoring = 'recall')\n",
        "S2_f1 = cross_val_score(clf, tfidf_df, S2.Probably_Genuine, \n",
        "                        cv = SKfold, scoring = 'f1')\n",
        "S2_acc = cross_val_score(clf, tfidf_df, S2.Probably_Genuine, \n",
        "                         cv = SKfold, scoring = 'accuracy')\n",
        "\n",
        "# Print the results\n",
        "print(f'Precision: {np.mean(S2_precision)}')\n",
        "print(f'Recall: {np.mean(S2_recall)}')\n",
        "print(f'F-Measure: {np.mean(S2_f1)}')\n",
        "print(f'Accuracy: {np.mean(S2_acc)}')"
      ],
      "execution_count": 179,
      "outputs": [
        {
          "output_type": "stream",
          "text": [
            "Shape of tfidf_df:  (6879, 2000)\n",
            "Precision: 0.8720214231689216\n",
            "Recall: 0.8612599206349205\n",
            "F-Measure: 0.8654749786547093\n",
            "Accuracy: 0.9754322382451507\n",
            "CPU times: user 3min 49s, sys: 1.71 s, total: 3min 51s\n",
            "Wall time: 3min 51s\n"
          ],
          "name": "stdout"
        }
      ]
    },
    {
      "cell_type": "markdown",
      "metadata": {
        "id": "pHIZK68AuADp"
      },
      "source": [
        "### Return the tweets contained the Misinformed class."
      ]
    },
    {
      "cell_type": "code",
      "metadata": {
        "id": "gYSNBQoYqln6"
      },
      "source": [
        "misinfID = S2[S2.Probably_Genuine == 1][['id', \n",
        "                                         'texts', \n",
        "                                         'source.text']].reset_index(drop = True)"
      ],
      "execution_count": 209,
      "outputs": []
    },
    {
      "cell_type": "markdown",
      "metadata": {
        "id": "xJo6awce69uC"
      },
      "source": [
        "- Export the Misinformed data that I defined to .txt file. Since I am not sure if we should include the text. Here are two version of data, one is the .txt file with `ID` only, while the other .csv includes the `ID`, `source.text`, and `texts`."
      ]
    },
    {
      "cell_type": "code",
      "metadata": {
        "id": "ApA_LC1J2020"
      },
      "source": [
        "# Save the ID only to .txt\n",
        "misinfID['id'].to_csv(r'/content/drive/My Drive/Colab Notebooks/ML_DataMining/HW2/misinfID.txt',\n",
        "                      header=None, index=None, sep='\\n')"
      ],
      "execution_count": 210,
      "outputs": []
    },
    {
      "cell_type": "code",
      "metadata": {
        "id": "HgDRj060SjQ7"
      },
      "source": [
        "# Save the ID and the texts to .csv\n",
        "misinfID.to_csv(r'/content/drive/My Drive/Colab Notebooks/ML_DataMining/HW2/misinfID.csv',\n",
        "                index = None)"
      ],
      "execution_count": 211,
      "outputs": []
    },
    {
      "cell_type": "markdown",
      "metadata": {
        "id": "WND96GCW7bI8"
      },
      "source": [
        "- Read the data to confirm I did sucessfully export the data."
      ]
    },
    {
      "cell_type": "code",
      "metadata": {
        "id": "tlCJRIwGPEFE"
      },
      "source": [
        "# Read \n",
        "misinfID_only_p = '/content/drive/My Drive/Colab Notebooks/ML_DataMining/HW2/misinfID.txt'\n",
        "misinfID_full_p = '/content/drive/My Drive/Colab Notebooks/ML_DataMining/HW2/misinfID.csv'\n",
        "misinfID_only = pd.read_csv(misinfID_only_p, header = None)\n",
        "misinfID_full = pd.read_csv(misinfID_full_p)"
      ],
      "execution_count": 216,
      "outputs": []
    },
    {
      "cell_type": "code",
      "metadata": {
        "id": "hhkvvJ2G4o3G",
        "outputId": "d289b824-c80e-4cc0-a80b-2a1b1ba12b8a",
        "colab": {
          "base_uri": "https://localhost:8080/",
          "height": 204
        }
      },
      "source": [
        "misinfID_only.head()  # Misinformed ID"
      ],
      "execution_count": 218,
      "outputs": [
        {
          "output_type": "execute_result",
          "data": {
            "text/html": [
              "<div>\n",
              "<style scoped>\n",
              "    .dataframe tbody tr th:only-of-type {\n",
              "        vertical-align: middle;\n",
              "    }\n",
              "\n",
              "    .dataframe tbody tr th {\n",
              "        vertical-align: top;\n",
              "    }\n",
              "\n",
              "    .dataframe thead th {\n",
              "        text-align: right;\n",
              "    }\n",
              "</style>\n",
              "<table border=\"1\" class=\"dataframe\">\n",
              "  <thead>\n",
              "    <tr style=\"text-align: right;\">\n",
              "      <th></th>\n",
              "      <th>0</th>\n",
              "    </tr>\n",
              "  </thead>\n",
              "  <tbody>\n",
              "    <tr>\n",
              "      <th>0</th>\n",
              "      <td>1235352692769402882</td>\n",
              "    </tr>\n",
              "    <tr>\n",
              "      <th>1</th>\n",
              "      <td>1235314459935203328</td>\n",
              "    </tr>\n",
              "    <tr>\n",
              "      <th>2</th>\n",
              "      <td>1234856054812487680</td>\n",
              "    </tr>\n",
              "    <tr>\n",
              "      <th>3</th>\n",
              "      <td>1230127357702242309</td>\n",
              "    </tr>\n",
              "    <tr>\n",
              "      <th>4</th>\n",
              "      <td>1238127569343401987</td>\n",
              "    </tr>\n",
              "  </tbody>\n",
              "</table>\n",
              "</div>"
            ],
            "text/plain": [
              "                     0\n",
              "0  1235352692769402882\n",
              "1  1235314459935203328\n",
              "2  1234856054812487680\n",
              "3  1230127357702242309\n",
              "4  1238127569343401987"
            ]
          },
          "metadata": {
            "tags": []
          },
          "execution_count": 218
        }
      ]
    },
    {
      "cell_type": "code",
      "metadata": {
        "id": "zSEOu45Y4pva",
        "outputId": "07ea356f-5ac3-4909-f29e-d7a46284d615",
        "colab": {
          "base_uri": "https://localhost:8080/",
          "height": 289
        }
      },
      "source": [
        "misinfID_full.head()  # Misinformed ID with texts"
      ],
      "execution_count": 219,
      "outputs": [
        {
          "output_type": "execute_result",
          "data": {
            "text/html": [
              "<div>\n",
              "<style scoped>\n",
              "    .dataframe tbody tr th:only-of-type {\n",
              "        vertical-align: middle;\n",
              "    }\n",
              "\n",
              "    .dataframe tbody tr th {\n",
              "        vertical-align: top;\n",
              "    }\n",
              "\n",
              "    .dataframe thead th {\n",
              "        text-align: right;\n",
              "    }\n",
              "</style>\n",
              "<table border=\"1\" class=\"dataframe\">\n",
              "  <thead>\n",
              "    <tr style=\"text-align: right;\">\n",
              "      <th></th>\n",
              "      <th>id</th>\n",
              "      <th>texts</th>\n",
              "      <th>source.text</th>\n",
              "    </tr>\n",
              "  </thead>\n",
              "  <tbody>\n",
              "    <tr>\n",
              "      <th>0</th>\n",
              "      <td>1235352692769402882</td>\n",
              "      <td>coronavirus misinformation spreading fast fake...</td>\n",
              "      <td>Coronavirus misinformation spreading fast: Fak...</td>\n",
              "    </tr>\n",
              "    <tr>\n",
              "      <th>1</th>\n",
              "      <td>1235314459935203328</td>\n",
              "      <td>rt coronavirus misinformation spreading fast f...</td>\n",
              "      <td>RT @ResearchBuzz: Coronavirus misinformation s...</td>\n",
              "    </tr>\n",
              "    <tr>\n",
              "      <th>2</th>\n",
              "      <td>1234856054812487680</td>\n",
              "      <td>covid19 challenge areal take precaution aware ...</td>\n",
              "      <td>COVID-19 challenge 'real,' take precautions an...</td>\n",
              "    </tr>\n",
              "    <tr>\n",
              "      <th>3</th>\n",
              "      <td>1230127357702242309</td>\n",
              "      <td>rt vancouver lot misinformation anxiety around...</td>\n",
              "      <td>RT @tingdan: Here in Vancouver, there is a lot...</td>\n",
              "    </tr>\n",
              "    <tr>\n",
              "      <th>4</th>\n",
              "      <td>1238127569343401987</td>\n",
              "      <td>rt hey figured way report fake news yet would ...</td>\n",
              "      <td>RT @mxpc_: Hey @Twitter have we figured out a ...</td>\n",
              "    </tr>\n",
              "  </tbody>\n",
              "</table>\n",
              "</div>"
            ],
            "text/plain": [
              "                    id  ...                                        source.text\n",
              "0  1235352692769402882  ...  Coronavirus misinformation spreading fast: Fak...\n",
              "1  1235314459935203328  ...  RT @ResearchBuzz: Coronavirus misinformation s...\n",
              "2  1234856054812487680  ...  COVID-19 challenge 'real,' take precautions an...\n",
              "3  1230127357702242309  ...  RT @tingdan: Here in Vancouver, there is a lot...\n",
              "4  1238127569343401987  ...  RT @mxpc_: Hey @Twitter have we figured out a ...\n",
              "\n",
              "[5 rows x 3 columns]"
            ]
          },
          "metadata": {
            "tags": []
          },
          "execution_count": 219
        }
      ]
    }
  ]
}