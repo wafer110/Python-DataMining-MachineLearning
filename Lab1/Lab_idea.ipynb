{
 "cells": [
  {
   "cell_type": "code",
   "execution_count": 35,
   "metadata": {},
   "outputs": [
    {
     "name": "stdout",
     "output_type": "stream",
     "text": [
      "[[5.1 3.5 1.4 0.2]\n",
      " [4.9 3.  1.4 0.2]\n",
      " [4.7 3.2 1.3 0.2]\n",
      " [4.6 3.1 1.5 0.2]\n",
      " [5.  3.6 1.4 0.2]\n",
      " [5.4 3.9 1.7 0.4]\n",
      " [4.6 3.4 1.4 0.3]\n",
      " [5.  3.4 1.5 0.2]\n",
      " [4.4 2.9 1.4 0.2]\n",
      " [4.9 3.1 1.5 0.1]\n",
      " [5.4 3.7 1.5 0.2]\n",
      " [4.8 3.4 1.6 0.2]\n",
      " [4.8 3.  1.4 0.1]\n",
      " [4.3 3.  1.1 0.1]\n",
      " [5.8 4.  1.2 0.2]\n",
      " [5.7 4.4 1.5 0.4]\n",
      " [5.4 3.9 1.3 0.4]\n",
      " [5.1 3.5 1.4 0.3]\n",
      " [5.7 3.8 1.7 0.3]\n",
      " [5.1 3.8 1.5 0.3]\n",
      " [5.4 3.4 1.7 0.2]\n",
      " [5.1 3.7 1.5 0.4]\n",
      " [4.6 3.6 1.  0.2]\n",
      " [5.1 3.3 1.7 0.5]\n",
      " [4.8 3.4 1.9 0.2]\n",
      " [5.  3.  1.6 0.2]\n",
      " [5.  3.4 1.6 0.4]\n",
      " [5.2 3.5 1.5 0.2]\n",
      " [5.2 3.4 1.4 0.2]\n",
      " [4.7 3.2 1.6 0.2]\n",
      " [4.8 3.1 1.6 0.2]\n",
      " [5.4 3.4 1.5 0.4]\n",
      " [5.2 4.1 1.5 0.1]\n",
      " [5.5 4.2 1.4 0.2]\n",
      " [4.9 3.1 1.5 0.2]\n",
      " [5.  3.2 1.2 0.2]\n",
      " [5.5 3.5 1.3 0.2]\n",
      " [4.9 3.6 1.4 0.1]\n",
      " [4.4 3.  1.3 0.2]\n",
      " [5.1 3.4 1.5 0.2]\n",
      " [5.  3.5 1.3 0.3]\n",
      " [4.5 2.3 1.3 0.3]\n",
      " [4.4 3.2 1.3 0.2]\n",
      " [5.  3.5 1.6 0.6]\n",
      " [5.1 3.8 1.9 0.4]\n",
      " [4.8 3.  1.4 0.3]\n",
      " [5.1 3.8 1.6 0.2]\n",
      " [4.6 3.2 1.4 0.2]\n",
      " [5.3 3.7 1.5 0.2]\n",
      " [5.  3.3 1.4 0.2]\n",
      " [7.  3.2 4.7 1.4]\n",
      " [6.4 3.2 4.5 1.5]\n",
      " [6.9 3.1 4.9 1.5]\n",
      " [5.5 2.3 4.  1.3]\n",
      " [6.5 2.8 4.6 1.5]\n",
      " [5.7 2.8 4.5 1.3]\n",
      " [6.3 3.3 4.7 1.6]\n",
      " [4.9 2.4 3.3 1. ]\n",
      " [6.6 2.9 4.6 1.3]\n",
      " [5.2 2.7 3.9 1.4]\n",
      " [5.  2.  3.5 1. ]\n",
      " [5.9 3.  4.2 1.5]\n",
      " [6.  2.2 4.  1. ]\n",
      " [6.1 2.9 4.7 1.4]\n",
      " [5.6 2.9 3.6 1.3]\n",
      " [6.7 3.1 4.4 1.4]\n",
      " [5.6 3.  4.5 1.5]\n",
      " [5.8 2.7 4.1 1. ]\n",
      " [6.2 2.2 4.5 1.5]\n",
      " [5.6 2.5 3.9 1.1]\n",
      " [5.9 3.2 4.8 1.8]\n",
      " [6.1 2.8 4.  1.3]\n",
      " [6.3 2.5 4.9 1.5]\n",
      " [6.1 2.8 4.7 1.2]\n",
      " [6.4 2.9 4.3 1.3]\n",
      " [6.6 3.  4.4 1.4]\n",
      " [6.8 2.8 4.8 1.4]\n",
      " [6.7 3.  5.  1.7]\n",
      " [6.  2.9 4.5 1.5]\n",
      " [5.7 2.6 3.5 1. ]\n",
      " [5.5 2.4 3.8 1.1]\n",
      " [5.5 2.4 3.7 1. ]\n",
      " [5.8 2.7 3.9 1.2]\n",
      " [6.  2.7 5.1 1.6]\n",
      " [5.4 3.  4.5 1.5]\n",
      " [6.  3.4 4.5 1.6]\n",
      " [6.7 3.1 4.7 1.5]\n",
      " [6.3 2.3 4.4 1.3]\n",
      " [5.6 3.  4.1 1.3]\n",
      " [5.5 2.5 4.  1.3]\n",
      " [5.5 2.6 4.4 1.2]\n",
      " [6.1 3.  4.6 1.4]\n",
      " [5.8 2.6 4.  1.2]\n",
      " [5.  2.3 3.3 1. ]\n",
      " [5.6 2.7 4.2 1.3]\n",
      " [5.7 3.  4.2 1.2]\n",
      " [5.7 2.9 4.2 1.3]\n",
      " [6.2 2.9 4.3 1.3]\n",
      " [5.1 2.5 3.  1.1]\n",
      " [5.7 2.8 4.1 1.3]\n",
      " [6.3 3.3 6.  2.5]\n",
      " [5.8 2.7 5.1 1.9]\n",
      " [7.1 3.  5.9 2.1]\n",
      " [6.3 2.9 5.6 1.8]\n",
      " [6.5 3.  5.8 2.2]\n",
      " [7.6 3.  6.6 2.1]\n",
      " [4.9 2.5 4.5 1.7]\n",
      " [7.3 2.9 6.3 1.8]\n",
      " [6.7 2.5 5.8 1.8]\n",
      " [7.2 3.6 6.1 2.5]\n",
      " [6.5 3.2 5.1 2. ]\n",
      " [6.4 2.7 5.3 1.9]\n",
      " [6.8 3.  5.5 2.1]\n",
      " [5.7 2.5 5.  2. ]\n",
      " [5.8 2.8 5.1 2.4]\n",
      " [6.4 3.2 5.3 2.3]\n",
      " [6.5 3.  5.5 1.8]\n",
      " [7.7 3.8 6.7 2.2]\n",
      " [7.7 2.6 6.9 2.3]\n",
      " [6.  2.2 5.  1.5]\n",
      " [6.9 3.2 5.7 2.3]\n",
      " [5.6 2.8 4.9 2. ]\n",
      " [7.7 2.8 6.7 2. ]\n",
      " [6.3 2.7 4.9 1.8]\n",
      " [6.7 3.3 5.7 2.1]\n",
      " [7.2 3.2 6.  1.8]\n",
      " [6.2 2.8 4.8 1.8]\n",
      " [6.1 3.  4.9 1.8]\n",
      " [6.4 2.8 5.6 2.1]\n",
      " [7.2 3.  5.8 1.6]\n",
      " [7.4 2.8 6.1 1.9]\n",
      " [7.9 3.8 6.4 2. ]\n",
      " [6.4 2.8 5.6 2.2]\n",
      " [6.3 2.8 5.1 1.5]\n",
      " [6.1 2.6 5.6 1.4]\n",
      " [7.7 3.  6.1 2.3]\n",
      " [6.3 3.4 5.6 2.4]\n",
      " [6.4 3.1 5.5 1.8]\n",
      " [6.  3.  4.8 1.8]\n",
      " [6.9 3.1 5.4 2.1]\n",
      " [6.7 3.1 5.6 2.4]\n",
      " [6.9 3.1 5.1 2.3]\n",
      " [5.8 2.7 5.1 1.9]\n",
      " [6.8 3.2 5.9 2.3]\n",
      " [6.7 3.3 5.7 2.5]\n",
      " [6.7 3.  5.2 2.3]\n",
      " [6.3 2.5 5.  1.9]\n",
      " [6.5 3.  5.2 2. ]\n",
      " [6.2 3.4 5.4 2.3]\n",
      " [5.9 3.  5.1 1.8]]\n",
      "[0 0 0 0 0 0 0 0 0 0 0 0 0 0 0 0 0 0 0 0 0 0 0 0 0 0 0 0 0 0 0 0 0 0 0 0 0\n",
      " 0 0 0 0 0 0 0 0 0 0 0 0 0 1 1 1 1 1 1 1 1 1 1 1 1 1 1 1 1 1 1 1 1 1 1 1 1\n",
      " 1 1 1 1 1 1 1 1 1 1 1 1 1 1 1 1 1 1 1 1 1 1 1 1 1 1 2 2 2 2 2 2 2 2 2 2 2\n",
      " 2 2 2 2 2 2 2 2 2 2 2 2 2 2 2 2 2 2 2 2 2 2 2 2 2 2 2 2 2 2 2 2 2 2 2 2 2\n",
      " 2 2]\n"
     ]
    },
    {
     "data": {
      "text/plain": [
       "DecisionTreeClassifier(class_weight=None, criterion='gini', max_depth=None,\n",
       "                       max_features=None, max_leaf_nodes=None,\n",
       "                       min_impurity_decrease=0.0, min_impurity_split=None,\n",
       "                       min_samples_leaf=1, min_samples_split=2,\n",
       "                       min_weight_fraction_leaf=0.0, presort=False,\n",
       "                       random_state=None, splitter='best')"
      ]
     },
     "execution_count": 35,
     "metadata": {},
     "output_type": "execute_result"
    },
    {
     "data": {
      "image/png": "[encoded data removed]",
      "text/plain": [
       "<Figure size 432x288 with 1 Axes>"
      ]
     },
     "metadata": {
      "needs_background": "light"
     },
     "output_type": "display_data"
    }
   ],
   "source": [
    "from sklearn.datasets import load_iris\n",
    "from sklearn import tree\n",
    "X, y = load_iris(return_X_y=True)\n",
    "print (X), print(y)\n",
    "clf = tree.DecisionTreeClassifier()\n",
    "clf = clf.fit(X, y)\n",
    "\n",
    "tree.plot_tree(clf) "
   ]
  },
  {
   "cell_type": "code",
   "execution_count": 7,
   "metadata": {},
   "outputs": [
    {
     "data": {
      "text/plain": [
       "'iris1.pdf'"
      ]
     },
     "execution_count": 7,
     "metadata": {},
     "output_type": "execute_result"
    }
   ],
   "source": [
    "from sklearn.tree import DecisionTreeClassifier, export_graphviz\n",
    "import graphviz as g\n",
    "dot_data = tree.export_graphviz(clf, out_file=None) \n",
    "graph = g.Source(dot_data) \n",
    "graph.render(\"iris1\")  #export DecisionTreeClassifier"
   ]
  },
  {
   "cell_type": "code",
   "execution_count": 8,
   "metadata": {},
   "outputs": [
    {
     "data": {
      "text/html": [
       "<div>\n",
       "<style scoped>\n",
       "    .dataframe tbody tr th:only-of-type {\n",
       "        vertical-align: middle;\n",
       "    }\n",
       "\n",
       "    .dataframe tbody tr th {\n",
       "        vertical-align: top;\n",
       "    }\n",
       "\n",
       "    .dataframe thead th {\n",
       "        text-align: right;\n",
       "    }\n",
       "</style>\n",
       "<table border=\"1\" class=\"dataframe\">\n",
       "  <thead>\n",
       "    <tr style=\"text-align: right;\">\n",
       "      <th></th>\n",
       "      <th>symboling</th>\n",
       "      <th>normalized_losses</th>\n",
       "      <th>make</th>\n",
       "      <th>fuel_type</th>\n",
       "      <th>aspiration</th>\n",
       "      <th>num_doors</th>\n",
       "      <th>body_style</th>\n",
       "      <th>drive_wheels</th>\n",
       "      <th>engine_location</th>\n",
       "      <th>wheel_base</th>\n",
       "      <th>...</th>\n",
       "      <th>engine_size</th>\n",
       "      <th>fuel_system</th>\n",
       "      <th>bore</th>\n",
       "      <th>stroke</th>\n",
       "      <th>compression_ratio</th>\n",
       "      <th>horsepower</th>\n",
       "      <th>peak_rpm</th>\n",
       "      <th>city_mpg</th>\n",
       "      <th>highway_mpg</th>\n",
       "      <th>price</th>\n",
       "    </tr>\n",
       "  </thead>\n",
       "  <tbody>\n",
       "    <tr>\n",
       "      <td>0</td>\n",
       "      <td>&lt;!DOCTYPE html PUBLIC \"-//W3C//DTD XHTML 1.0 T...</td>\n",
       "      <td>d=document</td>\n",
       "      <td>e=d.documentElement</td>\n",
       "      <td>b=d.body</td>\n",
       "      <td>x=w.innerWidth||e.clientWidth||b.clientWidth</td>\n",
       "      <td>y=w.innerHeight||e.clientHeight||b.clientHeigh...</td>\n",
       "      <td>NaN</td>\n",
       "      <td>NaN</td>\n",
       "      <td>NaN</td>\n",
       "      <td>NaN</td>\n",
       "      <td>...</td>\n",
       "      <td>NaN</td>\n",
       "      <td>NaN</td>\n",
       "      <td>NaN</td>\n",
       "      <td>NaN</td>\n",
       "      <td>NaN</td>\n",
       "      <td>NaN</td>\n",
       "      <td>NaN</td>\n",
       "      <td>NaN</td>\n",
       "      <td>NaN</td>\n",
       "      <td>NaN</td>\n",
       "    </tr>\n",
       "  </tbody>\n",
       "</table>\n",
       "<p>1 rows × 26 columns</p>\n",
       "</div>"
      ],
      "text/plain": [
       "                                           symboling normalized_losses  \\\n",
       "0  <!DOCTYPE html PUBLIC \"-//W3C//DTD XHTML 1.0 T...        d=document   \n",
       "\n",
       "                  make fuel_type  \\\n",
       "0  e=d.documentElement  b=d.body   \n",
       "\n",
       "                                     aspiration  \\\n",
       "0  x=w.innerWidth||e.clientWidth||b.clientWidth   \n",
       "\n",
       "                                           num_doors  body_style  \\\n",
       "0  y=w.innerHeight||e.clientHeight||b.clientHeigh...         NaN   \n",
       "\n",
       "   drive_wheels  engine_location  wheel_base  ...  engine_size  fuel_system  \\\n",
       "0           NaN              NaN         NaN  ...          NaN          NaN   \n",
       "\n",
       "   bore  stroke  compression_ratio  horsepower  peak_rpm  city_mpg  \\\n",
       "0   NaN     NaN                NaN         NaN       NaN       NaN   \n",
       "\n",
       "   highway_mpg  price  \n",
       "0          NaN    NaN  \n",
       "\n",
       "[1 rows x 26 columns]"
      ]
     },
     "execution_count": 8,
     "metadata": {},
     "output_type": "execute_result"
    }
   ],
   "source": [
    "from sklearn import tree\n",
    "import pandas as pd\n",
    "import numpy as np\n",
    "\n",
    "# Define the headers since the data does not have any\n",
    "headers = [\"symboling\", \"normalized_losses\", \"make\", \"fuel_type\", \"aspiration\", #5\n",
    "           \"num_doors\", \"body_style\", \"drive_wheels\", \"engine_location\", #4\n",
    "           \"wheel_base\", \"length\", \"width\", \"height\", \"curb_weight\", #5\n",
    "           \"engine_type\", \"num_cylinders\", \"engine_size\", \"fuel_system\", #4\n",
    "           \"bore\", \"stroke\", \"compression_ratio\", \"horsepower\", \"peak_rpm\", #5\n",
    "           \"city_mpg\", \"highway_mpg\", \"price\"] #3\n",
    "\n",
    "# Read in the CSV file and convert \"?\" to NaN\n",
    "df = pd.read_csv(\"http://mlr.cs.umass.edu/ml/machine-learning-databases/autos/imports-85.data\",\n",
    "                  header=None, names=headers, na_values=\"?\" )\n",
    "df.head()"
   ]
  },
  {
   "cell_type": "code",
   "execution_count": 9,
   "metadata": {},
   "outputs": [
    {
     "data": {
      "text/plain": [
       "symboling             object\n",
       "normalized_losses     object\n",
       "make                  object\n",
       "fuel_type             object\n",
       "aspiration            object\n",
       "num_doors             object\n",
       "body_style           float64\n",
       "drive_wheels         float64\n",
       "engine_location      float64\n",
       "wheel_base           float64\n",
       "length               float64\n",
       "width                float64\n",
       "height               float64\n",
       "curb_weight          float64\n",
       "engine_type          float64\n",
       "num_cylinders        float64\n",
       "engine_size          float64\n",
       "fuel_system          float64\n",
       "bore                 float64\n",
       "stroke               float64\n",
       "compression_ratio    float64\n",
       "horsepower           float64\n",
       "peak_rpm             float64\n",
       "city_mpg             float64\n",
       "highway_mpg          float64\n",
       "price                float64\n",
       "dtype: object"
      ]
     },
     "execution_count": 9,
     "metadata": {},
     "output_type": "execute_result"
    }
   ],
   "source": [
    "df.dtypes"
   ]
  },
  {
   "cell_type": "code",
   "execution_count": 10,
   "metadata": {},
   "outputs": [],
   "source": [
    "#Importing required libraries\n",
    "import pandas as pd\n",
    "import numpy as np\n",
    "from sklearn.datasets import load_iris\n",
    "from sklearn.tree import DecisionTreeClassifier\n",
    "from sklearn.model_selection import train_test_split"
   ]
  },
  {
   "cell_type": "code",
   "execution_count": 36,
   "metadata": {},
   "outputs": [
    {
     "name": "stdout",
     "output_type": "stream",
     "text": [
      "Classes to predict:  ['setosa' 'versicolor' 'virginica']\n"
     ]
    },
    {
     "data": {
      "text/plain": [
       "{'data': array([[5.1, 3.5, 1.4, 0.2],\n",
       "        [4.9, 3. , 1.4, 0.2],\n",
       "        [4.7, 3.2, 1.3, 0.2],\n",
       "        [4.6, 3.1, 1.5, 0.2],\n",
       "        [5. , 3.6, 1.4, 0.2],\n",
       "        [5.4, 3.9, 1.7, 0.4],\n",
       "        [4.6, 3.4, 1.4, 0.3],\n",
       "        [5. , 3.4, 1.5, 0.2],\n",
       "        [4.4, 2.9, 1.4, 0.2],\n",
       "        [4.9, 3.1, 1.5, 0.1],\n",
       "        [5.4, 3.7, 1.5, 0.2],\n",
       "        [4.8, 3.4, 1.6, 0.2],\n",
       "        [4.8, 3. , 1.4, 0.1],\n",
       "        [4.3, 3. , 1.1, 0.1],\n",
       "        [5.8, 4. , 1.2, 0.2],\n",
       "        [5.7, 4.4, 1.5, 0.4],\n",
       "        [5.4, 3.9, 1.3, 0.4],\n",
       "        [5.1, 3.5, 1.4, 0.3],\n",
       "        [5.7, 3.8, 1.7, 0.3],\n",
       "        [5.1, 3.8, 1.5, 0.3],\n",
       "        [5.4, 3.4, 1.7, 0.2],\n",
       "        [5.1, 3.7, 1.5, 0.4],\n",
       "        [4.6, 3.6, 1. , 0.2],\n",
       "        [5.1, 3.3, 1.7, 0.5],\n",
       "        [4.8, 3.4, 1.9, 0.2],\n",
       "        [5. , 3. , 1.6, 0.2],\n",
       "        [5. , 3.4, 1.6, 0.4],\n",
       "        [5.2, 3.5, 1.5, 0.2],\n",
       "        [5.2, 3.4, 1.4, 0.2],\n",
       "        [4.7, 3.2, 1.6, 0.2],\n",
       "        [4.8, 3.1, 1.6, 0.2],\n",
       "        [5.4, 3.4, 1.5, 0.4],\n",
       "        [5.2, 4.1, 1.5, 0.1],\n",
       "        [5.5, 4.2, 1.4, 0.2],\n",
       "        [4.9, 3.1, 1.5, 0.2],\n",
       "        [5. , 3.2, 1.2, 0.2],\n",
       "        [5.5, 3.5, 1.3, 0.2],\n",
       "        [4.9, 3.6, 1.4, 0.1],\n",
       "        [4.4, 3. , 1.3, 0.2],\n",
       "        [5.1, 3.4, 1.5, 0.2],\n",
       "        [5. , 3.5, 1.3, 0.3],\n",
       "        [4.5, 2.3, 1.3, 0.3],\n",
       "        [4.4, 3.2, 1.3, 0.2],\n",
       "        [5. , 3.5, 1.6, 0.6],\n",
       "        [5.1, 3.8, 1.9, 0.4],\n",
       "        [4.8, 3. , 1.4, 0.3],\n",
       "        [5.1, 3.8, 1.6, 0.2],\n",
       "        [4.6, 3.2, 1.4, 0.2],\n",
       "        [5.3, 3.7, 1.5, 0.2],\n",
       "        [5. , 3.3, 1.4, 0.2],\n",
       "        [7. , 3.2, 4.7, 1.4],\n",
       "        [6.4, 3.2, 4.5, 1.5],\n",
       "        [6.9, 3.1, 4.9, 1.5],\n",
       "        [5.5, 2.3, 4. , 1.3],\n",
       "        [6.5, 2.8, 4.6, 1.5],\n",
       "        [5.7, 2.8, 4.5, 1.3],\n",
       "        [6.3, 3.3, 4.7, 1.6],\n",
       "        [4.9, 2.4, 3.3, 1. ],\n",
       "        [6.6, 2.9, 4.6, 1.3],\n",
       "        [5.2, 2.7, 3.9, 1.4],\n",
       "        [5. , 2. , 3.5, 1. ],\n",
       "        [5.9, 3. , 4.2, 1.5],\n",
       "        [6. , 2.2, 4. , 1. ],\n",
       "        [6.1, 2.9, 4.7, 1.4],\n",
       "        [5.6, 2.9, 3.6, 1.3],\n",
       "        [6.7, 3.1, 4.4, 1.4],\n",
       "        [5.6, 3. , 4.5, 1.5],\n",
       "        [5.8, 2.7, 4.1, 1. ],\n",
       "        [6.2, 2.2, 4.5, 1.5],\n",
       "        [5.6, 2.5, 3.9, 1.1],\n",
       "        [5.9, 3.2, 4.8, 1.8],\n",
       "        [6.1, 2.8, 4. , 1.3],\n",
       "        [6.3, 2.5, 4.9, 1.5],\n",
       "        [6.1, 2.8, 4.7, 1.2],\n",
       "        [6.4, 2.9, 4.3, 1.3],\n",
       "        [6.6, 3. , 4.4, 1.4],\n",
       "        [6.8, 2.8, 4.8, 1.4],\n",
       "        [6.7, 3. , 5. , 1.7],\n",
       "        [6. , 2.9, 4.5, 1.5],\n",
       "        [5.7, 2.6, 3.5, 1. ],\n",
       "        [5.5, 2.4, 3.8, 1.1],\n",
       "        [5.5, 2.4, 3.7, 1. ],\n",
       "        [5.8, 2.7, 3.9, 1.2],\n",
       "        [6. , 2.7, 5.1, 1.6],\n",
       "        [5.4, 3. , 4.5, 1.5],\n",
       "        [6. , 3.4, 4.5, 1.6],\n",
       "        [6.7, 3.1, 4.7, 1.5],\n",
       "        [6.3, 2.3, 4.4, 1.3],\n",
       "        [5.6, 3. , 4.1, 1.3],\n",
       "        [5.5, 2.5, 4. , 1.3],\n",
       "        [5.5, 2.6, 4.4, 1.2],\n",
       "        [6.1, 3. , 4.6, 1.4],\n",
       "        [5.8, 2.6, 4. , 1.2],\n",
       "        [5. , 2.3, 3.3, 1. ],\n",
       "        [5.6, 2.7, 4.2, 1.3],\n",
       "        [5.7, 3. , 4.2, 1.2],\n",
       "        [5.7, 2.9, 4.2, 1.3],\n",
       "        [6.2, 2.9, 4.3, 1.3],\n",
       "        [5.1, 2.5, 3. , 1.1],\n",
       "        [5.7, 2.8, 4.1, 1.3],\n",
       "        [6.3, 3.3, 6. , 2.5],\n",
       "        [5.8, 2.7, 5.1, 1.9],\n",
       "        [7.1, 3. , 5.9, 2.1],\n",
       "        [6.3, 2.9, 5.6, 1.8],\n",
       "        [6.5, 3. , 5.8, 2.2],\n",
       "        [7.6, 3. , 6.6, 2.1],\n",
       "        [4.9, 2.5, 4.5, 1.7],\n",
       "        [7.3, 2.9, 6.3, 1.8],\n",
       "        [6.7, 2.5, 5.8, 1.8],\n",
       "        [7.2, 3.6, 6.1, 2.5],\n",
       "        [6.5, 3.2, 5.1, 2. ],\n",
       "        [6.4, 2.7, 5.3, 1.9],\n",
       "        [6.8, 3. , 5.5, 2.1],\n",
       "        [5.7, 2.5, 5. , 2. ],\n",
       "        [5.8, 2.8, 5.1, 2.4],\n",
       "        [6.4, 3.2, 5.3, 2.3],\n",
       "        [6.5, 3. , 5.5, 1.8],\n",
       "        [7.7, 3.8, 6.7, 2.2],\n",
       "        [7.7, 2.6, 6.9, 2.3],\n",
       "        [6. , 2.2, 5. , 1.5],\n",
       "        [6.9, 3.2, 5.7, 2.3],\n",
       "        [5.6, 2.8, 4.9, 2. ],\n",
       "        [7.7, 2.8, 6.7, 2. ],\n",
       "        [6.3, 2.7, 4.9, 1.8],\n",
       "        [6.7, 3.3, 5.7, 2.1],\n",
       "        [7.2, 3.2, 6. , 1.8],\n",
       "        [6.2, 2.8, 4.8, 1.8],\n",
       "        [6.1, 3. , 4.9, 1.8],\n",
       "        [6.4, 2.8, 5.6, 2.1],\n",
       "        [7.2, 3. , 5.8, 1.6],\n",
       "        [7.4, 2.8, 6.1, 1.9],\n",
       "        [7.9, 3.8, 6.4, 2. ],\n",
       "        [6.4, 2.8, 5.6, 2.2],\n",
       "        [6.3, 2.8, 5.1, 1.5],\n",
       "        [6.1, 2.6, 5.6, 1.4],\n",
       "        [7.7, 3. , 6.1, 2.3],\n",
       "        [6.3, 3.4, 5.6, 2.4],\n",
       "        [6.4, 3.1, 5.5, 1.8],\n",
       "        [6. , 3. , 4.8, 1.8],\n",
       "        [6.9, 3.1, 5.4, 2.1],\n",
       "        [6.7, 3.1, 5.6, 2.4],\n",
       "        [6.9, 3.1, 5.1, 2.3],\n",
       "        [5.8, 2.7, 5.1, 1.9],\n",
       "        [6.8, 3.2, 5.9, 2.3],\n",
       "        [6.7, 3.3, 5.7, 2.5],\n",
       "        [6.7, 3. , 5.2, 2.3],\n",
       "        [6.3, 2.5, 5. , 1.9],\n",
       "        [6.5, 3. , 5.2, 2. ],\n",
       "        [6.2, 3.4, 5.4, 2.3],\n",
       "        [5.9, 3. , 5.1, 1.8]]),\n",
       " 'target': array([0, 0, 0, 0, 0, 0, 0, 0, 0, 0, 0, 0, 0, 0, 0, 0, 0, 0, 0, 0, 0, 0,\n",
       "        0, 0, 0, 0, 0, 0, 0, 0, 0, 0, 0, 0, 0, 0, 0, 0, 0, 0, 0, 0, 0, 0,\n",
       "        0, 0, 0, 0, 0, 0, 1, 1, 1, 1, 1, 1, 1, 1, 1, 1, 1, 1, 1, 1, 1, 1,\n",
       "        1, 1, 1, 1, 1, 1, 1, 1, 1, 1, 1, 1, 1, 1, 1, 1, 1, 1, 1, 1, 1, 1,\n",
       "        1, 1, 1, 1, 1, 1, 1, 1, 1, 1, 1, 1, 2, 2, 2, 2, 2, 2, 2, 2, 2, 2,\n",
       "        2, 2, 2, 2, 2, 2, 2, 2, 2, 2, 2, 2, 2, 2, 2, 2, 2, 2, 2, 2, 2, 2,\n",
       "        2, 2, 2, 2, 2, 2, 2, 2, 2, 2, 2, 2, 2, 2, 2, 2, 2, 2]),\n",
       " 'target_names': array(['setosa', 'versicolor', 'virginica'], dtype='<U10'),\n",
       " 'DESCR': '.. _iris_dataset:\\n\\nIris plants dataset\\n--------------------\\n\\n**Data Set Characteristics:**\\n\\n    :Number of Instances: 150 (50 in each of three classes)\\n    :Number of Attributes: 4 numeric, predictive attributes and the class\\n    :Attribute Information:\\n        - sepal length in cm\\n        - sepal width in cm\\n        - petal length in cm\\n        - petal width in cm\\n        - class:\\n                - Iris-Setosa\\n                - Iris-Versicolour\\n                - Iris-Virginica\\n                \\n    :Summary Statistics:\\n\\n    ============== ==== ==== ======= ===== ====================\\n                    Min  Max   Mean    SD   Class Correlation\\n    ============== ==== ==== ======= ===== ====================\\n    sepal length:   4.3  7.9   5.84   0.83    0.7826\\n    sepal width:    2.0  4.4   3.05   0.43   -0.4194\\n    petal length:   1.0  6.9   3.76   1.76    0.9490  (high!)\\n    petal width:    0.1  2.5   1.20   0.76    0.9565  (high!)\\n    ============== ==== ==== ======= ===== ====================\\n\\n    :Missing Attribute Values: None\\n    :Class Distribution: 33.3% for each of 3 classes.\\n    :Creator: R.A. Fisher\\n    :Donor: Michael Marshall (MARSHALL%PLU@io.arc.nasa.gov)\\n    :Date: July, 1988\\n\\nThe famous Iris database, first used by Sir R.A. Fisher. The dataset is taken\\nfrom Fisher\\'s paper. Note that it\\'s the same as in R, but not as in the UCI\\nMachine Learning Repository, which has two wrong data points.\\n\\nThis is perhaps the best known database to be found in the\\npattern recognition literature.  Fisher\\'s paper is a classic in the field and\\nis referenced frequently to this day.  (See Duda & Hart, for example.)  The\\ndata set contains 3 classes of 50 instances each, where each class refers to a\\ntype of iris plant.  One class is linearly separable from the other 2; the\\nlatter are NOT linearly separable from each other.\\n\\n.. topic:: References\\n\\n   - Fisher, R.A. \"The use of multiple measurements in taxonomic problems\"\\n     Annual Eugenics, 7, Part II, 179-188 (1936); also in \"Contributions to\\n     Mathematical Statistics\" (John Wiley, NY, 1950).\\n   - Duda, R.O., & Hart, P.E. (1973) Pattern Classification and Scene Analysis.\\n     (Q327.D83) John Wiley & Sons.  ISBN 0-471-22361-1.  See page 218.\\n   - Dasarathy, B.V. (1980) \"Nosing Around the Neighborhood: A New System\\n     Structure and Classification Rule for Recognition in Partially Exposed\\n     Environments\".  IEEE Transactions on Pattern Analysis and Machine\\n     Intelligence, Vol. PAMI-2, No. 1, 67-71.\\n   - Gates, G.W. (1972) \"The Reduced Nearest Neighbor Rule\".  IEEE Transactions\\n     on Information Theory, May 1972, 431-433.\\n   - See also: 1988 MLC Proceedings, 54-64.  Cheeseman et al\"s AUTOCLASS II\\n     conceptual clustering system finds 3 classes in the data.\\n   - Many, many more ...',\n",
       " 'feature_names': ['sepal length (cm)',\n",
       "  'sepal width (cm)',\n",
       "  'petal length (cm)',\n",
       "  'petal width (cm)'],\n",
       " 'filename': '/Applications/anaconda3/lib/python3.7/site-packages/sklearn/datasets/data/iris.csv'}"
      ]
     },
     "execution_count": 36,
     "metadata": {},
     "output_type": "execute_result"
    }
   ],
   "source": [
    "#Loading the iris data\n",
    "data = load_iris()\n",
    "print('Classes to predict: ', data.target_names)\n",
    "data"
   ]
  },
  {
   "cell_type": "code",
   "execution_count": 12,
   "metadata": {},
   "outputs": [
    {
     "name": "stdout",
     "output_type": "stream",
     "text": [
      "(150, 4)\n",
      "Number of examples in the data: 150\n"
     ]
    }
   ],
   "source": [
    "#Extracting data attributes\n",
    "X = data.data\n",
    "### Extracting target/ class labels\n",
    "y = data.target\n",
    "\n",
    "print(X.shape)\n",
    "\n",
    "print('Number of examples in the data:', X.shape[0])"
   ]
  },
  {
   "cell_type": "code",
   "execution_count": 13,
   "metadata": {},
   "outputs": [
    {
     "name": "stdout",
     "output_type": "stream",
     "text": [
      "[[5.1 3.5 1.4 0.2]\n",
      " [4.9 3.  1.4 0.2]\n",
      " [4.7 3.2 1.3 0.2]\n",
      " [4.6 3.1 1.5 0.2]\n",
      " [5.  3.6 1.4 0.2]\n",
      " [5.4 3.9 1.7 0.4]\n",
      " [4.6 3.4 1.4 0.3]\n",
      " [5.  3.4 1.5 0.2]\n",
      " [4.4 2.9 1.4 0.2]\n",
      " [4.9 3.1 1.5 0.1]\n",
      " [5.4 3.7 1.5 0.2]\n",
      " [4.8 3.4 1.6 0.2]\n",
      " [4.8 3.  1.4 0.1]\n",
      " [4.3 3.  1.1 0.1]\n",
      " [5.8 4.  1.2 0.2]\n",
      " [5.7 4.4 1.5 0.4]\n",
      " [5.4 3.9 1.3 0.4]\n",
      " [5.1 3.5 1.4 0.3]\n",
      " [5.7 3.8 1.7 0.3]\n",
      " [5.1 3.8 1.5 0.3]\n",
      " [5.4 3.4 1.7 0.2]\n",
      " [5.1 3.7 1.5 0.4]\n",
      " [4.6 3.6 1.  0.2]\n",
      " [5.1 3.3 1.7 0.5]\n",
      " [4.8 3.4 1.9 0.2]\n",
      " [5.  3.  1.6 0.2]\n",
      " [5.  3.4 1.6 0.4]\n",
      " [5.2 3.5 1.5 0.2]\n",
      " [5.2 3.4 1.4 0.2]\n",
      " [4.7 3.2 1.6 0.2]\n",
      " [4.8 3.1 1.6 0.2]\n",
      " [5.4 3.4 1.5 0.4]\n",
      " [5.2 4.1 1.5 0.1]\n",
      " [5.5 4.2 1.4 0.2]\n",
      " [4.9 3.1 1.5 0.2]\n",
      " [5.  3.2 1.2 0.2]\n",
      " [5.5 3.5 1.3 0.2]\n",
      " [4.9 3.6 1.4 0.1]\n",
      " [4.4 3.  1.3 0.2]\n",
      " [5.1 3.4 1.5 0.2]\n",
      " [5.  3.5 1.3 0.3]\n",
      " [4.5 2.3 1.3 0.3]\n",
      " [4.4 3.2 1.3 0.2]\n",
      " [5.  3.5 1.6 0.6]\n",
      " [5.1 3.8 1.9 0.4]\n",
      " [4.8 3.  1.4 0.3]\n",
      " [5.1 3.8 1.6 0.2]\n",
      " [4.6 3.2 1.4 0.2]\n",
      " [5.3 3.7 1.5 0.2]\n",
      " [5.  3.3 1.4 0.2]\n",
      " [7.  3.2 4.7 1.4]\n",
      " [6.4 3.2 4.5 1.5]\n",
      " [6.9 3.1 4.9 1.5]\n",
      " [5.5 2.3 4.  1.3]\n",
      " [6.5 2.8 4.6 1.5]\n",
      " [5.7 2.8 4.5 1.3]\n",
      " [6.3 3.3 4.7 1.6]\n",
      " [4.9 2.4 3.3 1. ]\n",
      " [6.6 2.9 4.6 1.3]\n",
      " [5.2 2.7 3.9 1.4]\n",
      " [5.  2.  3.5 1. ]\n",
      " [5.9 3.  4.2 1.5]\n",
      " [6.  2.2 4.  1. ]\n",
      " [6.1 2.9 4.7 1.4]\n",
      " [5.6 2.9 3.6 1.3]\n",
      " [6.7 3.1 4.4 1.4]\n",
      " [5.6 3.  4.5 1.5]\n",
      " [5.8 2.7 4.1 1. ]\n",
      " [6.2 2.2 4.5 1.5]\n",
      " [5.6 2.5 3.9 1.1]\n",
      " [5.9 3.2 4.8 1.8]\n",
      " [6.1 2.8 4.  1.3]\n",
      " [6.3 2.5 4.9 1.5]\n",
      " [6.1 2.8 4.7 1.2]\n",
      " [6.4 2.9 4.3 1.3]\n",
      " [6.6 3.  4.4 1.4]\n",
      " [6.8 2.8 4.8 1.4]\n",
      " [6.7 3.  5.  1.7]\n",
      " [6.  2.9 4.5 1.5]\n",
      " [5.7 2.6 3.5 1. ]\n",
      " [5.5 2.4 3.8 1.1]\n",
      " [5.5 2.4 3.7 1. ]\n",
      " [5.8 2.7 3.9 1.2]\n",
      " [6.  2.7 5.1 1.6]\n",
      " [5.4 3.  4.5 1.5]\n",
      " [6.  3.4 4.5 1.6]\n",
      " [6.7 3.1 4.7 1.5]\n",
      " [6.3 2.3 4.4 1.3]\n",
      " [5.6 3.  4.1 1.3]\n",
      " [5.5 2.5 4.  1.3]\n",
      " [5.5 2.6 4.4 1.2]\n",
      " [6.1 3.  4.6 1.4]\n",
      " [5.8 2.6 4.  1.2]\n",
      " [5.  2.3 3.3 1. ]\n",
      " [5.6 2.7 4.2 1.3]\n",
      " [5.7 3.  4.2 1.2]\n",
      " [5.7 2.9 4.2 1.3]\n",
      " [6.2 2.9 4.3 1.3]\n",
      " [5.1 2.5 3.  1.1]\n",
      " [5.7 2.8 4.1 1.3]\n",
      " [6.3 3.3 6.  2.5]\n",
      " [5.8 2.7 5.1 1.9]\n",
      " [7.1 3.  5.9 2.1]\n",
      " [6.3 2.9 5.6 1.8]\n",
      " [6.5 3.  5.8 2.2]\n",
      " [7.6 3.  6.6 2.1]\n",
      " [4.9 2.5 4.5 1.7]\n",
      " [7.3 2.9 6.3 1.8]\n",
      " [6.7 2.5 5.8 1.8]\n",
      " [7.2 3.6 6.1 2.5]\n",
      " [6.5 3.2 5.1 2. ]\n",
      " [6.4 2.7 5.3 1.9]\n",
      " [6.8 3.  5.5 2.1]\n",
      " [5.7 2.5 5.  2. ]\n",
      " [5.8 2.8 5.1 2.4]\n",
      " [6.4 3.2 5.3 2.3]\n",
      " [6.5 3.  5.5 1.8]\n",
      " [7.7 3.8 6.7 2.2]\n",
      " [7.7 2.6 6.9 2.3]\n",
      " [6.  2.2 5.  1.5]\n",
      " [6.9 3.2 5.7 2.3]\n",
      " [5.6 2.8 4.9 2. ]\n",
      " [7.7 2.8 6.7 2. ]\n",
      " [6.3 2.7 4.9 1.8]\n",
      " [6.7 3.3 5.7 2.1]\n",
      " [7.2 3.2 6.  1.8]\n",
      " [6.2 2.8 4.8 1.8]\n",
      " [6.1 3.  4.9 1.8]\n",
      " [6.4 2.8 5.6 2.1]\n",
      " [7.2 3.  5.8 1.6]\n",
      " [7.4 2.8 6.1 1.9]\n",
      " [7.9 3.8 6.4 2. ]\n",
      " [6.4 2.8 5.6 2.2]\n",
      " [6.3 2.8 5.1 1.5]\n",
      " [6.1 2.6 5.6 1.4]\n",
      " [7.7 3.  6.1 2.3]\n",
      " [6.3 3.4 5.6 2.4]\n",
      " [6.4 3.1 5.5 1.8]\n",
      " [6.  3.  4.8 1.8]\n",
      " [6.9 3.1 5.4 2.1]\n",
      " [6.7 3.1 5.6 2.4]\n",
      " [6.9 3.1 5.1 2.3]\n",
      " [5.8 2.7 5.1 1.9]\n",
      " [6.8 3.2 5.9 2.3]\n",
      " [6.7 3.3 5.7 2.5]\n",
      " [6.7 3.  5.2 2.3]\n",
      " [6.3 2.5 5.  1.9]\n",
      " [6.5 3.  5.2 2. ]\n",
      " [6.2 3.4 5.4 2.3]\n",
      " [5.9 3.  5.1 1.8]]\n",
      "[0 0 0 0 0 0 0 0 0 0 0 0 0 0 0 0 0 0 0 0 0 0 0 0 0 0 0 0 0 0 0 0 0 0 0 0 0\n",
      " 0 0 0 0 0 0 0 0 0 0 0 0 0 1 1 1 1 1 1 1 1 1 1 1 1 1 1 1 1 1 1 1 1 1 1 1 1\n",
      " 1 1 1 1 1 1 1 1 1 1 1 1 1 1 1 1 1 1 1 1 1 1 1 1 1 1 2 2 2 2 2 2 2 2 2 2 2\n",
      " 2 2 2 2 2 2 2 2 2 2 2 2 2 2 2 2 2 2 2 2 2 2 2 2 2 2 2 2 2 2 2 2 2 2 2 2 2\n",
      " 2 2]\n"
     ]
    }
   ],
   "source": [
    "print(X)  #'sepal length', 'sepal width', 'petal length', 'petal width' (cm)\n",
    "print(y)  #0='setosa', 1='versicolor', 2='virginica'"
   ]
  },
  {
   "cell_type": "code",
   "execution_count": 42,
   "metadata": {},
   "outputs": [
    {
     "data": {
      "text/plain": [
       "(38, 4)"
      ]
     },
     "execution_count": 42,
     "metadata": {},
     "output_type": "execute_result"
    }
   ],
   "source": [
    "#Using the train_test_split to create train and test sets.\n",
    "X_train, X_test, y_train, y_test = train_test_split(X, y, random_state = 47, test_size = 0.25)\n"
   ]
  },
  {
   "cell_type": "code",
   "execution_count": 15,
   "metadata": {},
   "outputs": [],
   "source": [
    "#Importing the Decision tree classifier from the sklearn library.\n",
    "from sklearn.tree import DecisionTreeClassifier\n",
    "clf = DecisionTreeClassifier(criterion = 'entropy') #DTree clssifier"
   ]
  },
  {
   "cell_type": "code",
   "execution_count": 16,
   "metadata": {},
   "outputs": [
    {
     "data": {
      "text/plain": [
       "DecisionTreeClassifier(class_weight=None, criterion='entropy', max_depth=None,\n",
       "                       max_features=None, max_leaf_nodes=None,\n",
       "                       min_impurity_decrease=0.0, min_impurity_split=None,\n",
       "                       min_samples_leaf=1, min_samples_split=2,\n",
       "                       min_weight_fraction_leaf=0.0, presort=False,\n",
       "                       random_state=None, splitter='best')"
      ]
     },
     "execution_count": 16,
     "metadata": {},
     "output_type": "execute_result"
    }
   ],
   "source": [
    "#Training the decision tree classifier. \n",
    "clf.fit(X_train, y_train)"
   ]
  },
  {
   "cell_type": "code",
   "execution_count": 54,
   "metadata": {},
   "outputs": [],
   "source": [
    "#Predicting labels on the test set.\n",
    "y_pred =  clf.predict(X_test)"
   ]
  },
  {
   "cell_type": "code",
   "execution_count": 18,
   "metadata": {},
   "outputs": [
    {
     "name": "stdout",
     "output_type": "stream",
     "text": [
      "[0 0 1 0 0 2 1 2 1 0 2 0 1 2 2 2 1 0 0 0 2 1 2 1 2 2 1 2 0 0 2 1 2 0 1 0 0\n",
      " 0]\n"
     ]
    }
   ],
   "source": [
    "print(y_pred)"
   ]
  },
  {
   "cell_type": "code",
   "execution_count": 19,
   "metadata": {},
   "outputs": [
    {
     "name": "stdout",
     "output_type": "stream",
     "text": [
      "Accuracy Score on train data:  1.0\n",
      "Accuracy Score on test data:  0.9473684210526315\n"
     ]
    }
   ],
   "source": [
    "from sklearn.metrics import accuracy_score\n",
    "print('Accuracy Score on train data: ', accuracy_score(y_true=y_train, y_pred=clf.predict(X_train)))\n",
    "print('Accuracy Score on test data: ', accuracy_score(y_true=y_test, y_pred=y_pred))\n"
   ]
  },
  {
   "cell_type": "code",
   "execution_count": 20,
   "metadata": {},
   "outputs": [
    {
     "name": "stdout",
     "output_type": "stream",
     "text": [
      "Accuracy Score on train data:  0.9553571428571429\n",
      "Accuracy Score on the test data:  0.9736842105263158\n"
     ]
    }
   ],
   "source": [
    "clf = DecisionTreeClassifier(criterion='entropy', min_samples_split=50)\n",
    "clf.fit(X_train, y_train)\n",
    "print('Accuracy Score on train data: ', accuracy_score(y_true=y_train, y_pred=clf.predict(X_train)))\n",
    "print('Accuracy Score on the test data: ', accuracy_score(y_true=y_test, y_pred=clf.predict(X_test)))\n"
   ]
  },
  {
   "cell_type": "code",
   "execution_count": 69,
   "metadata": {},
   "outputs": [
    {
     "name": "stdout",
     "output_type": "stream",
     "text": [
      "Classes to predict:  ['malignant' 'benign']\n"
     ]
    }
   ],
   "source": [
    "from sklearn.datasets import load_breast_cancer\n",
    "data = load_breast_cancer()\n",
    "print('Classes to predict: ', data.target_names)"
   ]
  },
  {
   "cell_type": "code",
   "execution_count": 70,
   "metadata": {},
   "outputs": [
    {
     "name": "stdout",
     "output_type": "stream",
     "text": [
      "Number of examples in the data: 569\n"
     ]
    }
   ],
   "source": [
    "#Extracting data attributes\n",
    "X = data.data\n",
    "### Extracting target/ class labels\n",
    "y = data.target\n",
    "\n",
    "print('Number of examples in the data:', X.shape[0])\n",
    "#Using the train_test_split to create train and test sets.\n",
    "X_train, X_test, y_train, y_test = train_test_split(X, y, random_state = 47, test_size = 0.25)\n"
   ]
  },
  {
   "cell_type": "code",
   "execution_count": 71,
   "metadata": {},
   "outputs": [],
   "source": [
    "clf = DecisionTreeClassifier(criterion = 'entropy')"
   ]
  },
  {
   "cell_type": "code",
   "execution_count": 72,
   "metadata": {},
   "outputs": [
    {
     "data": {
      "text/plain": [
       "DecisionTreeClassifier(class_weight=None, criterion='entropy', max_depth=None,\n",
       "                       max_features=None, max_leaf_nodes=None,\n",
       "                       min_impurity_decrease=0.0, min_impurity_split=None,\n",
       "                       min_samples_leaf=1, min_samples_split=2,\n",
       "                       min_weight_fraction_leaf=0.0, presort=False,\n",
       "                       random_state=None, splitter='best')"
      ]
     },
     "execution_count": 72,
     "metadata": {},
     "output_type": "execute_result"
    }
   ],
   "source": [
    "clf.fit(X_train, y_train)"
   ]
  },
  {
   "cell_type": "code",
   "execution_count": 73,
   "metadata": {},
   "outputs": [
    {
     "name": "stdout",
     "output_type": "stream",
     "text": [
      "[1 0 0 1 1 1 0 0 0 1 1 0 1 0 1 1 0 0 1 1 1 0 1 1 1 1 1 1 1 0 0 1 0 0 1 0 0\n",
      " 0 0 0 1 0 1 1 1 1 0 0 1 1 1 1 1 1 1 1 0 0 0 0 1 0 0 0 1 1 0 0 0 1 1 1 0 0\n",
      " 0 0 1 1 1 1 1 1 0 1 0 1 0 1 1 0 1 0 1 1 1 1 1 0 1 0 0 1 1 1 1 1 1 1 1 0 1\n",
      " 0 1 1 0 0 1 1 0 1 1 0 1 1 1 0 1 1 1 0 1 0 1 0 0 1 1 0 1 0 1 0 0]\n"
     ]
    }
   ],
   "source": [
    "y_pred =  clf.predict(X_test)\n",
    "print(y_pred)"
   ]
  },
  {
   "cell_type": "code",
   "execution_count": 26,
   "metadata": {},
   "outputs": [
    {
     "name": "stdout",
     "output_type": "stream",
     "text": [
      "Accuracy Score on train data:  1.0\n",
      "Accuracy Score on test data:  0.9230769230769231\n"
     ]
    }
   ],
   "source": [
    "from sklearn.metrics import accuracy_score\n",
    "print('Accuracy Score on train data: ', accuracy_score(y_true=y_train, y_pred=clf.predict(X_train)))\n",
    "print('Accuracy Score on test data: ', accuracy_score(y_true=y_test, y_pred=y_pred))\n"
   ]
  },
  {
   "cell_type": "code",
   "execution_count": 27,
   "metadata": {},
   "outputs": [
    {
     "data": {
      "text/plain": [
       "array([0.89565217, 0.93043478, 0.94690265, 0.9380531 , 0.94690265])"
      ]
     },
     "execution_count": 27,
     "metadata": {},
     "output_type": "execute_result"
    }
   ],
   "source": [
    "from sklearn.model_selection import cross_val_score\n",
    "clf = DecisionTreeClassifier(criterion = 'entropy')\n",
    "scores = cross_val_score(clf, X, y, cv=5)\n",
    "scores"
   ]
  },
  {
   "cell_type": "code",
   "execution_count": 28,
   "metadata": {},
   "outputs": [
    {
     "data": {
      "text/plain": [
       "array([0.93103448, 0.84482759, 0.94736842, 0.9122807 , 0.96491228,\n",
       "       0.94736842, 0.89473684, 0.94642857, 0.94642857, 0.94642857])"
      ]
     },
     "execution_count": 28,
     "metadata": {},
     "output_type": "execute_result"
    }
   ],
   "source": [
    "scores = cross_val_score(clf, X, y, cv=10)\n",
    "scores"
   ]
  },
  {
   "cell_type": "code",
   "execution_count": 29,
   "metadata": {},
   "outputs": [
    {
     "name": "stdout",
     "output_type": "stream",
     "text": [
      "Accuracy: 0.93 (+/- 0.07)\n"
     ]
    }
   ],
   "source": [
    "print(\"Accuracy: %0.2f (+/- %0.2f)\" % (scores.mean(), scores.std() * 2))"
   ]
  },
  {
   "cell_type": "code",
   "execution_count": 30,
   "metadata": {},
   "outputs": [
    {
     "data": {
      "text/plain": [
       "array([0.92      , 0.93959732, 0.94285714, 0.95652174, 0.95652174])"
      ]
     },
     "execution_count": 30,
     "metadata": {},
     "output_type": "execute_result"
    }
   ],
   "source": [
    "from sklearn import metrics\n",
    "scores = cross_val_score(\n",
    "    clf, X, y, cv=5, scoring='f1')\n",
    "scores"
   ]
  },
  {
   "cell_type": "code",
   "execution_count": 31,
   "metadata": {},
   "outputs": [
    {
     "name": "stdout",
     "output_type": "stream",
     "text": [
      "[[ 6.  0.  2. ...  0.  0.  0.]\n",
      " [ 4.  0.  2. ...  0.  0.  0.]\n",
      " [ 3.  0.  2. ...  0.  0.  0.]\n",
      " ...\n",
      " [ 2.  1. nan ... nan nan  1.]\n",
      " [ 0.  1. nan ... nan nan  1.]\n",
      " [ 2.  1. nan ... nan nan  1.]]\n",
      "['diaporthe-stem-canker' 'diaporthe-stem-canker' 'diaporthe-stem-canker'\n",
      " 'diaporthe-stem-canker' 'diaporthe-stem-canker' 'diaporthe-stem-canker'\n",
      " 'diaporthe-stem-canker' 'diaporthe-stem-canker' 'diaporthe-stem-canker'\n",
      " 'diaporthe-stem-canker' 'charcoal-rot' 'charcoal-rot' 'charcoal-rot'\n",
      " 'charcoal-rot' 'charcoal-rot' 'charcoal-rot' 'charcoal-rot'\n",
      " 'charcoal-rot' 'charcoal-rot' 'charcoal-rot' 'rhizoctonia-root-rot'\n",
      " 'rhizoctonia-root-rot' 'rhizoctonia-root-rot' 'rhizoctonia-root-rot'\n",
      " 'rhizoctonia-root-rot' 'rhizoctonia-root-rot' 'rhizoctonia-root-rot'\n",
      " 'rhizoctonia-root-rot' 'rhizoctonia-root-rot' 'rhizoctonia-root-rot'\n",
      " 'phytophthora-rot' 'phytophthora-rot' 'phytophthora-rot'\n",
      " 'phytophthora-rot' 'phytophthora-rot' 'phytophthora-rot'\n",
      " 'phytophthora-rot' 'phytophthora-rot' 'phytophthora-rot'\n",
      " 'phytophthora-rot' 'phytophthora-rot' 'phytophthora-rot'\n",
      " 'phytophthora-rot' 'phytophthora-rot' 'phytophthora-rot'\n",
      " 'phytophthora-rot' 'phytophthora-rot' 'phytophthora-rot'\n",
      " 'phytophthora-rot' 'phytophthora-rot' 'phytophthora-rot'\n",
      " 'phytophthora-rot' 'phytophthora-rot' 'phytophthora-rot'\n",
      " 'phytophthora-rot' 'phytophthora-rot' 'phytophthora-rot'\n",
      " 'phytophthora-rot' 'phytophthora-rot' 'phytophthora-rot'\n",
      " 'phytophthora-rot' 'phytophthora-rot' 'phytophthora-rot'\n",
      " 'phytophthora-rot' 'phytophthora-rot' 'phytophthora-rot'\n",
      " 'phytophthora-rot' 'phytophthora-rot' 'phytophthora-rot'\n",
      " 'phytophthora-rot' 'brown-stem-rot' 'brown-stem-rot' 'brown-stem-rot'\n",
      " 'brown-stem-rot' 'brown-stem-rot' 'brown-stem-rot' 'brown-stem-rot'\n",
      " 'brown-stem-rot' 'brown-stem-rot' 'brown-stem-rot' 'brown-stem-rot'\n",
      " 'brown-stem-rot' 'brown-stem-rot' 'brown-stem-rot' 'brown-stem-rot'\n",
      " 'brown-stem-rot' 'brown-stem-rot' 'brown-stem-rot' 'brown-stem-rot'\n",
      " 'brown-stem-rot' 'powdery-mildew' 'powdery-mildew' 'powdery-mildew'\n",
      " 'powdery-mildew' 'powdery-mildew' 'powdery-mildew' 'powdery-mildew'\n",
      " 'powdery-mildew' 'powdery-mildew' 'powdery-mildew' 'downy-mildew'\n",
      " 'downy-mildew' 'downy-mildew' 'downy-mildew' 'downy-mildew'\n",
      " 'downy-mildew' 'downy-mildew' 'downy-mildew' 'downy-mildew'\n",
      " 'downy-mildew' 'brown-spot' 'brown-spot' 'brown-spot' 'brown-spot'\n",
      " 'brown-spot' 'brown-spot' 'brown-spot' 'brown-spot' 'brown-spot'\n",
      " 'brown-spot' 'brown-spot' 'brown-spot' 'brown-spot' 'brown-spot'\n",
      " 'brown-spot' 'brown-spot' 'brown-spot' 'brown-spot' 'brown-spot'\n",
      " 'brown-spot' 'brown-spot' 'brown-spot' 'brown-spot' 'brown-spot'\n",
      " 'brown-spot' 'brown-spot' 'brown-spot' 'brown-spot' 'brown-spot'\n",
      " 'brown-spot' 'brown-spot' 'brown-spot' 'brown-spot' 'brown-spot'\n",
      " 'brown-spot' 'brown-spot' 'brown-spot' 'brown-spot' 'brown-spot'\n",
      " 'brown-spot' 'bacterial-blight' 'bacterial-blight' 'bacterial-blight'\n",
      " 'bacterial-blight' 'bacterial-blight' 'bacterial-blight'\n",
      " 'bacterial-blight' 'bacterial-blight' 'bacterial-blight'\n",
      " 'bacterial-blight' 'bacterial-pustule' 'bacterial-pustule'\n",
      " 'bacterial-pustule' 'bacterial-pustule' 'bacterial-pustule'\n",
      " 'bacterial-pustule' 'bacterial-pustule' 'bacterial-pustule'\n",
      " 'bacterial-pustule' 'bacterial-pustule' 'purple-seed-stain'\n",
      " 'purple-seed-stain' 'purple-seed-stain' 'purple-seed-stain'\n",
      " 'purple-seed-stain' 'purple-seed-stain' 'purple-seed-stain'\n",
      " 'purple-seed-stain' 'purple-seed-stain' 'purple-seed-stain' 'anthracnose'\n",
      " 'anthracnose' 'anthracnose' 'anthracnose' 'anthracnose' 'anthracnose'\n",
      " 'anthracnose' 'anthracnose' 'anthracnose' 'anthracnose' 'anthracnose'\n",
      " 'anthracnose' 'anthracnose' 'anthracnose' 'anthracnose' 'anthracnose'\n",
      " 'anthracnose' 'anthracnose' 'anthracnose' 'anthracnose'\n",
      " 'phyllosticta-leaf-spot' 'phyllosticta-leaf-spot'\n",
      " 'phyllosticta-leaf-spot' 'phyllosticta-leaf-spot'\n",
      " 'phyllosticta-leaf-spot' 'phyllosticta-leaf-spot'\n",
      " 'phyllosticta-leaf-spot' 'phyllosticta-leaf-spot'\n",
      " 'phyllosticta-leaf-spot' 'phyllosticta-leaf-spot' 'alternarialeaf-spot'\n",
      " 'alternarialeaf-spot' 'alternarialeaf-spot' 'alternarialeaf-spot'\n",
      " 'alternarialeaf-spot' 'alternarialeaf-spot' 'alternarialeaf-spot'\n",
      " 'alternarialeaf-spot' 'alternarialeaf-spot' 'alternarialeaf-spot'\n",
      " 'alternarialeaf-spot' 'alternarialeaf-spot' 'alternarialeaf-spot'\n",
      " 'alternarialeaf-spot' 'alternarialeaf-spot' 'alternarialeaf-spot'\n",
      " 'alternarialeaf-spot' 'alternarialeaf-spot' 'alternarialeaf-spot'\n",
      " 'alternarialeaf-spot' 'alternarialeaf-spot' 'alternarialeaf-spot'\n",
      " 'alternarialeaf-spot' 'alternarialeaf-spot' 'alternarialeaf-spot'\n",
      " 'alternarialeaf-spot' 'alternarialeaf-spot' 'alternarialeaf-spot'\n",
      " 'alternarialeaf-spot' 'alternarialeaf-spot' 'alternarialeaf-spot'\n",
      " 'alternarialeaf-spot' 'alternarialeaf-spot' 'alternarialeaf-spot'\n",
      " 'alternarialeaf-spot' 'alternarialeaf-spot' 'alternarialeaf-spot'\n",
      " 'alternarialeaf-spot' 'alternarialeaf-spot' 'alternarialeaf-spot'\n",
      " 'frog-eye-leaf-spot' 'frog-eye-leaf-spot' 'frog-eye-leaf-spot'\n",
      " 'frog-eye-leaf-spot' 'frog-eye-leaf-spot' 'frog-eye-leaf-spot'\n",
      " 'frog-eye-leaf-spot' 'frog-eye-leaf-spot' 'frog-eye-leaf-spot'\n",
      " 'frog-eye-leaf-spot' 'frog-eye-leaf-spot' 'frog-eye-leaf-spot'\n",
      " 'frog-eye-leaf-spot' 'frog-eye-leaf-spot' 'frog-eye-leaf-spot'\n",
      " 'frog-eye-leaf-spot' 'frog-eye-leaf-spot' 'frog-eye-leaf-spot'\n",
      " 'frog-eye-leaf-spot' 'frog-eye-leaf-spot' 'frog-eye-leaf-spot'\n",
      " 'frog-eye-leaf-spot' 'frog-eye-leaf-spot' 'frog-eye-leaf-spot'\n",
      " 'frog-eye-leaf-spot' 'frog-eye-leaf-spot' 'frog-eye-leaf-spot'\n",
      " 'frog-eye-leaf-spot' 'frog-eye-leaf-spot' 'frog-eye-leaf-spot'\n",
      " 'frog-eye-leaf-spot' 'frog-eye-leaf-spot' 'frog-eye-leaf-spot'\n",
      " 'frog-eye-leaf-spot' 'frog-eye-leaf-spot' 'frog-eye-leaf-spot'\n",
      " 'frog-eye-leaf-spot' 'frog-eye-leaf-spot' 'frog-eye-leaf-spot'\n",
      " 'frog-eye-leaf-spot' 'diaporthe-pod-&-stem-blight'\n",
      " 'diaporthe-pod-&-stem-blight' 'diaporthe-pod-&-stem-blight'\n",
      " 'diaporthe-pod-&-stem-blight' 'diaporthe-pod-&-stem-blight'\n",
      " 'diaporthe-pod-&-stem-blight' 'cyst-nematode' 'cyst-nematode'\n",
      " 'cyst-nematode' 'cyst-nematode' 'cyst-nematode' 'cyst-nematode'\n",
      " '2-4-d-injury' 'herbicide-injury' 'herbicide-injury' 'herbicide-injury'\n",
      " 'herbicide-injury' 'diaporthe-stem-canker' 'diaporthe-stem-canker'\n",
      " 'diaporthe-stem-canker' 'diaporthe-stem-canker' 'diaporthe-stem-canker'\n",
      " 'diaporthe-stem-canker' 'diaporthe-stem-canker' 'diaporthe-stem-canker'\n",
      " 'diaporthe-stem-canker' 'diaporthe-stem-canker' 'charcoal-rot'\n",
      " 'charcoal-rot' 'charcoal-rot' 'charcoal-rot' 'charcoal-rot'\n",
      " 'charcoal-rot' 'charcoal-rot' 'charcoal-rot' 'charcoal-rot'\n",
      " 'charcoal-rot' 'rhizoctonia-root-rot' 'rhizoctonia-root-rot'\n",
      " 'rhizoctonia-root-rot' 'rhizoctonia-root-rot' 'rhizoctonia-root-rot'\n",
      " 'rhizoctonia-root-rot' 'rhizoctonia-root-rot' 'rhizoctonia-root-rot'\n",
      " 'rhizoctonia-root-rot' 'rhizoctonia-root-rot' 'phytophthora-rot'\n",
      " 'phytophthora-rot' 'phytophthora-rot' 'phytophthora-rot'\n",
      " 'phytophthora-rot' 'phytophthora-rot' 'phytophthora-rot'\n",
      " 'phytophthora-rot' 'phytophthora-rot' 'phytophthora-rot'\n",
      " 'phytophthora-rot' 'phytophthora-rot' 'phytophthora-rot'\n",
      " 'phytophthora-rot' 'phytophthora-rot' 'phytophthora-rot'\n",
      " 'phytophthora-rot' 'phytophthora-rot' 'phytophthora-rot'\n",
      " 'phytophthora-rot' 'phytophthora-rot' 'phytophthora-rot'\n",
      " 'phytophthora-rot' 'phytophthora-rot' 'phytophthora-rot'\n",
      " 'phytophthora-rot' 'phytophthora-rot' 'phytophthora-rot'\n",
      " 'phytophthora-rot' 'phytophthora-rot' 'phytophthora-rot'\n",
      " 'phytophthora-rot' 'phytophthora-rot' 'phytophthora-rot'\n",
      " 'phytophthora-rot' 'phytophthora-rot' 'phytophthora-rot'\n",
      " 'phytophthora-rot' 'phytophthora-rot' 'phytophthora-rot'\n",
      " 'phytophthora-rot' 'phytophthora-rot' 'phytophthora-rot'\n",
      " 'phytophthora-rot' 'phytophthora-rot' 'phytophthora-rot'\n",
      " 'phytophthora-rot' 'phytophthora-rot' 'brown-stem-rot' 'brown-stem-rot'\n",
      " 'brown-stem-rot' 'brown-stem-rot' 'brown-stem-rot' 'brown-stem-rot'\n",
      " 'brown-stem-rot' 'brown-stem-rot' 'brown-stem-rot' 'brown-stem-rot'\n",
      " 'brown-stem-rot' 'brown-stem-rot' 'brown-stem-rot' 'brown-stem-rot'\n",
      " 'brown-stem-rot' 'brown-stem-rot' 'brown-stem-rot' 'brown-stem-rot'\n",
      " 'brown-stem-rot' 'brown-stem-rot' 'brown-stem-rot' 'brown-stem-rot'\n",
      " 'brown-stem-rot' 'brown-stem-rot' 'powdery-mildew' 'powdery-mildew'\n",
      " 'powdery-mildew' 'powdery-mildew' 'powdery-mildew' 'powdery-mildew'\n",
      " 'powdery-mildew' 'powdery-mildew' 'powdery-mildew' 'powdery-mildew'\n",
      " 'downy-mildew' 'downy-mildew' 'downy-mildew' 'downy-mildew'\n",
      " 'downy-mildew' 'downy-mildew' 'downy-mildew' 'downy-mildew'\n",
      " 'downy-mildew' 'downy-mildew' 'brown-spot' 'brown-spot' 'brown-spot'\n",
      " 'brown-spot' 'brown-spot' 'brown-spot' 'brown-spot' 'brown-spot'\n",
      " 'brown-spot' 'brown-spot' 'brown-spot' 'brown-spot' 'brown-spot'\n",
      " 'brown-spot' 'brown-spot' 'brown-spot' 'brown-spot' 'brown-spot'\n",
      " 'brown-spot' 'brown-spot' 'brown-spot' 'brown-spot' 'brown-spot'\n",
      " 'brown-spot' 'brown-spot' 'brown-spot' 'brown-spot' 'brown-spot'\n",
      " 'brown-spot' 'brown-spot' 'brown-spot' 'brown-spot' 'brown-spot'\n",
      " 'brown-spot' 'brown-spot' 'brown-spot' 'brown-spot' 'brown-spot'\n",
      " 'brown-spot' 'brown-spot' 'brown-spot' 'brown-spot' 'brown-spot'\n",
      " 'brown-spot' 'brown-spot' 'brown-spot' 'brown-spot' 'brown-spot'\n",
      " 'brown-spot' 'brown-spot' 'brown-spot' 'brown-spot' 'bacterial-blight'\n",
      " 'bacterial-blight' 'bacterial-blight' 'bacterial-blight'\n",
      " 'bacterial-blight' 'bacterial-blight' 'bacterial-blight'\n",
      " 'bacterial-blight' 'bacterial-blight' 'bacterial-blight'\n",
      " 'bacterial-pustule' 'bacterial-pustule' 'bacterial-pustule'\n",
      " 'bacterial-pustule' 'bacterial-pustule' 'bacterial-pustule'\n",
      " 'bacterial-pustule' 'bacterial-pustule' 'bacterial-pustule'\n",
      " 'bacterial-pustule' 'purple-seed-stain' 'purple-seed-stain'\n",
      " 'purple-seed-stain' 'purple-seed-stain' 'purple-seed-stain'\n",
      " 'purple-seed-stain' 'purple-seed-stain' 'purple-seed-stain'\n",
      " 'purple-seed-stain' 'purple-seed-stain' 'anthracnose' 'anthracnose'\n",
      " 'anthracnose' 'anthracnose' 'anthracnose' 'anthracnose' 'anthracnose'\n",
      " 'anthracnose' 'anthracnose' 'anthracnose' 'anthracnose' 'anthracnose'\n",
      " 'anthracnose' 'anthracnose' 'anthracnose' 'anthracnose' 'anthracnose'\n",
      " 'anthracnose' 'anthracnose' 'anthracnose' 'anthracnose' 'anthracnose'\n",
      " 'anthracnose' 'anthracnose' 'phyllosticta-leaf-spot'\n",
      " 'phyllosticta-leaf-spot' 'phyllosticta-leaf-spot'\n",
      " 'phyllosticta-leaf-spot' 'phyllosticta-leaf-spot'\n",
      " 'phyllosticta-leaf-spot' 'phyllosticta-leaf-spot'\n",
      " 'phyllosticta-leaf-spot' 'phyllosticta-leaf-spot'\n",
      " 'phyllosticta-leaf-spot' 'alternarialeaf-spot' 'alternarialeaf-spot'\n",
      " 'alternarialeaf-spot' 'alternarialeaf-spot' 'alternarialeaf-spot'\n",
      " 'alternarialeaf-spot' 'alternarialeaf-spot' 'alternarialeaf-spot'\n",
      " 'alternarialeaf-spot' 'alternarialeaf-spot' 'alternarialeaf-spot'\n",
      " 'alternarialeaf-spot' 'alternarialeaf-spot' 'alternarialeaf-spot'\n",
      " 'alternarialeaf-spot' 'alternarialeaf-spot' 'alternarialeaf-spot'\n",
      " 'alternarialeaf-spot' 'alternarialeaf-spot' 'alternarialeaf-spot'\n",
      " 'alternarialeaf-spot' 'alternarialeaf-spot' 'alternarialeaf-spot'\n",
      " 'alternarialeaf-spot' 'alternarialeaf-spot' 'alternarialeaf-spot'\n",
      " 'alternarialeaf-spot' 'alternarialeaf-spot' 'alternarialeaf-spot'\n",
      " 'alternarialeaf-spot' 'alternarialeaf-spot' 'alternarialeaf-spot'\n",
      " 'alternarialeaf-spot' 'alternarialeaf-spot' 'alternarialeaf-spot'\n",
      " 'alternarialeaf-spot' 'alternarialeaf-spot' 'alternarialeaf-spot'\n",
      " 'alternarialeaf-spot' 'alternarialeaf-spot' 'alternarialeaf-spot'\n",
      " 'alternarialeaf-spot' 'alternarialeaf-spot' 'alternarialeaf-spot'\n",
      " 'alternarialeaf-spot' 'alternarialeaf-spot' 'alternarialeaf-spot'\n",
      " 'alternarialeaf-spot' 'alternarialeaf-spot' 'alternarialeaf-spot'\n",
      " 'alternarialeaf-spot' 'frog-eye-leaf-spot' 'frog-eye-leaf-spot'\n",
      " 'frog-eye-leaf-spot' 'frog-eye-leaf-spot' 'frog-eye-leaf-spot'\n",
      " 'frog-eye-leaf-spot' 'frog-eye-leaf-spot' 'frog-eye-leaf-spot'\n",
      " 'frog-eye-leaf-spot' 'frog-eye-leaf-spot' 'frog-eye-leaf-spot'\n",
      " 'frog-eye-leaf-spot' 'frog-eye-leaf-spot' 'frog-eye-leaf-spot'\n",
      " 'frog-eye-leaf-spot' 'frog-eye-leaf-spot' 'frog-eye-leaf-spot'\n",
      " 'frog-eye-leaf-spot' 'frog-eye-leaf-spot' 'frog-eye-leaf-spot'\n",
      " 'frog-eye-leaf-spot' 'frog-eye-leaf-spot' 'frog-eye-leaf-spot'\n",
      " 'frog-eye-leaf-spot' 'frog-eye-leaf-spot' 'frog-eye-leaf-spot'\n",
      " 'frog-eye-leaf-spot' 'frog-eye-leaf-spot' 'frog-eye-leaf-spot'\n",
      " 'frog-eye-leaf-spot' 'frog-eye-leaf-spot' 'frog-eye-leaf-spot'\n",
      " 'frog-eye-leaf-spot' 'frog-eye-leaf-spot' 'frog-eye-leaf-spot'\n",
      " 'frog-eye-leaf-spot' 'frog-eye-leaf-spot' 'frog-eye-leaf-spot'\n",
      " 'frog-eye-leaf-spot' 'frog-eye-leaf-spot' 'frog-eye-leaf-spot'\n",
      " 'frog-eye-leaf-spot' 'frog-eye-leaf-spot' 'frog-eye-leaf-spot'\n",
      " 'frog-eye-leaf-spot' 'frog-eye-leaf-spot' 'frog-eye-leaf-spot'\n",
      " 'frog-eye-leaf-spot' 'frog-eye-leaf-spot' 'frog-eye-leaf-spot'\n",
      " 'frog-eye-leaf-spot' 'diaporthe-pod-&-stem-blight'\n",
      " 'diaporthe-pod-&-stem-blight' 'diaporthe-pod-&-stem-blight'\n",
      " 'diaporthe-pod-&-stem-blight' 'diaporthe-pod-&-stem-blight'\n",
      " 'diaporthe-pod-&-stem-blight' 'diaporthe-pod-&-stem-blight'\n",
      " 'diaporthe-pod-&-stem-blight' 'diaporthe-pod-&-stem-blight'\n",
      " 'cyst-nematode' 'cyst-nematode' 'cyst-nematode' 'cyst-nematode'\n",
      " 'cyst-nematode' 'cyst-nematode' 'cyst-nematode' 'cyst-nematode'\n",
      " '2-4-d-injury' '2-4-d-injury' '2-4-d-injury' '2-4-d-injury'\n",
      " '2-4-d-injury' '2-4-d-injury' '2-4-d-injury' '2-4-d-injury'\n",
      " '2-4-d-injury' '2-4-d-injury' '2-4-d-injury' '2-4-d-injury'\n",
      " '2-4-d-injury' '2-4-d-injury' '2-4-d-injury' 'herbicide-injury'\n",
      " 'herbicide-injury' 'herbicide-injury' 'herbicide-injury']\n",
      "[[6.         0.         2.         ... 0.         0.         0.        ]\n",
      " [4.         0.         2.         ... 0.         0.         0.        ]\n",
      " [3.         0.         2.         ... 0.         0.         0.        ]\n",
      " ...\n",
      " [2.         1.         1.59689922 ... 0.0998308  0.06585789 1.        ]\n",
      " [0.         1.         1.59689922 ... 0.0998308  0.06585789 1.        ]\n",
      " [2.         1.         1.59689922 ... 0.0998308  0.06585789 1.        ]]\n"
     ]
    }
   ],
   "source": [
    "from sklearn.datasets import fetch_openml\n",
    "soybean = fetch_openml(name='soybean', version=1)\n",
    "X = soybean.data\n",
    "y = soybean.target\n",
    "print(X)\n",
    "print(y)\n",
    "\n",
    "from sklearn.impute import SimpleImputer\n",
    "imp = SimpleImputer(missing_values=np.nan, strategy='mean')\n",
    "imp.fit(X)\n",
    "X = imp.transform(X)\n",
    "print(X)"
   ]
  },
  {
   "cell_type": "code",
   "execution_count": 32,
   "metadata": {},
   "outputs": [
    {
     "data": {
      "text/plain": [
       "array([0.94326241, 0.93478261, 0.90510949, 0.94814815, 0.9469697 ])"
      ]
     },
     "execution_count": 32,
     "metadata": {},
     "output_type": "execute_result"
    }
   ],
   "source": [
    "from sklearn.model_selection import cross_val_score\n",
    "clf = DecisionTreeClassifier(criterion = 'entropy')\n",
    "scores = cross_val_score(clf, X, y, cv=5)\n",
    "scores"
   ]
  },
  {
   "cell_type": "code",
   "execution_count": null,
   "metadata": {},
   "outputs": [],
   "source": []
  },
  {
   "cell_type": "code",
   "execution_count": 82,
   "metadata": {},
   "outputs": [
    {
     "name": "stdout",
     "output_type": "stream",
     "text": [
      "              precision    recall  f1-score   support\n",
      "\n",
      "           0       0.86      0.91      0.89        56\n",
      "           1       0.94      0.91      0.92        87\n",
      "\n",
      "    accuracy                           0.91       143\n",
      "   macro avg       0.90      0.91      0.91       143\n",
      "weighted avg       0.91      0.91      0.91       143\n",
      "\n"
     ]
    }
   ],
   "source": [
    "from sklearn.metrics import classification_report\n",
    "print(classification_report(y_true = y_test, y_pred = y_pred))"
   ]
  },
  {
   "cell_type": "code",
   "execution_count": null,
   "metadata": {},
   "outputs": [],
   "source": []
  }
 ],
 "metadata": {
  "kernelspec": {
   "display_name": "Python 3",
   "language": "python",
   "name": "python3"
  },
  "language_info": {
   "codemirror_mode": {
    "name": "ipython",
    "version": 3
   },
   "file_extension": ".py",
   "mimetype": "text/x-python",
   "name": "python",
   "nbconvert_exporter": "python",
   "pygments_lexer": "ipython3",
   "version": "3.7.4"
  }
 },
 "nbformat": 4,
 "nbformat_minor": 4
}
