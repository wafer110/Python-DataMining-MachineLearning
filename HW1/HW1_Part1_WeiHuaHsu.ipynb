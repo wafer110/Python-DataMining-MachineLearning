{
  "nbformat": 4,
  "nbformat_minor": 0,
  "metadata": {
    "colab": {
      "name": "HW1_Part1_WeiHuaHsu.ipynb",
      "provenance": [],
      "collapsed_sections": [],
      "toc_visible": true,
      "authorship_tag": "ABX9TyNombj219qNYI3harwYsHol",
      "include_colab_link": true
    },
    "kernelspec": {
      "name": "python3",
      "display_name": "Python 3"
    }
  },
  "cells": [
    {
      "cell_type": "markdown",
      "metadata": {
        "id": "view-in-github",
        "colab_type": "text"
      },
      "source": [
        "<a href=\"https://colab.research.google.com/github/wafer110/Python-DataMining-MachineLearning/blob/master/HW1_Part1_WeiHuaHsu.ipynb\" target=\"_parent\"><img src=\"https://colab.research.google.com/assets/colab-badge.svg\" alt=\"Open In Colab\"/></a>"
      ]
    },
    {
      "cell_type": "markdown",
      "metadata": {
        "id": "nSQpJ2d1bvx9",
        "colab_type": "text"
      },
      "source": [
        "## Load Packages"
      ]
    },
    {
      "cell_type": "code",
      "metadata": {
        "id": "sPgO17-ouA92",
        "colab_type": "code",
        "colab": {}
      },
      "source": [
        "import pandas as pd\n",
        "import numpy as np\n",
        "import math # g-mean\n",
        "import matplotlib.pylab as plt\n",
        "from google.colab import files # save plots\n",
        "# plt.tight_layout()\n",
        "# plt.savefig('graph_name.png')\n",
        "# files.download('graph_name.png')\n",
        "import warnings; warnings.filterwarnings(\"ignore\")\n",
        "# Machine Learning Algorithms\n",
        "from sklearn.model_selection import train_test_split # Split to train/test data\n",
        "from sklearn.tree import DecisionTreeClassifier # Decision Tree Classifier\n",
        "from sklearn.neural_network import MLPClassifier # Multi-Layer Perceptrons\n",
        "from sklearn.model_selection import cross_val_score # Accuracy & AUC score\n",
        "from sklearn.feature_selection import SelectKBest # Univariate F-test FS\n",
        "from sklearn.feature_selection import f_classif\n",
        "from sklearn.ensemble import ExtraTreesClassifier # Tree-based Feature Selection\n",
        "from sklearn.feature_selection import SelectFromModel\n",
        "from sklearn.metrics import classification_report\n",
        "from sklearn.metrics import precision_recall_curve, recall_score\n",
        "from sklearn.metrics import roc_curve, auc, roc_auc_score\n",
        "from sklearn.metrics import confusion_matrix\n",
        "from imblearn.over_sampling import SMOTE #SMOTE\n",
        "from sklearn.model_selection import GridSearchCV\n",
        "from sklearn.linear_model import LogisticRegression\n",
        "import itertools\n",
        "from sklearn.datasets import make_classification\n",
        "from imblearn.pipeline import Pipeline\n",
        "from sklearn.model_selection import RepeatedStratifiedKFold\n",
        "from imblearn.under_sampling import RandomUnderSampler"
      ],
      "execution_count": 22,
      "outputs": []
    },
    {
      "cell_type": "markdown",
      "metadata": {
        "id": "TsLlZQEe0co3",
        "colab_type": "text"
      },
      "source": [
        "## Read Datasets"
      ]
    },
    {
      "cell_type": "code",
      "metadata": {
        "id": "l5Cav3Of0cF6",
        "colab_type": "code",
        "colab": {}
      },
      "source": [
        "ozone_url = 'https://raw.githubusercontent.com/wafer110/Python-DataMining-MachineLearning/master/HW1/ozone-level.csv'\n",
        "ozone = pd.read_csv(ozone_url)\n",
        "\n",
        "steel_url = 'https://raw.githubusercontent.com/wafer110/Python-DataMining-MachineLearning/master/HW1/steel-plates.csv'\n",
        "steel = pd.read_csv(steel_url)"
      ],
      "execution_count": 2,
      "outputs": []
    },
    {
      "cell_type": "markdown",
      "metadata": {
        "id": "BBc-41c7v2UK",
        "colab_type": "text"
      },
      "source": [
        "### Data Manipulation - steel-plates  \n",
        "Get the subset data for both multi-class & binary class problem."
      ]
    },
    {
      "cell_type": "markdown",
      "metadata": {
        "id": "teKpyBkfcY4e",
        "colab_type": "text"
      },
      "source": [
        "  - Multi-Class: Set class as 7 types of faults   \n",
        "    1 = Pastry;     \n",
        "    2 = Z_Scratch;   \n",
        "    3 = K_Scatch;  \n",
        "    4 = Stains;  \n",
        "    5 = Dirtiness;  \n",
        "    6 = Bumps;  \n",
        "    7 = Other_Faults"
      ]
    },
    {
      "cell_type": "code",
      "metadata": {
        "id": "QcTmfeaJ7avy",
        "colab_type": "code",
        "colab": {}
      },
      "source": [
        "# replace the class entries 1 as different class 1-7\n",
        "steel['V29'] = steel['V29'].replace([1], 2)\n",
        "steel['V30'] = steel['V30'].replace([1], 3)\n",
        "steel['V31'] = steel['V31'].replace([1], 4)\n",
        "steel['V32'] = steel['V32'].replace([1], 5)\n",
        "steel['V33'] = steel['V33'].replace([1], 6)\n",
        "steel['V34'] = steel['Class'].replace([1,2], [0,7])\n",
        "# create a new column 'multi-class'\n",
        "steel['multi_class'] = steel['V28']\n",
        "# store multi-class variables into the new column\n",
        "steel['multi_class'][158:348]   = 2\n",
        "steel['multi_class'][348:739]   = 3\n",
        "steel['multi_class'][739:811]   = 4\n",
        "steel['multi_class'][811:866]   = 5\n",
        "steel['multi_class'][866:1268]  = 6\n",
        "steel['multi_class'][1268:1941] = 7\n",
        "\n",
        "# save to a new subset: 'steel_mul'\n",
        "steel_data = steel.iloc[:, 0:27]\n",
        "steel_mul = pd.concat([steel_data, steel.multi_class], axis = 1)"
      ],
      "execution_count": 3,
      "outputs": []
    },
    {
      "cell_type": "markdown",
      "metadata": {
        "id": "SuwWVh0_xkzT",
        "colab_type": "text"
      },
      "source": [
        "  - Binary Class: Set class as a binary problem  \n",
        "    1 = Common; \n",
        "    2 = Other Fault"
      ]
    },
    {
      "cell_type": "code",
      "metadata": {
        "id": "VpzuxGvbtOyx",
        "colab_type": "code",
        "colab": {}
      },
      "source": [
        "# save to a new subset: 'steel_bin'\n",
        "steel_bin = pd.concat([steel_data, steel.Class], axis = 1)"
      ],
      "execution_count": 4,
      "outputs": []
    },
    {
      "cell_type": "markdown",
      "metadata": {
        "id": "7X_d0uRl7XLO",
        "colab_type": "text"
      },
      "source": [
        "# Part I\n",
        "\n",
        "1. At which points (in terms of training set-size and classifier) do we observe overfitting in each data set?  \n",
        "2. Can overfitting be overcome by feature selection?  \n",
        "3. Are either of your datasets imbalanced? Select the most imbalanced one and show the results obtained using the following four methods on the full data set:  \n",
        "    - Do nothing  \n",
        "    - Randomly oversample the minority class  \n",
        "    - Randomly undersample the minority class  \n",
        "    - Use SMOTE to oversample the minority class.  "
      ]
    },
    {
      "cell_type": "markdown",
      "metadata": {
        "id": "D6kBmvyhvdy9",
        "colab_type": "text"
      },
      "source": [
        "## 1) At which points (in terms of training set-size and classifier) do we observe overfitting in each data set?"
      ]
    },
    {
      "cell_type": "markdown",
      "metadata": {
        "id": "4GZWvMx9esSl",
        "colab_type": "text"
      },
      "source": [
        "### 1-1 ozone data"
      ]
    },
    {
      "cell_type": "markdown",
      "metadata": {
        "id": "HoxNsRQ5_cHS",
        "colab_type": "text"
      },
      "source": [
        "#### 1-1.1 Decision Tree"
      ]
    },
    {
      "cell_type": "code",
      "metadata": {
        "id": "HZ1M5j6y_YJg",
        "colab_type": "code",
        "colab": {
          "base_uri": "https://localhost:8080/",
          "height": 317
        },
        "outputId": "d6b22587-1715-45b8-9afb-2e6feb000eb4"
      },
      "source": [
        "# Get Features & Target variables\n",
        "features_columns = ozone.columns[:-1] # exclude 'Class'\n",
        "X = ozone[features_columns] # Features\n",
        "y = ozone['Class'] # Target\n",
        "\n",
        "training_sizes = [0.1, 0.2, 0.3, 0.4, 0.5, 0.6, 0.7, 0.8, 0.9]\n",
        "DT_AUC_train = []\n",
        "DT_AUC_test = []\n",
        "DT_AUC_train_std = []\n",
        "DT_AUC_test_std = []\n",
        "\n",
        "for i in training_sizes:\n",
        "  # looping through different training size\n",
        "  X_train, X_test, y_train, y_test = train_test_split(X, y, \n",
        "                                                      train_size = i,\n",
        "                                                      random_state = 1)\n",
        "  # fit DecisionTree \n",
        "  clf = DecisionTreeClassifier(criterion = 'entropy', min_samples_split = 50)\n",
        "  clf = clf.fit(X_train, y_train)\n",
        "  y_pred = clf.predict(X_test)\n",
        "  # calculate the mean of AUC score by 10-fold CV\n",
        "  train_scores = cross_val_score(clf, X_train, y_train, cv = 10, \n",
        "                                 scoring = 'roc_auc').mean()\n",
        "  test_scores = cross_val_score(clf, X_test, y_test, cv = 10, \n",
        "                                scoring = 'roc_auc').mean()\n",
        "  train_scores_std = cross_val_score(clf, X_train, y_train, cv = 10, \n",
        "                                     scoring = 'roc_auc').std()\n",
        "  test_scores_std = cross_val_score(clf, X_test, y_test, cv = 10, \n",
        "                                    scoring = 'roc_auc').std()\n",
        "  DT_AUC_train.append(train_scores)\n",
        "  DT_AUC_test.append(test_scores)\n",
        "  DT_AUC_train_std.append(train_scores_std)\n",
        "  DT_AUC_test_std.append(test_scores_std)\n",
        "\n",
        "# plotting\n",
        "plt.figure(figsize=(6, 4))\n",
        "plt.plot(training_sizes, DT_AUC_train, 'c^-', label = 'training')\n",
        "plt.plot(training_sizes, DT_AUC_test, 'C1o-', label = 'testing')\n",
        "plt.legend(frameon = True, loc = 'bottom right')\n",
        "plt.title('Decision Tree (ozone)', size = 15)\n",
        "plt.xlabel('Training Size', size = 13)\n",
        "plt.ylabel('AUC Score', size = 13)"
      ],
      "execution_count": null,
      "outputs": [
        {
          "output_type": "execute_result",
          "data": {
            "text/plain": [
              "Text(0, 0.5, 'AUC Score')"
            ]
          },
          "metadata": {
            "tags": []
          },
          "execution_count": 225
        },
        {
          "output_type": "display_data",
          "data": {
            "image/png": "[encoded data removed]",
            "text/plain": [
              "<Figure size 432x288 with 1 Axes>"
            ]
          },
          "metadata": {
            "tags": [],
            "needs_background": "light"
          }
        }
      ]
    },
    {
      "cell_type": "code",
      "metadata": {
        "id": "3zpKuKvK454p",
        "colab_type": "code",
        "colab": {
          "base_uri": "https://localhost:8080/",
          "height": 170
        },
        "outputId": "34cdde07-9768-4aad-c4bc-fd1de85c154b"
      },
      "source": [
        "DT_AUC_train; DT_AUC_test\n",
        "DT_AUC_train_std; DT_AUC_test_std"
      ],
      "execution_count": null,
      "outputs": [
        {
          "output_type": "execute_result",
          "data": {
            "text/plain": [
              "[0.07435097566210773,\n",
              " 0.05153887852094868,\n",
              " 0.06987662090455413,\n",
              " 0.06525107395596637,\n",
              " 0.0921246542401864,\n",
              " 0.123302947111215,\n",
              " 0.12793555172447169,\n",
              " 0.08562583116557351,\n",
              " 0.11057205311934903]"
            ]
          },
          "metadata": {
            "tags": []
          },
          "execution_count": 226
        }
      ]
    },
    {
      "cell_type": "code",
      "metadata": {
        "id": "gw0Scw5U4nT2",
        "colab_type": "code",
        "colab": {
          "base_uri": "https://localhost:8080/",
          "height": 199
        },
        "outputId": "6a71eecd-0e43-4f6b-bb1e-797f4b75348c"
      },
      "source": [
        "# confidence interval \n",
        "print(\"Training_AUC_CI: %0.2f (+/- %0.2f)\" % (DT_AUC_train, DT_AUC_train_std * 2))\n",
        "print(\"Testing_AUC_CI: %0.2f (+/- %0.2f)\" % (DT_AUC_test, DT_AUC_test_std * 2))\n",
        "\n",
        "DT_AUC_train + DT_AUC_train_std * 2\n",
        "DT_AUC_train - DT_AUC_train_std * 2\n"
      ],
      "execution_count": null,
      "outputs": [
        {
          "output_type": "error",
          "ename": "TypeError",
          "evalue": "ignored",
          "traceback": [
            "\u001b[0;31m---------------------------------------------------------------------------\u001b[0m",
            "\u001b[0;31mTypeError\u001b[0m                                 Traceback (most recent call last)",
            "\u001b[0;32m<ipython-input-228-af9f1af4cd6b>\u001b[0m in \u001b[0;36m<module>\u001b[0;34m()\u001b[0m\n\u001b[1;32m      3\u001b[0m \u001b[0;31m#print(\"Testing_AUC_CI: %0.2f (+/- %0.2f)\" % (DT_AUC_test, DT_AUC_test_std * 2))\u001b[0m\u001b[0;34m\u001b[0m\u001b[0;34m\u001b[0m\u001b[0;34m\u001b[0m\u001b[0m\n\u001b[1;32m      4\u001b[0m \u001b[0;34m\u001b[0m\u001b[0m\n\u001b[0;32m----> 5\u001b[0;31m \u001b[0mDT_AUC_train\u001b[0m \u001b[0;34m+\u001b[0m \u001b[0mDT_AUC_train_std\u001b[0m \u001b[0;34m*\u001b[0m \u001b[0;36m2\u001b[0m\u001b[0;34m;\u001b[0m \u001b[0mDT_AUC_train\u001b[0m \u001b[0;34m-\u001b[0m \u001b[0mDT_AUC_train_std\u001b[0m \u001b[0;34m*\u001b[0m \u001b[0;36m2\u001b[0m\u001b[0;34m\u001b[0m\u001b[0;34m\u001b[0m\u001b[0m\n\u001b[0m",
            "\u001b[0;31mTypeError\u001b[0m: unsupported operand type(s) for -: 'list' and 'list'"
          ]
        }
      ]
    },
    {
      "cell_type": "markdown",
      "metadata": {
        "id": "_G_neopke-od",
        "colab_type": "text"
      },
      "source": [
        "#### 1-1.2 Multi-Layer Perceptrons\n"
      ]
    },
    {
      "cell_type": "code",
      "metadata": {
        "id": "H9_Y6t8_fIDR",
        "colab_type": "code",
        "colab": {
          "base_uri": "https://localhost:8080/",
          "height": 297
        },
        "outputId": "a6167bbe-c45b-4833-f88f-fc26e5781dc2"
      },
      "source": [
        "# Get Features & Target variables\n",
        "features_columns = ozone.columns[:-1] # exclude 'Class'\n",
        "X = ozone[features_columns] # Features\n",
        "y = ozone['Class'] # Target\n",
        "\n",
        "training_sizes = [0.1, 0.2, 0.3, 0.4, 0.5, 0.6, 0.7, 0.8, 0.9]\n",
        "MLP_AUC_train = []\n",
        "MLP_AUC_test = []\n",
        "\n",
        "for i in training_sizes:\n",
        "  # looping through different training size\n",
        "  X_train, X_test, y_train, y_test = train_test_split(X, y, \n",
        "                                                      train_size = i,\n",
        "                                                      random_state = 1)\n",
        "  # fit Multi-Layer Perceptrons \n",
        "  clf = MLPClassifier(activation = 'logistic', \n",
        "                    solver = 'adam',\n",
        "                    alpha = 1e-5,\n",
        "                    max_iter = 1000,  \n",
        "                    hidden_layer_sizes = (15, 10),\n",
        "                    random_state = 1,\n",
        "                    learning_rate_init = 0.5)\n",
        "  clf = clf.fit(X_train, y_train)\n",
        "  y_pred = clf.predict(X_test)\n",
        "  # calculate the mean of AUC score by 10-fold CV\n",
        "  train_scores = cross_val_score(clf, X_train, y_train, cv = 10, \n",
        "                                 scoring = 'roc_auc').mean()\n",
        "  test_scores = cross_val_score(clf, X_test, y_test, cv = 10, \n",
        "                                scoring = 'roc_auc').mean()\n",
        "  MLP_AUC_train.append(train_scores)\n",
        "  MLP_AUC_test.append(test_scores)\n",
        "\n",
        "# plotting\n",
        "plt.figure(figsize=(6, 4))\n",
        "plt.plot(training_sizes, MLP_AUC_train, 'c^-', label = 'training')\n",
        "plt.plot(training_sizes, MLP_AUC_test, 'C1o-', label = 'testing')\n",
        "plt.legend(frameon = True, loc = 'bottom left')\n",
        "plt.title('Multi-Layer Perceptrons (ozone)', size = 15)\n",
        "plt.xlabel('Training Size', size = 13)\n",
        "plt.ylabel('AUC Score', size = 13)"
      ],
      "execution_count": null,
      "outputs": [
        {
          "output_type": "display_data",
          "data": {
            "application/javascript": [
              "\n",
              "    async function download(id, filename, size) {\n",
              "      if (!google.colab.kernel.accessAllowed) {\n",
              "        return;\n",
              "      }\n",
              "      const div = document.createElement('div');\n",
              "      const label = document.createElement('label');\n",
              "      label.textContent = `Downloading \"${filename}\": `;\n",
              "      div.appendChild(label);\n",
              "      const progress = document.createElement('progress');\n",
              "      progress.max = size;\n",
              "      div.appendChild(progress);\n",
              "      document.body.appendChild(div);\n",
              "\n",
              "      const buffers = [];\n",
              "      let downloaded = 0;\n",
              "\n",
              "      const channel = await google.colab.kernel.comms.open(id);\n",
              "      // Send a message to notify the kernel that we're ready.\n",
              "      channel.send({})\n",
              "\n",
              "      for await (const message of channel.messages) {\n",
              "        // Send a message to notify the kernel that we're ready.\n",
              "        channel.send({})\n",
              "        if (message.buffers) {\n",
              "          for (const buffer of message.buffers) {\n",
              "            buffers.push(buffer);\n",
              "            downloaded += buffer.byteLength;\n",
              "            progress.value = downloaded;\n",
              "          }\n",
              "        }\n",
              "      }\n",
              "      const blob = new Blob(buffers, {type: 'application/binary'});\n",
              "      const a = document.createElement('a');\n",
              "      a.href = window.URL.createObjectURL(blob);\n",
              "      a.download = filename;\n",
              "      div.appendChild(a);\n",
              "      a.click();\n",
              "      div.remove();\n",
              "    }\n",
              "  "
            ],
            "text/plain": [
              "<IPython.core.display.Javascript object>"
            ]
          },
          "metadata": {
            "tags": []
          }
        },
        {
          "output_type": "display_data",
          "data": {
            "application/javascript": [
              "download(\"download_dd4d4b3d-b537-4d51-bbf9-afe1c828b1a7\", \"MLP_ozone.png\", 28259)"
            ],
            "text/plain": [
              "<IPython.core.display.Javascript object>"
            ]
          },
          "metadata": {
            "tags": []
          }
        },
        {
          "output_type": "display_data",
          "data": {
            "image/png": "[encoded data removed]",
            "text/plain": [
              "<Figure size 432x288 with 1 Axes>"
            ]
          },
          "metadata": {
            "tags": [],
            "needs_background": "light"
          }
        }
      ]
    },
    {
      "cell_type": "markdown",
      "metadata": {
        "id": "oemfEfr6ttBj",
        "colab_type": "text"
      },
      "source": [
        "### 1-2 steel plates data "
      ]
    },
    {
      "cell_type": "markdown",
      "metadata": {
        "id": "Vs3nN_Y0fjKR",
        "colab_type": "text"
      },
      "source": [
        "#### 1-2.1 Decision Tree (binary)"
      ]
    },
    {
      "cell_type": "code",
      "metadata": {
        "id": "XRsKmbiCtnkq",
        "colab_type": "code",
        "colab": {
          "base_uri": "https://localhost:8080/",
          "height": 297
        },
        "outputId": "ccc05695-0c95-4217-fe75-4acd2a1ca335"
      },
      "source": [
        "# Get Features & Target variables\n",
        "features_columns = steel_bin.columns[:-1] # exclude 'Class'\n",
        "X = steel_bin[features_columns] # Features\n",
        "y = steel_bin['Class'] # Target\n",
        "\n",
        "training_sizes = [0.1, 0.2, 0.3, 0.4, 0.5, 0.6, 0.7, 0.8, 0.9]\n",
        "DT_AUC_train = []\n",
        "DT_AUC_test = []\n",
        "\n",
        "for i in training_sizes:\n",
        "  # looping through different training size\n",
        "  X_train, X_test, y_train, y_test = train_test_split(X, y, \n",
        "                                                      train_size = i,\n",
        "                                                      random_state = 1)\n",
        "  # fit DecisionTree \n",
        "  clf = DecisionTreeClassifier(criterion = 'entropy', min_samples_split = 50)\n",
        "  clf = clf.fit(X_train, y_train)\n",
        "  y_pred = clf.predict(X_test)\n",
        "  # calculate the mean of AUC score by 10-fold CV\n",
        "  train_scores = cross_val_score(clf, X_train, y_train, cv = 10, scoring = 'roc_auc').mean()\n",
        "  test_scores = cross_val_score(clf, X_test, y_test, cv = 10, scoring = 'roc_auc').mean()\n",
        "  DT_AUC_train.append(train_scores)\n",
        "  DT_AUC_test.append(test_scores)\n",
        "\n",
        "# plotting\n",
        "plt.figure(figsize=(6, 4))\n",
        "plt.plot(training_sizes, DT_AUC_train, 'c^-', label = 'training')\n",
        "plt.plot(training_sizes, DT_AUC_test, 'C1o-', label = 'testing')\n",
        "plt.legend(frameon = True, loc = 'bottom right')\n",
        "plt.title('Decision Tree Classifier (steel - binary class)', size = 15)\n",
        "plt.xlabel('Training Size', size = 13)\n",
        "plt.ylabel('AUC Score', size = 13)"
      ],
      "execution_count": null,
      "outputs": [
        {
          "output_type": "display_data",
          "data": {
            "application/javascript": [
              "\n",
              "    async function download(id, filename, size) {\n",
              "      if (!google.colab.kernel.accessAllowed) {\n",
              "        return;\n",
              "      }\n",
              "      const div = document.createElement('div');\n",
              "      const label = document.createElement('label');\n",
              "      label.textContent = `Downloading \"${filename}\": `;\n",
              "      div.appendChild(label);\n",
              "      const progress = document.createElement('progress');\n",
              "      progress.max = size;\n",
              "      div.appendChild(progress);\n",
              "      document.body.appendChild(div);\n",
              "\n",
              "      const buffers = [];\n",
              "      let downloaded = 0;\n",
              "\n",
              "      const channel = await google.colab.kernel.comms.open(id);\n",
              "      // Send a message to notify the kernel that we're ready.\n",
              "      channel.send({})\n",
              "\n",
              "      for await (const message of channel.messages) {\n",
              "        // Send a message to notify the kernel that we're ready.\n",
              "        channel.send({})\n",
              "        if (message.buffers) {\n",
              "          for (const buffer of message.buffers) {\n",
              "            buffers.push(buffer);\n",
              "            downloaded += buffer.byteLength;\n",
              "            progress.value = downloaded;\n",
              "          }\n",
              "        }\n",
              "      }\n",
              "      const blob = new Blob(buffers, {type: 'application/binary'});\n",
              "      const a = document.createElement('a');\n",
              "      a.href = window.URL.createObjectURL(blob);\n",
              "      a.download = filename;\n",
              "      div.appendChild(a);\n",
              "      a.click();\n",
              "      div.remove();\n",
              "    }\n",
              "  "
            ],
            "text/plain": [
              "<IPython.core.display.Javascript object>"
            ]
          },
          "metadata": {
            "tags": []
          }
        },
        {
          "output_type": "display_data",
          "data": {
            "application/javascript": [
              "download(\"download_b4999df4-408e-41f1-8894-a28fd7b78e77\", \"DT_steel-bin.png\", 27324)"
            ],
            "text/plain": [
              "<IPython.core.display.Javascript object>"
            ]
          },
          "metadata": {
            "tags": []
          }
        },
        {
          "output_type": "display_data",
          "data": {
            "image/png": "[encoded data removed]",
            "text/plain": [
              "<Figure size 432x288 with 1 Axes>"
            ]
          },
          "metadata": {
            "tags": [],
            "needs_background": "light"
          }
        }
      ]
    },
    {
      "cell_type": "markdown",
      "metadata": {
        "id": "0C9gCSuYMZJs",
        "colab_type": "text"
      },
      "source": [
        "#### 1-2.2 Decision Tree (multi-class)"
      ]
    },
    {
      "cell_type": "code",
      "metadata": {
        "id": "laVg7rAaMaof",
        "colab_type": "code",
        "colab": {
          "base_uri": "https://localhost:8080/",
          "height": 297
        },
        "outputId": "9d9365b2-3cff-467f-a8cd-7168c1461d6f"
      },
      "source": [
        "# Get Features & Target variables\n",
        "features_columns = steel_mul.columns[:-1] # exclude 'Class'\n",
        "X = steel_mul[features_columns] # Features\n",
        "y = steel_mul['multi_class'] # Target\n",
        "\n",
        "training_sizes = [0.1, 0.2, 0.3, 0.4, 0.5, 0.6, 0.7, 0.8, 0.9]\n",
        "DT_AUC_train = []\n",
        "DT_AUC_test = []\n",
        "\n",
        "for i in training_sizes:\n",
        "  # looping through different training size\n",
        "  X_train, X_test, y_train, y_test = train_test_split(X, y, \n",
        "                                                      train_size = i,\n",
        "                                                      random_state = 1)\n",
        "  # fit DecisionTree \n",
        "  clf = DecisionTreeClassifier(criterion = 'entropy', min_samples_split = 50)\n",
        "  clf = clf.fit(X_train, y_train)\n",
        "  y_pred = clf.predict(X_test)\n",
        "  # calculate the mean of AUC score by 10-fold CV\n",
        "  train_scores = cross_val_score(clf, X_train, y_train, cv = 10, scoring = 'accuracy').mean()\n",
        "  test_scores = cross_val_score(clf, X_test, y_test, cv = 10, scoring = 'accuracy').mean()\n",
        "  DT_AUC_train.append(train_scores)\n",
        "  DT_AUC_test.append(test_scores)\n",
        "\n",
        "# plotting\n",
        "plt.figure(figsize=(6, 4))\n",
        "plt.plot(training_sizes, DT_AUC_train, 'c^-', label = 'training')\n",
        "plt.plot(training_sizes, DT_AUC_test, 'C1o-', label = 'testing')\n",
        "plt.legend(frameon = True, loc = 'bottom right')\n",
        "plt.title('Decision Tree Classifier (steel - multi class)', size = 15)\n",
        "plt.xlabel('Training Size', size = 13)\n",
        "plt.ylabel('Accuracy', size = 13)"
      ],
      "execution_count": null,
      "outputs": [
        {
          "output_type": "display_data",
          "data": {
            "application/javascript": [
              "\n",
              "    async function download(id, filename, size) {\n",
              "      if (!google.colab.kernel.accessAllowed) {\n",
              "        return;\n",
              "      }\n",
              "      const div = document.createElement('div');\n",
              "      const label = document.createElement('label');\n",
              "      label.textContent = `Downloading \"${filename}\": `;\n",
              "      div.appendChild(label);\n",
              "      const progress = document.createElement('progress');\n",
              "      progress.max = size;\n",
              "      div.appendChild(progress);\n",
              "      document.body.appendChild(div);\n",
              "\n",
              "      const buffers = [];\n",
              "      let downloaded = 0;\n",
              "\n",
              "      const channel = await google.colab.kernel.comms.open(id);\n",
              "      // Send a message to notify the kernel that we're ready.\n",
              "      channel.send({})\n",
              "\n",
              "      for await (const message of channel.messages) {\n",
              "        // Send a message to notify the kernel that we're ready.\n",
              "        channel.send({})\n",
              "        if (message.buffers) {\n",
              "          for (const buffer of message.buffers) {\n",
              "            buffers.push(buffer);\n",
              "            downloaded += buffer.byteLength;\n",
              "            progress.value = downloaded;\n",
              "          }\n",
              "        }\n",
              "      }\n",
              "      const blob = new Blob(buffers, {type: 'application/binary'});\n",
              "      const a = document.createElement('a');\n",
              "      a.href = window.URL.createObjectURL(blob);\n",
              "      a.download = filename;\n",
              "      div.appendChild(a);\n",
              "      a.click();\n",
              "      div.remove();\n",
              "    }\n",
              "  "
            ],
            "text/plain": [
              "<IPython.core.display.Javascript object>"
            ]
          },
          "metadata": {
            "tags": []
          }
        },
        {
          "output_type": "display_data",
          "data": {
            "application/javascript": [
              "download(\"download_8873b1df-f111-42e9-a059-faf1f1054b77\", \"DT_steel-mul.png\", 25219)"
            ],
            "text/plain": [
              "<IPython.core.display.Javascript object>"
            ]
          },
          "metadata": {
            "tags": []
          }
        },
        {
          "output_type": "display_data",
          "data": {
            "image/png": "[encoded data removed]",
            "text/plain": [
              "<Figure size 432x288 with 1 Axes>"
            ]
          },
          "metadata": {
            "tags": [],
            "needs_background": "light"
          }
        }
      ]
    },
    {
      "cell_type": "markdown",
      "metadata": {
        "id": "A1EzQuON5ffa",
        "colab_type": "text"
      },
      "source": [
        "#### 1-2.3 Multi-Layer Perceptrons (binary)     "
      ]
    },
    {
      "cell_type": "code",
      "metadata": {
        "id": "ckxRFruq5o2a",
        "colab_type": "code",
        "colab": {
          "base_uri": "https://localhost:8080/",
          "height": 297
        },
        "outputId": "d589c476-8079-4623-ea66-745d674f5e69"
      },
      "source": [
        "# Get Features & Target variables\n",
        "features_columns = steel_bin.columns[:-1] # exclude 'Class'\n",
        "X = steel_bin[features_columns] # Features\n",
        "y = steel_bin['Class'] # Target\n",
        "\n",
        "training_sizes = [0.1, 0.2, 0.3, 0.4, 0.5, 0.6, 0.7, 0.8, 0.9]\n",
        "MLP_AUC_train = []\n",
        "MLP_AUC_test = []\n",
        "\n",
        "for i in training_sizes:\n",
        "  # looping through different training size\n",
        "  X_train, X_test, y_train, y_test = train_test_split(X, y, \n",
        "                                                      train_size = i,\n",
        "                                                      random_state = 1)\n",
        "  # fit Multi-Layer Perceptrons \n",
        "  clf = MLPClassifier(activation = 'logistic', \n",
        "                    solver = 'adam',\n",
        "                    alpha = 1e-5,\n",
        "                    max_iter = 1000,  \n",
        "                    hidden_layer_sizes = (15, 10),\n",
        "                    random_state = 1,\n",
        "                    learning_rate_init = 0.5)\n",
        "  clf = clf.fit(X_train, y_train)\n",
        "  y_pred = clf.predict(X_test)\n",
        "  # calculate the mean of AUC score by 10-fold CV\n",
        "  train_scores = cross_val_score(clf, X_train, y_train, cv = 10, \n",
        "                                 scoring = 'roc_auc').mean()\n",
        "  test_scores = cross_val_score(clf, X_test, y_test, cv = 10, \n",
        "                                scoring = 'roc_auc').mean()\n",
        "  MLP_AUC_train.append(train_scores)\n",
        "  MLP_AUC_test.append(test_scores)\n",
        "\n",
        "# plotting\n",
        "plt.figure(figsize=(6, 4))\n",
        "plt.plot(training_sizes, MLP_AUC_train, 'c^-', label = 'training')\n",
        "plt.plot(training_sizes, MLP_AUC_test, 'C1o-', label = 'testing')\n",
        "plt.legend(frameon = True, loc = 'bottom left')\n",
        "plt.title('Multi-Layer Perceptrons (steel - binary class)', size = 15)\n",
        "plt.xlabel('Training Size', size = 13)\n",
        "plt.ylabel('AUC Score', size = 13)"
      ],
      "execution_count": null,
      "outputs": [
        {
          "output_type": "display_data",
          "data": {
            "application/javascript": [
              "\n",
              "    async function download(id, filename, size) {\n",
              "      if (!google.colab.kernel.accessAllowed) {\n",
              "        return;\n",
              "      }\n",
              "      const div = document.createElement('div');\n",
              "      const label = document.createElement('label');\n",
              "      label.textContent = `Downloading \"${filename}\": `;\n",
              "      div.appendChild(label);\n",
              "      const progress = document.createElement('progress');\n",
              "      progress.max = size;\n",
              "      div.appendChild(progress);\n",
              "      document.body.appendChild(div);\n",
              "\n",
              "      const buffers = [];\n",
              "      let downloaded = 0;\n",
              "\n",
              "      const channel = await google.colab.kernel.comms.open(id);\n",
              "      // Send a message to notify the kernel that we're ready.\n",
              "      channel.send({})\n",
              "\n",
              "      for await (const message of channel.messages) {\n",
              "        // Send a message to notify the kernel that we're ready.\n",
              "        channel.send({})\n",
              "        if (message.buffers) {\n",
              "          for (const buffer of message.buffers) {\n",
              "            buffers.push(buffer);\n",
              "            downloaded += buffer.byteLength;\n",
              "            progress.value = downloaded;\n",
              "          }\n",
              "        }\n",
              "      }\n",
              "      const blob = new Blob(buffers, {type: 'application/binary'});\n",
              "      const a = document.createElement('a');\n",
              "      a.href = window.URL.createObjectURL(blob);\n",
              "      a.download = filename;\n",
              "      div.appendChild(a);\n",
              "      a.click();\n",
              "      div.remove();\n",
              "    }\n",
              "  "
            ],
            "text/plain": [
              "<IPython.core.display.Javascript object>"
            ]
          },
          "metadata": {
            "tags": []
          }
        },
        {
          "output_type": "display_data",
          "data": {
            "application/javascript": [
              "download(\"download_112cbbab-2890-40c4-8e21-a961b0fc4baa\", \"MLP_steel-bin.png\", 28399)"
            ],
            "text/plain": [
              "<IPython.core.display.Javascript object>"
            ]
          },
          "metadata": {
            "tags": []
          }
        },
        {
          "output_type": "display_data",
          "data": {
            "image/png": "[encoded data removed]",
            "text/plain": [
              "<Figure size 432x288 with 1 Axes>"
            ]
          },
          "metadata": {
            "tags": [],
            "needs_background": "light"
          }
        }
      ]
    },
    {
      "cell_type": "markdown",
      "metadata": {
        "id": "cKqHj-F55pkb",
        "colab_type": "text"
      },
      "source": [
        "#### 1-2.4 Multi-Layer Perceptrons (multi-class)     \n",
        "\n",
        "\n"
      ]
    },
    {
      "cell_type": "code",
      "metadata": {
        "id": "kB9qQLNQ5sQW",
        "colab_type": "code",
        "colab": {
          "base_uri": "https://localhost:8080/",
          "height": 297
        },
        "outputId": "2741e4d4-812e-4486-99b9-41c5d39d5122"
      },
      "source": [
        "# Get Features & Target variables\n",
        "features_columns = steel_mul.columns[:-1] # exclude 'Class'\n",
        "X = steel_mul[features_columns] # Features\n",
        "y = steel_mul['multi_class'] # Target\n",
        "\n",
        "training_sizes = [0.1, 0.2, 0.3, 0.4, 0.5, 0.6, 0.7, 0.8, 0.9]\n",
        "MLP_AUC_train = []\n",
        "MLP_AUC_test = []\n",
        "\n",
        "for i in training_sizes:\n",
        "  # looping through different training size\n",
        "  X_train, X_test, y_train, y_test = train_test_split(X, y, \n",
        "                                                      train_size = i,\n",
        "                                                      random_state = 1)\n",
        "  # fit Multi-Layer Perceptrons \n",
        "  clf = MLPClassifier(activation = 'logistic', \n",
        "                    solver = 'adam',\n",
        "                    alpha = 1e-5,\n",
        "                    max_iter = 1000,  \n",
        "                    hidden_layer_sizes = (15, 10),\n",
        "                    random_state = 1,\n",
        "                    learning_rate_init = 0.5)\n",
        "  clf = clf.fit(X_train, y_train)\n",
        "  y_pred = clf.predict(X_test)\n",
        "  # calculate the mean of AUC score by 10-fold CV\n",
        "  train_scores = cross_val_score(clf, X_train, y_train, cv = 10, \n",
        "                                 scoring = 'accuracy').mean()\n",
        "  test_scores = cross_val_score(clf, X_test, y_test, cv = 10, \n",
        "                                scoring = 'accuracy').mean()\n",
        "  MLP_AUC_train.append(train_scores)\n",
        "  MLP_AUC_test.append(test_scores)\n",
        "\n",
        "# plotting\n",
        "plt.figure(figsize=(6, 4))\n",
        "plt.plot(training_sizes, DT_AUC_train, 'c^-', label = 'training')\n",
        "plt.plot(training_sizes, DT_AUC_test, 'C1o-', label = 'testing')\n",
        "plt.legend(frameon = True, loc = 'bottom right')\n",
        "plt.title('Multi-Layer Perceptrons (steel - multi class)', size = 15)\n",
        "plt.xlabel('Training Size', size = 13)\n",
        "plt.ylabel('Accuracy', size = 13)"
      ],
      "execution_count": null,
      "outputs": [
        {
          "output_type": "display_data",
          "data": {
            "application/javascript": [
              "\n",
              "    async function download(id, filename, size) {\n",
              "      if (!google.colab.kernel.accessAllowed) {\n",
              "        return;\n",
              "      }\n",
              "      const div = document.createElement('div');\n",
              "      const label = document.createElement('label');\n",
              "      label.textContent = `Downloading \"${filename}\": `;\n",
              "      div.appendChild(label);\n",
              "      const progress = document.createElement('progress');\n",
              "      progress.max = size;\n",
              "      div.appendChild(progress);\n",
              "      document.body.appendChild(div);\n",
              "\n",
              "      const buffers = [];\n",
              "      let downloaded = 0;\n",
              "\n",
              "      const channel = await google.colab.kernel.comms.open(id);\n",
              "      // Send a message to notify the kernel that we're ready.\n",
              "      channel.send({})\n",
              "\n",
              "      for await (const message of channel.messages) {\n",
              "        // Send a message to notify the kernel that we're ready.\n",
              "        channel.send({})\n",
              "        if (message.buffers) {\n",
              "          for (const buffer of message.buffers) {\n",
              "            buffers.push(buffer);\n",
              "            downloaded += buffer.byteLength;\n",
              "            progress.value = downloaded;\n",
              "          }\n",
              "        }\n",
              "      }\n",
              "      const blob = new Blob(buffers, {type: 'application/binary'});\n",
              "      const a = document.createElement('a');\n",
              "      a.href = window.URL.createObjectURL(blob);\n",
              "      a.download = filename;\n",
              "      div.appendChild(a);\n",
              "      a.click();\n",
              "      div.remove();\n",
              "    }\n",
              "  "
            ],
            "text/plain": [
              "<IPython.core.display.Javascript object>"
            ]
          },
          "metadata": {
            "tags": []
          }
        },
        {
          "output_type": "display_data",
          "data": {
            "application/javascript": [
              "download(\"download_d4f9493b-b41a-42fa-9b21-6a914861f026\", \"MLP_steel-mul.png\", 25273)"
            ],
            "text/plain": [
              "<IPython.core.display.Javascript object>"
            ]
          },
          "metadata": {
            "tags": []
          }
        },
        {
          "output_type": "display_data",
          "data": {
            "image/png": "[encoded data removed]",
            "text/plain": [
              "<Figure size 432x288 with 1 Axes>"
            ]
          },
          "metadata": {
            "tags": [],
            "needs_background": "light"
          }
        }
      ]
    },
    {
      "cell_type": "markdown",
      "metadata": {
        "id": "ceeBkJlAEv77",
        "colab_type": "text"
      },
      "source": [
        "## 2) Can overfitting be overcome by feature selection?"
      ]
    },
    {
      "cell_type": "markdown",
      "metadata": {
        "id": "Gjy92zI7E2Jv",
        "colab_type": "text"
      },
      "source": [
        "### 2-1 ozone data (Feature Selection)"
      ]
    },
    {
      "cell_type": "markdown",
      "metadata": {
        "id": "y5UeqYAxM8Mj",
        "colab_type": "text"
      },
      "source": [
        "#### 2-1.1 Decision Tree"
      ]
    },
    {
      "cell_type": "code",
      "metadata": {
        "id": "7JKbKVprZync",
        "colab_type": "code",
        "colab": {
          "base_uri": "https://localhost:8080/",
          "height": 34
        },
        "outputId": "5b45f3a3-0426-43e1-ce9d-991db53f0360"
      },
      "source": [
        "features_columns = ozone.columns[:-1] # exclude 'Class'\n",
        "X = ozone[features_columns] # Features\n",
        "y = ozone['Class'] # Target\n",
        "\n",
        "# feature selection - Univariate F-test Feature selection\n",
        "X_new = SelectKBest(f_classif, k = 24).fit_transform(X, y)\n",
        "print(X_new.shape)"
      ],
      "execution_count": null,
      "outputs": [
        {
          "output_type": "stream",
          "text": [
            "(2534, 24)\n"
          ],
          "name": "stdout"
        }
      ]
    },
    {
      "cell_type": "code",
      "metadata": {
        "id": "FI8oALkjMfnu",
        "colab_type": "code",
        "colab": {
          "base_uri": "https://localhost:8080/",
          "height": 297
        },
        "outputId": "ff5deeb8-d5bc-48a4-dc49-56043d494546"
      },
      "source": [
        "training_sizes = [0.1, 0.2, 0.3, 0.4, 0.5, 0.6, 0.7, 0.8, 0.9]\n",
        "DT_AUC_train = []\n",
        "DT_AUC_test = []\n",
        "\n",
        "for i in training_sizes:\n",
        "  # looping through different training size\n",
        "  X_train, X_test, y_train, y_test = train_test_split(X_new, y, \n",
        "                                                      train_size = i,\n",
        "                                                      random_state = 1)\n",
        "  # fit DecisionTree \n",
        "  clf = DecisionTreeClassifier(criterion = 'entropy', min_samples_split = 50)\n",
        "  clf = clf.fit(X_train, y_train)\n",
        "  y_pred = clf.predict(X_test)\n",
        "  # calculate the mean of AUC score by 10-fold CV\n",
        "  train_scores = cross_val_score(clf, X_train, y_train, cv = 10, \n",
        "                                 scoring = 'roc_auc').mean()\n",
        "  test_scores = cross_val_score(clf, X_test, y_test, cv = 10, \n",
        "                                scoring = 'roc_auc').mean()\n",
        "  DT_AUC_train.append(train_scores)\n",
        "  DT_AUC_test.append(test_scores)\n",
        "\n",
        "# plotting\n",
        "plt.figure(figsize=(6, 4))\n",
        "plt.plot(training_sizes, DT_AUC_train, 'c^-', label = 'training')\n",
        "plt.plot(training_sizes, DT_AUC_test, 'C1o-', label = 'testing')\n",
        "plt.legend(frameon = True, loc = 'bottom right')\n",
        "plt.title('Decision Tree Classifier (ozone)', size = 15)\n",
        "plt.xlabel('Training Size', size = 13)\n",
        "plt.ylabel('AUC Score', size = 13)"
      ],
      "execution_count": null,
      "outputs": [
        {
          "output_type": "display_data",
          "data": {
            "application/javascript": [
              "\n",
              "    async function download(id, filename, size) {\n",
              "      if (!google.colab.kernel.accessAllowed) {\n",
              "        return;\n",
              "      }\n",
              "      const div = document.createElement('div');\n",
              "      const label = document.createElement('label');\n",
              "      label.textContent = `Downloading \"${filename}\": `;\n",
              "      div.appendChild(label);\n",
              "      const progress = document.createElement('progress');\n",
              "      progress.max = size;\n",
              "      div.appendChild(progress);\n",
              "      document.body.appendChild(div);\n",
              "\n",
              "      const buffers = [];\n",
              "      let downloaded = 0;\n",
              "\n",
              "      const channel = await google.colab.kernel.comms.open(id);\n",
              "      // Send a message to notify the kernel that we're ready.\n",
              "      channel.send({})\n",
              "\n",
              "      for await (const message of channel.messages) {\n",
              "        // Send a message to notify the kernel that we're ready.\n",
              "        channel.send({})\n",
              "        if (message.buffers) {\n",
              "          for (const buffer of message.buffers) {\n",
              "            buffers.push(buffer);\n",
              "            downloaded += buffer.byteLength;\n",
              "            progress.value = downloaded;\n",
              "          }\n",
              "        }\n",
              "      }\n",
              "      const blob = new Blob(buffers, {type: 'application/binary'});\n",
              "      const a = document.createElement('a');\n",
              "      a.href = window.URL.createObjectURL(blob);\n",
              "      a.download = filename;\n",
              "      div.appendChild(a);\n",
              "      a.click();\n",
              "      div.remove();\n",
              "    }\n",
              "  "
            ],
            "text/plain": [
              "<IPython.core.display.Javascript object>"
            ]
          },
          "metadata": {
            "tags": []
          }
        },
        {
          "output_type": "display_data",
          "data": {
            "application/javascript": [
              "download(\"download_4190d2f1-7f95-46cf-8d07-4ba9f1629867\", \"FS_DT_ozone.png\", 21656)"
            ],
            "text/plain": [
              "<IPython.core.display.Javascript object>"
            ]
          },
          "metadata": {
            "tags": []
          }
        },
        {
          "output_type": "display_data",
          "data": {
            "image/png": "[encoded data removed]",
            "text/plain": [
              "<Figure size 432x288 with 1 Axes>"
            ]
          },
          "metadata": {
            "tags": [],
            "needs_background": "light"
          }
        }
      ]
    },
    {
      "cell_type": "markdown",
      "metadata": {
        "id": "MsD0FbW7YDo_",
        "colab_type": "text"
      },
      "source": [
        "#### 2-1.2 Multi-Layer Perceptrons"
      ]
    },
    {
      "cell_type": "code",
      "metadata": {
        "id": "KWvFXsTRZUCO",
        "colab_type": "code",
        "colab": {
          "base_uri": "https://localhost:8080/",
          "height": 34
        },
        "outputId": "b118a693-9a5b-43a6-bace-367ce0ad7077"
      },
      "source": [
        "features_columns = ozone.columns[:-1] # exclude 'Class'\n",
        "X = ozone[features_columns] # Features\n",
        "y = ozone['Class'] # Target\n",
        "\n",
        "# feature selection - Univariate F-test Feature selection\n",
        "X_new = SelectKBest(f_classif, k = 32).fit_transform(X, y)\n",
        "print(X_new.shape)"
      ],
      "execution_count": 15,
      "outputs": [
        {
          "output_type": "stream",
          "text": [
            "(2534, 32)\n"
          ],
          "name": "stdout"
        }
      ]
    },
    {
      "cell_type": "code",
      "metadata": {
        "id": "6XZ4ZBd3YJVf",
        "colab_type": "code",
        "colab": {
          "base_uri": "https://localhost:8080/",
          "height": 297
        },
        "outputId": "1c795d77-01c9-41ae-a03e-f170b77b1a66"
      },
      "source": [
        "training_sizes = [0.1, 0.2, 0.3, 0.4, 0.5, 0.6, 0.7, 0.8, 0.9]\n",
        "MLP_AUC_train = []\n",
        "MLP_AUC_test = []\n",
        "\n",
        "for i in training_sizes:\n",
        "  # looping through different training size\n",
        "  X_train, X_test, y_train, y_test = train_test_split(X_new, y, \n",
        "                                                      train_size = i,\n",
        "                                                      random_state = 1)\n",
        "  # fit Multi-Layer Perceptrons \n",
        "  clf = MLPClassifier(activation = 'logistic', \n",
        "                    solver = 'adam',\n",
        "                    alpha = 1e-5,\n",
        "                    max_iter = 700,  \n",
        "                    hidden_layer_sizes = (15, 10),\n",
        "                    random_state = 1,\n",
        "                    learning_rate_init = 0.5)\n",
        "  clf = clf.fit(X_train, y_train)\n",
        "  y_pred = clf.predict(X_test)\n",
        "  # calculate the mean of AUC score by 10-fold CV\n",
        "  train_scores = cross_val_score(clf, X_train, y_train, cv = 10, \n",
        "                                 scoring = 'roc_auc').mean()\n",
        "  test_scores = cross_val_score(clf, X_test, y_test, cv = 10, \n",
        "                                scoring = 'roc_auc').mean()\n",
        "  MLP_AUC_train.append(train_scores)\n",
        "  MLP_AUC_test.append(test_scores)\n",
        "\n",
        "# plotting\n",
        "plt.figure(figsize=(6, 4))\n",
        "plt.plot(training_sizes, MLP_AUC_train, 'c^-', label = 'training')\n",
        "plt.plot(training_sizes, MLP_AUC_test, 'C1o-', label = 'testing')\n",
        "plt.legend(frameon = True, loc = 'bottom left')\n",
        "plt.title('Multi-Layer Perceptrons (ozone)', size = 15)\n",
        "plt.xlabel('Training Size', size = 13)\n",
        "plt.ylabel('AUC Score', size = 13)"
      ],
      "execution_count": 17,
      "outputs": [
        {
          "output_type": "display_data",
          "data": {
            "application/javascript": [
              "\n",
              "    async function download(id, filename, size) {\n",
              "      if (!google.colab.kernel.accessAllowed) {\n",
              "        return;\n",
              "      }\n",
              "      const div = document.createElement('div');\n",
              "      const label = document.createElement('label');\n",
              "      label.textContent = `Downloading \"${filename}\": `;\n",
              "      div.appendChild(label);\n",
              "      const progress = document.createElement('progress');\n",
              "      progress.max = size;\n",
              "      div.appendChild(progress);\n",
              "      document.body.appendChild(div);\n",
              "\n",
              "      const buffers = [];\n",
              "      let downloaded = 0;\n",
              "\n",
              "      const channel = await google.colab.kernel.comms.open(id);\n",
              "      // Send a message to notify the kernel that we're ready.\n",
              "      channel.send({})\n",
              "\n",
              "      for await (const message of channel.messages) {\n",
              "        // Send a message to notify the kernel that we're ready.\n",
              "        channel.send({})\n",
              "        if (message.buffers) {\n",
              "          for (const buffer of message.buffers) {\n",
              "            buffers.push(buffer);\n",
              "            downloaded += buffer.byteLength;\n",
              "            progress.value = downloaded;\n",
              "          }\n",
              "        }\n",
              "      }\n",
              "      const blob = new Blob(buffers, {type: 'application/binary'});\n",
              "      const a = document.createElement('a');\n",
              "      a.href = window.URL.createObjectURL(blob);\n",
              "      a.download = filename;\n",
              "      div.appendChild(a);\n",
              "      a.click();\n",
              "      div.remove();\n",
              "    }\n",
              "  "
            ],
            "text/plain": [
              "<IPython.core.display.Javascript object>"
            ]
          },
          "metadata": {
            "tags": []
          }
        },
        {
          "output_type": "display_data",
          "data": {
            "application/javascript": [
              "download(\"download_d3ec3bfd-1ee9-4e9b-b369-44ccfc99fde6\", \"FS_MLP_ozone.png\", 28483)"
            ],
            "text/plain": [
              "<IPython.core.display.Javascript object>"
            ]
          },
          "metadata": {
            "tags": []
          }
        },
        {
          "output_type": "display_data",
          "data": {
            "image/png": "[encoded data removed]",
            "text/plain": [
              "<Figure size 432x288 with 1 Axes>"
            ]
          },
          "metadata": {
            "tags": [],
            "needs_background": "light"
          }
        }
      ]
    },
    {
      "cell_type": "markdown",
      "metadata": {
        "id": "nG1NAqxaE8L3",
        "colab_type": "text"
      },
      "source": [
        "### 2-2 steel plates data (Feature Selection)"
      ]
    },
    {
      "cell_type": "markdown",
      "metadata": {
        "id": "LWalVCasFEPz",
        "colab_type": "text"
      },
      "source": [
        "#### 2-2.1 Decision Tree (binary)"
      ]
    },
    {
      "cell_type": "code",
      "metadata": {
        "id": "gCySii2Ta1Lr",
        "colab_type": "code",
        "colab": {
          "base_uri": "https://localhost:8080/",
          "height": 34
        },
        "outputId": "54fcd81c-fa5c-49f5-b888-5dd9d0deb148"
      },
      "source": [
        "features_columns = steel_bin.columns[:-1] # exclude 'Class'\n",
        "X = steel_bin[features_columns] # Features\n",
        "y = steel_bin['Class'] # Target\n",
        "\n",
        "# feature selection - Univariate F-test Feature selection\n",
        "X_new = SelectKBest(f_classif, k = 13).fit_transform(X, y)\n",
        "print(X_new.shape)"
      ],
      "execution_count": null,
      "outputs": [
        {
          "output_type": "stream",
          "text": [
            "(1941, 13)\n"
          ],
          "name": "stdout"
        }
      ]
    },
    {
      "cell_type": "code",
      "metadata": {
        "id": "hQOjGvnlFLy_",
        "colab_type": "code",
        "colab": {
          "base_uri": "https://localhost:8080/",
          "height": 297
        },
        "outputId": "ffb7a39a-7745-4537-f96e-d9b5c6433cb6"
      },
      "source": [
        "training_sizes = [0.1, 0.2, 0.3, 0.4, 0.5, 0.6, 0.7, 0.8, 0.9]\n",
        "DT_AUC_train = []\n",
        "DT_AUC_test = []\n",
        "\n",
        "for i in training_sizes:\n",
        "  # looping through different training size\n",
        "  X_train, X_test, y_train, y_test = train_test_split(X_new, y, \n",
        "                                                      train_size = i,\n",
        "                                                      random_state = 1)\n",
        "  # fit DecisionTree \n",
        "  clf = DecisionTreeClassifier(criterion = 'entropy', min_samples_split = 50)\n",
        "  clf = clf.fit(X_train, y_train)\n",
        "  y_pred = clf.predict(X_test)\n",
        "  # calculate the mean of AUC score by 10-fold CV\n",
        "  train_scores = cross_val_score(clf, X_train, y_train, cv = 10, \n",
        "                                 scoring = 'roc_auc').mean()\n",
        "  test_scores = cross_val_score(clf, X_test, y_test, cv = 10, \n",
        "                                scoring = 'roc_auc').mean()\n",
        "  DT_AUC_train.append(train_scores)\n",
        "  DT_AUC_test.append(test_scores)\n",
        "\n",
        "# plotting\n",
        "plt.figure(figsize=(6, 4))\n",
        "plt.plot(training_sizes, DT_AUC_train, 'c^-', label = 'training')\n",
        "plt.plot(training_sizes, DT_AUC_test, 'C1o-', label = 'testing')\n",
        "plt.legend(frameon = True, loc = 'bottom right')\n",
        "plt.title('Decision Tree Classifier (steel - binary class)', size = 15)\n",
        "plt.xlabel('Training Size', size = 13)\n",
        "plt.ylabel('AUC Score', size = 13)"
      ],
      "execution_count": null,
      "outputs": [
        {
          "output_type": "display_data",
          "data": {
            "application/javascript": [
              "\n",
              "    async function download(id, filename, size) {\n",
              "      if (!google.colab.kernel.accessAllowed) {\n",
              "        return;\n",
              "      }\n",
              "      const div = document.createElement('div');\n",
              "      const label = document.createElement('label');\n",
              "      label.textContent = `Downloading \"${filename}\": `;\n",
              "      div.appendChild(label);\n",
              "      const progress = document.createElement('progress');\n",
              "      progress.max = size;\n",
              "      div.appendChild(progress);\n",
              "      document.body.appendChild(div);\n",
              "\n",
              "      const buffers = [];\n",
              "      let downloaded = 0;\n",
              "\n",
              "      const channel = await google.colab.kernel.comms.open(id);\n",
              "      // Send a message to notify the kernel that we're ready.\n",
              "      channel.send({})\n",
              "\n",
              "      for await (const message of channel.messages) {\n",
              "        // Send a message to notify the kernel that we're ready.\n",
              "        channel.send({})\n",
              "        if (message.buffers) {\n",
              "          for (const buffer of message.buffers) {\n",
              "            buffers.push(buffer);\n",
              "            downloaded += buffer.byteLength;\n",
              "            progress.value = downloaded;\n",
              "          }\n",
              "        }\n",
              "      }\n",
              "      const blob = new Blob(buffers, {type: 'application/binary'});\n",
              "      const a = document.createElement('a');\n",
              "      a.href = window.URL.createObjectURL(blob);\n",
              "      a.download = filename;\n",
              "      div.appendChild(a);\n",
              "      a.click();\n",
              "      div.remove();\n",
              "    }\n",
              "  "
            ],
            "text/plain": [
              "<IPython.core.display.Javascript object>"
            ]
          },
          "metadata": {
            "tags": []
          }
        },
        {
          "output_type": "display_data",
          "data": {
            "application/javascript": [
              "download(\"download_5dcf7e65-4613-4bcb-af44-ac34019c2c44\", \"FS_DT_steel-bin.png\", 26056)"
            ],
            "text/plain": [
              "<IPython.core.display.Javascript object>"
            ]
          },
          "metadata": {
            "tags": []
          }
        },
        {
          "output_type": "display_data",
          "data": {
            "image/png": "[encoded data removed]",
            "text/plain": [
              "<Figure size 432x288 with 1 Axes>"
            ]
          },
          "metadata": {
            "tags": [],
            "needs_background": "light"
          }
        }
      ]
    },
    {
      "cell_type": "markdown",
      "metadata": {
        "id": "TyP14UQfao1z",
        "colab_type": "text"
      },
      "source": [
        "#### 2-2.2 Decision Tree (multi-class)"
      ]
    },
    {
      "cell_type": "code",
      "metadata": {
        "id": "Fki_uRBDas1n",
        "colab_type": "code",
        "colab": {
          "base_uri": "https://localhost:8080/",
          "height": 34
        },
        "outputId": "7b106b94-c3d8-44b0-9814-f7fab9ac1e2a"
      },
      "source": [
        "# Get Features & Target variables\n",
        "features_columns = steel_mul.columns[:-1] # exclude 'Class'\n",
        "X = steel_mul[features_columns] # Features\n",
        "y = steel_mul['multi_class'] # Target\n",
        "\n",
        "# feature selection - Univariate F-test Feature selection\n",
        "X_new = SelectKBest(f_classif, k = 12).fit_transform(X, y)\n",
        "print(X_new.shape)"
      ],
      "execution_count": null,
      "outputs": [
        {
          "output_type": "stream",
          "text": [
            "(1941, 12)\n"
          ],
          "name": "stdout"
        }
      ]
    },
    {
      "cell_type": "code",
      "metadata": {
        "id": "EGKB2wjubvMI",
        "colab_type": "code",
        "colab": {
          "base_uri": "https://localhost:8080/",
          "height": 297
        },
        "outputId": "5624d161-2210-4135-c208-7c1b185e0347"
      },
      "source": [
        "training_sizes = [0.1, 0.2, 0.3, 0.4, 0.5, 0.6, 0.7, 0.8, 0.9]\n",
        "DT_AUC_train = []\n",
        "DT_AUC_test = []\n",
        "\n",
        "for i in training_sizes:\n",
        "  # looping through different training size\n",
        "  X_train, X_test, y_train, y_test = train_test_split(X_new, y, \n",
        "                                                      train_size = i,\n",
        "                                                      random_state = 1)\n",
        "  # fit DecisionTree \n",
        "  clf = DecisionTreeClassifier(criterion = 'entropy', min_samples_split = 50)\n",
        "  clf = clf.fit(X_train, y_train)\n",
        "  y_pred = clf.predict(X_test)\n",
        "  # calculate the mean of AUC score by 10-fold CV\n",
        "  train_scores = cross_val_score(clf, X_train, y_train, cv = 10, \n",
        "                                 scoring = 'accuracy').mean()\n",
        "  test_scores = cross_val_score(clf, X_test, y_test, cv = 10, \n",
        "                                scoring = 'accuracy').mean()\n",
        "  DT_AUC_train.append(train_scores)\n",
        "  DT_AUC_test.append(test_scores)\n",
        "\n",
        "# plotting\n",
        "plt.figure(figsize=(6, 4))\n",
        "plt.plot(training_sizes, DT_AUC_train, 'c^-', label = 'training')\n",
        "plt.plot(training_sizes, DT_AUC_test, 'C1o-', label = 'testing')\n",
        "plt.legend(frameon = True, loc = 'bottom right')\n",
        "plt.title('Decision Tree Classifier (steel - multi class)', size = 15)\n",
        "plt.xlabel('Training Size', size = 13)\n",
        "plt.ylabel('Accuracy', size = 13)"
      ],
      "execution_count": null,
      "outputs": [
        {
          "output_type": "display_data",
          "data": {
            "application/javascript": [
              "\n",
              "    async function download(id, filename, size) {\n",
              "      if (!google.colab.kernel.accessAllowed) {\n",
              "        return;\n",
              "      }\n",
              "      const div = document.createElement('div');\n",
              "      const label = document.createElement('label');\n",
              "      label.textContent = `Downloading \"${filename}\": `;\n",
              "      div.appendChild(label);\n",
              "      const progress = document.createElement('progress');\n",
              "      progress.max = size;\n",
              "      div.appendChild(progress);\n",
              "      document.body.appendChild(div);\n",
              "\n",
              "      const buffers = [];\n",
              "      let downloaded = 0;\n",
              "\n",
              "      const channel = await google.colab.kernel.comms.open(id);\n",
              "      // Send a message to notify the kernel that we're ready.\n",
              "      channel.send({})\n",
              "\n",
              "      for await (const message of channel.messages) {\n",
              "        // Send a message to notify the kernel that we're ready.\n",
              "        channel.send({})\n",
              "        if (message.buffers) {\n",
              "          for (const buffer of message.buffers) {\n",
              "            buffers.push(buffer);\n",
              "            downloaded += buffer.byteLength;\n",
              "            progress.value = downloaded;\n",
              "          }\n",
              "        }\n",
              "      }\n",
              "      const blob = new Blob(buffers, {type: 'application/binary'});\n",
              "      const a = document.createElement('a');\n",
              "      a.href = window.URL.createObjectURL(blob);\n",
              "      a.download = filename;\n",
              "      div.appendChild(a);\n",
              "      a.click();\n",
              "      div.remove();\n",
              "    }\n",
              "  "
            ],
            "text/plain": [
              "<IPython.core.display.Javascript object>"
            ]
          },
          "metadata": {
            "tags": []
          }
        },
        {
          "output_type": "display_data",
          "data": {
            "application/javascript": [
              "download(\"download_145608ad-734a-4441-a2ae-3b3d7b8c1678\", \"FS_DT_steel-mul.png\", 24904)"
            ],
            "text/plain": [
              "<IPython.core.display.Javascript object>"
            ]
          },
          "metadata": {
            "tags": []
          }
        },
        {
          "output_type": "display_data",
          "data": {
            "image/png": "[encoded data removed]",
            "text/plain": [
              "<Figure size 432x288 with 1 Axes>"
            ]
          },
          "metadata": {
            "tags": [],
            "needs_background": "light"
          }
        }
      ]
    },
    {
      "cell_type": "markdown",
      "metadata": {
        "id": "Tjsmn-ueFcMD",
        "colab_type": "text"
      },
      "source": [
        "#### 2-2.3 Multi-Layer Perceptrons (binary)"
      ]
    },
    {
      "cell_type": "code",
      "metadata": {
        "id": "Of1t4_OwFj1T",
        "colab_type": "code",
        "colab": {
          "base_uri": "https://localhost:8080/",
          "height": 34
        },
        "outputId": "5581658a-c995-4714-ba1b-fd7595371dc7"
      },
      "source": [
        "# Get Features & Target variables\n",
        "features_columns = steel_bin.columns[:-1] # exclude 'Class'\n",
        "X = steel_bin[features_columns] # Features\n",
        "y = steel_bin['Class'] # Target\n",
        "\n",
        "# feature selection - Univariate F-test Feature selection\n",
        "X_new = SelectKBest(f_classif, k = 12).fit_transform(X, y)\n",
        "print(X_new.shape)"
      ],
      "execution_count": null,
      "outputs": [
        {
          "output_type": "stream",
          "text": [
            "(1941, 12)\n"
          ],
          "name": "stdout"
        }
      ]
    },
    {
      "cell_type": "code",
      "metadata": {
        "id": "GTO4Px7ic5TN",
        "colab_type": "code",
        "colab": {
          "base_uri": "https://localhost:8080/",
          "height": 297
        },
        "outputId": "ac5bb428-e564-49bb-b83d-6417e3e750bc"
      },
      "source": [
        "training_sizes = [0.1, 0.2, 0.3, 0.4, 0.5, 0.6, 0.7, 0.8, 0.9]\n",
        "MLP_AUC_train = []\n",
        "MLP_AUC_test = []\n",
        "\n",
        "for i in training_sizes:\n",
        "  # looping through different training size\n",
        "  X_train, X_test, y_train, y_test = train_test_split(X_new, y, \n",
        "                                                      train_size = i,\n",
        "                                                      random_state = 1)\n",
        "  # fit Multi-Layer Perceptrons \n",
        "  clf = MLPClassifier(activation = 'logistic', \n",
        "                    solver = 'adam',\n",
        "                    alpha = 1e-5,\n",
        "                    max_iter = 1000,  \n",
        "                    hidden_layer_sizes = (15, 10),\n",
        "                    random_state = 1,\n",
        "                    learning_rate_init = 0.5)\n",
        "  clf = clf.fit(X_train, y_train)\n",
        "  y_pred = clf.predict(X_test)\n",
        "  # calculate the mean of AUC score by 10-fold CV\n",
        "  train_scores = cross_val_score(clf, X_train, y_train, cv = 10, \n",
        "                                 scoring = 'roc_auc').mean()\n",
        "  test_scores = cross_val_score(clf, X_test, y_test, cv = 10, \n",
        "                                scoring = 'roc_auc').mean()\n",
        "  MLP_AUC_train.append(train_scores)\n",
        "  MLP_AUC_test.append(test_scores)\n",
        "\n",
        "# plotting\n",
        "plt.figure(figsize=(6, 4))\n",
        "plt.plot(training_sizes, MLP_AUC_train, 'c^-', label = 'training')\n",
        "plt.plot(training_sizes, MLP_AUC_test, 'C1o-', label = 'testing')\n",
        "plt.legend(frameon = True, loc = 'bottom left')\n",
        "plt.title('Multi-Layer Perceptrons (steel - binary class)', size = 15)\n",
        "plt.xlabel('Training Size', size = 13)\n",
        "plt.ylabel('AUC Score', size = 13)"
      ],
      "execution_count": null,
      "outputs": [
        {
          "output_type": "display_data",
          "data": {
            "application/javascript": [
              "\n",
              "    async function download(id, filename, size) {\n",
              "      if (!google.colab.kernel.accessAllowed) {\n",
              "        return;\n",
              "      }\n",
              "      const div = document.createElement('div');\n",
              "      const label = document.createElement('label');\n",
              "      label.textContent = `Downloading \"${filename}\": `;\n",
              "      div.appendChild(label);\n",
              "      const progress = document.createElement('progress');\n",
              "      progress.max = size;\n",
              "      div.appendChild(progress);\n",
              "      document.body.appendChild(div);\n",
              "\n",
              "      const buffers = [];\n",
              "      let downloaded = 0;\n",
              "\n",
              "      const channel = await google.colab.kernel.comms.open(id);\n",
              "      // Send a message to notify the kernel that we're ready.\n",
              "      channel.send({})\n",
              "\n",
              "      for await (const message of channel.messages) {\n",
              "        // Send a message to notify the kernel that we're ready.\n",
              "        channel.send({})\n",
              "        if (message.buffers) {\n",
              "          for (const buffer of message.buffers) {\n",
              "            buffers.push(buffer);\n",
              "            downloaded += buffer.byteLength;\n",
              "            progress.value = downloaded;\n",
              "          }\n",
              "        }\n",
              "      }\n",
              "      const blob = new Blob(buffers, {type: 'application/binary'});\n",
              "      const a = document.createElement('a');\n",
              "      a.href = window.URL.createObjectURL(blob);\n",
              "      a.download = filename;\n",
              "      div.appendChild(a);\n",
              "      a.click();\n",
              "      div.remove();\n",
              "    }\n",
              "  "
            ],
            "text/plain": [
              "<IPython.core.display.Javascript object>"
            ]
          },
          "metadata": {
            "tags": []
          }
        },
        {
          "output_type": "display_data",
          "data": {
            "application/javascript": [
              "download(\"download_8cbd490a-fcf8-4a25-b874-8fc0aaf45445\", \"FS_MLP_steel-bin.png\", 27470)"
            ],
            "text/plain": [
              "<IPython.core.display.Javascript object>"
            ]
          },
          "metadata": {
            "tags": []
          }
        },
        {
          "output_type": "display_data",
          "data": {
            "image/png": "[encoded data removed]",
            "text/plain": [
              "<Figure size 432x288 with 1 Axes>"
            ]
          },
          "metadata": {
            "tags": [],
            "needs_background": "light"
          }
        }
      ]
    },
    {
      "cell_type": "markdown",
      "metadata": {
        "id": "pD18uG9MFTd4",
        "colab_type": "text"
      },
      "source": [
        "#### 2-2.4 Multi-Layer Perceptrons (multi-class)    "
      ]
    },
    {
      "cell_type": "code",
      "metadata": {
        "id": "pGS9sIyUFawY",
        "colab_type": "code",
        "colab": {
          "base_uri": "https://localhost:8080/",
          "height": 34
        },
        "outputId": "b6611a3a-ad20-4f46-d5dc-45b6023c6189"
      },
      "source": [
        "# Get Features & Target variables\n",
        "features_columns = steel_mul.columns[:-1] # exclude 'Class'\n",
        "X = steel_mul[features_columns] # Features\n",
        "y = steel_mul['multi_class'] # Target\n",
        "\n",
        "# feature selection - Univariate F-test Feature selection\n",
        "X_new = SelectKBest(f_classif, k = 10).fit_transform(X, y)\n",
        "print(X_new.shape)"
      ],
      "execution_count": null,
      "outputs": [
        {
          "output_type": "stream",
          "text": [
            "(1941, 10)\n"
          ],
          "name": "stdout"
        }
      ]
    },
    {
      "cell_type": "code",
      "metadata": {
        "id": "liKL292gd8kw",
        "colab_type": "code",
        "colab": {
          "base_uri": "https://localhost:8080/",
          "height": 297
        },
        "outputId": "5b86d759-1565-4cd7-b70c-87b18e2236b2"
      },
      "source": [
        "training_sizes = [0.1, 0.2, 0.3, 0.4, 0.5, 0.6, 0.7, 0.8, 0.9]\n",
        "MLP_AUC_train = []\n",
        "MLP_AUC_test = []\n",
        "\n",
        "for i in training_sizes:\n",
        "  # looping through different training size\n",
        "  X_train, X_test, y_train, y_test = train_test_split(X_new, y, \n",
        "                                                      train_size = i,\n",
        "                                                      random_state = 1)\n",
        "  # fit Multi-Layer Perceptrons \n",
        "  clf = MLPClassifier(activation = 'logistic', \n",
        "                    solver = 'adam',\n",
        "                    alpha = 1e-5,\n",
        "                    max_iter = 1000,  \n",
        "                    hidden_layer_sizes = (15, 10),\n",
        "                    random_state = 1,\n",
        "                    learning_rate_init = 0.5)\n",
        "  clf = clf.fit(X_train, y_train)\n",
        "  y_pred = clf.predict(X_test)\n",
        "  # calculate the mean of AUC score by 10-fold CV\n",
        "  train_scores = cross_val_score(clf, X_train, y_train, cv = 10, \n",
        "                                 scoring = 'accuracy').mean()\n",
        "  test_scores = cross_val_score(clf, X_test, y_test, cv = 10, \n",
        "                                scoring = 'accuracy').mean()\n",
        "  MLP_AUC_train.append(train_scores)\n",
        "  MLP_AUC_test.append(test_scores)\n",
        "\n",
        "# plotting\n",
        "plt.figure(figsize=(6, 4))\n",
        "plt.plot(training_sizes, DT_AUC_train, 'c^-', label = 'training')\n",
        "plt.plot(training_sizes, DT_AUC_test, 'C1o-', label = 'testing')\n",
        "plt.legend(frameon = True, loc = 'bottom right')\n",
        "plt.title('Multi-Layer Perceptrons (steel - multi class)', size = 15)\n",
        "plt.xlabel('Training Size', size = 13)\n",
        "plt.ylabel('Accuracy', size = 13)"
      ],
      "execution_count": null,
      "outputs": [
        {
          "output_type": "display_data",
          "data": {
            "application/javascript": [
              "\n",
              "    async function download(id, filename, size) {\n",
              "      if (!google.colab.kernel.accessAllowed) {\n",
              "        return;\n",
              "      }\n",
              "      const div = document.createElement('div');\n",
              "      const label = document.createElement('label');\n",
              "      label.textContent = `Downloading \"${filename}\": `;\n",
              "      div.appendChild(label);\n",
              "      const progress = document.createElement('progress');\n",
              "      progress.max = size;\n",
              "      div.appendChild(progress);\n",
              "      document.body.appendChild(div);\n",
              "\n",
              "      const buffers = [];\n",
              "      let downloaded = 0;\n",
              "\n",
              "      const channel = await google.colab.kernel.comms.open(id);\n",
              "      // Send a message to notify the kernel that we're ready.\n",
              "      channel.send({})\n",
              "\n",
              "      for await (const message of channel.messages) {\n",
              "        // Send a message to notify the kernel that we're ready.\n",
              "        channel.send({})\n",
              "        if (message.buffers) {\n",
              "          for (const buffer of message.buffers) {\n",
              "            buffers.push(buffer);\n",
              "            downloaded += buffer.byteLength;\n",
              "            progress.value = downloaded;\n",
              "          }\n",
              "        }\n",
              "      }\n",
              "      const blob = new Blob(buffers, {type: 'application/binary'});\n",
              "      const a = document.createElement('a');\n",
              "      a.href = window.URL.createObjectURL(blob);\n",
              "      a.download = filename;\n",
              "      div.appendChild(a);\n",
              "      a.click();\n",
              "      div.remove();\n",
              "    }\n",
              "  "
            ],
            "text/plain": [
              "<IPython.core.display.Javascript object>"
            ]
          },
          "metadata": {
            "tags": []
          }
        },
        {
          "output_type": "display_data",
          "data": {
            "application/javascript": [
              "download(\"download_967b800b-bb62-4dd8-9873-34bae1bdaf8b\", \"FS_MLP_steel-mul.png\", 24661)"
            ],
            "text/plain": [
              "<IPython.core.display.Javascript object>"
            ]
          },
          "metadata": {
            "tags": []
          }
        },
        {
          "output_type": "display_data",
          "data": {
            "image/png": "[encoded data removed]",
            "text/plain": [
              "<Figure size 432x288 with 1 Axes>"
            ]
          },
          "metadata": {
            "tags": [],
            "needs_background": "light"
          }
        }
      ]
    },
    {
      "cell_type": "markdown",
      "metadata": {
        "id": "t6aHgsdXgTSO",
        "colab_type": "text"
      },
      "source": [
        "## 3) Are either of your datasets imbalanced?  \n",
        "- The ozone data is the most imbalance"
      ]
    },
    {
      "cell_type": "code",
      "metadata": {
        "id": "hStlHs0UeNBH",
        "colab_type": "code",
        "colab": {
          "base_uri": "https://localhost:8080/",
          "height": 340
        },
        "outputId": "699765d9-340c-448e-f288-00feb886f88d"
      },
      "source": [
        "# view the frequency between binary classes steel plates data\n",
        "print('binary steel: ')\n",
        "print(steel_bin.Class.value_counts())\n",
        "print(' - - - - - - - ')\n",
        "# view the frequency between multiple classes steel plates data\n",
        "print('multi-class steel: ')\n",
        "print(steel_mul.multi_class.value_counts())\n",
        "print(' - - - - - - - ')\n",
        "# view the frequency between ozone data\n",
        "print('ozone: ')\n",
        "print(ozone.Class.value_counts()) "
      ],
      "execution_count": null,
      "outputs": [
        {
          "output_type": "stream",
          "text": [
            "binary steel: \n",
            "1    1268\n",
            "2     673\n",
            "Name: Class, dtype: int64\n",
            " - - - - - - - \n",
            "multi-class steel: \n",
            "7    673\n",
            "6    402\n",
            "3    391\n",
            "2    190\n",
            "1    158\n",
            "4     72\n",
            "5     55\n",
            "Name: multi_class, dtype: int64\n",
            " - - - - - - - \n",
            "ozone: \n",
            "1    2374\n",
            "2     160\n",
            "Name: Class, dtype: int64\n"
          ],
          "name": "stdout"
        }
      ]
    },
    {
      "cell_type": "markdown",
      "metadata": {
        "id": "Ln4XAjX59_DF",
        "colab_type": "text"
      },
      "source": [
        "### 3-1 Do Nothing  \n",
        "- The ROC AUC is 0.813."
      ]
    },
    {
      "cell_type": "code",
      "metadata": {
        "id": "1yWutd0v9937",
        "colab_type": "code",
        "colab": {
          "base_uri": "https://localhost:8080/",
          "height": 131
        },
        "outputId": "12b873a3-0186-4a8e-f0e2-69c72388f485"
      },
      "source": [
        "features_columns = ozone.columns[:-1] # exclude 'Class'\n",
        "X = ozone[features_columns] # Features\n",
        "y = ozone['Class'] # Target\n",
        "\n",
        "# feature selection - Univariate F-test Feature selection\n",
        "X_new = SelectKBest(f_classif, k = 24).fit_transform(X, y)\n",
        "\n",
        "# training size = 70%\n",
        "X_train, X_test, y_train, y_test = train_test_split(X_new, y, \n",
        "                                                      train_size = 0.7,\n",
        "                                                      random_state = 1)\n",
        "# fit DecisionTree \n",
        "clf = DecisionTreeClassifier(criterion = 'entropy', min_samples_split = 50)\n",
        "clf = clf.fit(X_train, y_train)\n",
        "y_pred = clf.predict(X_test)\n",
        "\n",
        "\n",
        "names = ['roc_auc', 'f1', 'precision', 'recall']\n",
        "scores = []\n",
        "for el in names:\n",
        "  scores.append(cross_val_score(clf, X_test, y_test, cv = 10, \n",
        "                      scoring = el).mean())\n",
        "\n",
        "#Specificity = tn / (fp + tn); Sensitivity = tp / (tp + fn)\n",
        "# G-Mean = sqrt(Sensitivity * Specificity)\n",
        "tp, fp, fn, tn = confusion_matrix(y_test, y_pred).ravel()\n",
        "gmean = math.sqrt((tn / (fp + tn)) * (tp / (tp + fn)))\n",
        "\n",
        "names.append('G-mean')\n",
        "scores.append(gmean)\n",
        "\n",
        "print(\"confusion matrix:\")\n",
        "print(confusion_matrix(y_test, y_pred))\n",
        "\n",
        "output_table = pd.DataFrame([scores], columns = names)\n",
        "output_table"
      ],
      "execution_count": 20,
      "outputs": [
        {
          "output_type": "stream",
          "text": [
            "confusion matrix:\n",
            "[[684  29]\n",
            " [ 39   9]]\n"
          ],
          "name": "stdout"
        },
        {
          "output_type": "execute_result",
          "data": {
            "text/html": [
              "<div>\n",
              "<style scoped>\n",
              "    .dataframe tbody tr th:only-of-type {\n",
              "        vertical-align: middle;\n",
              "    }\n",
              "\n",
              "    .dataframe tbody tr th {\n",
              "        vertical-align: top;\n",
              "    }\n",
              "\n",
              "    .dataframe thead th {\n",
              "        text-align: right;\n",
              "    }\n",
              "</style>\n",
              "<table border=\"1\" class=\"dataframe\">\n",
              "  <thead>\n",
              "    <tr style=\"text-align: right;\">\n",
              "      <th></th>\n",
              "      <th>roc_auc</th>\n",
              "      <th>f1</th>\n",
              "      <th>precision</th>\n",
              "      <th>recall</th>\n",
              "      <th>G-mean</th>\n",
              "    </tr>\n",
              "  </thead>\n",
              "  <tbody>\n",
              "    <tr>\n",
              "      <th>0</th>\n",
              "      <td>0.813842</td>\n",
              "      <td>0.963642</td>\n",
              "      <td>0.942411</td>\n",
              "      <td>0.987363</td>\n",
              "      <td>0.473357</td>\n",
              "    </tr>\n",
              "  </tbody>\n",
              "</table>\n",
              "</div>"
            ],
            "text/plain": [
              "    roc_auc        f1  precision    recall    G-mean\n",
              "0  0.813842  0.963642   0.942411  0.987363  0.473357"
            ]
          },
          "metadata": {
            "tags": []
          },
          "execution_count": 20
        }
      ]
    },
    {
      "cell_type": "markdown",
      "metadata": {
        "id": "yBCLN2BLM7Zx",
        "colab_type": "text"
      },
      "source": [
        "### 3-2 Random Oversampling  \n",
        "- Random oversampling is known to increase the likelihood of occurring overfitting. On the other hand, the major drawback of Random undersampling is that this method can discard useful data.  \n",
        "-  In order to create a synthetic instance, SMOTE finds the K-nearest neighbors of each minority instance, randomly selects one of them, and then calculate linear interpolations to produce a new minority instance in the neighborhood.  \n",
        "- Running the example evaluates the model and reports the mean ROC AUC score across the multiple folds and repeats.  \n",
        "- We can see a modest improvement in performance from a ROC AUC of about 0.81 to about 0.82."
      ]
    },
    {
      "cell_type": "code",
      "metadata": {
        "id": "Gnbtm7B6W481",
        "colab_type": "code",
        "colab": {
          "base_uri": "https://localhost:8080/",
          "height": 80
        },
        "outputId": "e7acf008-49d4-4f47-da34-e8a5ae608c02"
      },
      "source": [
        "# get a data\n",
        "features_columns = ozone.columns[:-1]\n",
        "X = ozone[features_columns]\n",
        "y = ozone['Class'] \n",
        "\n",
        "# define dataset\n",
        "X, y = make_classification(n_samples=10000, n_features=2, n_redundant=0,\n",
        "\tn_clusters_per_class=1, weights=[0.99], flip_y=0, random_state=1)\n",
        "\n",
        "# define pipeline\n",
        "steps = [('over', SMOTE()), ('model', DecisionTreeClassifier())]\n",
        "pipeline = Pipeline(steps=steps)\n",
        "\n",
        "# evaluate pipeline\n",
        "names = ['roc_auc', 'f1', 'precision', 'recall']\n",
        "scores = []\n",
        "for el in names:\n",
        "  cv = RepeatedStratifiedKFold(n_splits=10, n_repeats=3, random_state=1)\n",
        "  scores.append(cross_val_score(pipeline, X, y, cv = cv, n_jobs=-1, \n",
        "                                scoring = el).mean())\n",
        "\n",
        "output_table = pd.DataFrame([scores], columns = names)\n",
        "output_table"
      ],
      "execution_count": 31,
      "outputs": [
        {
          "output_type": "execute_result",
          "data": {
            "text/html": [
              "<div>\n",
              "<style scoped>\n",
              "    .dataframe tbody tr th:only-of-type {\n",
              "        vertical-align: middle;\n",
              "    }\n",
              "\n",
              "    .dataframe tbody tr th {\n",
              "        vertical-align: top;\n",
              "    }\n",
              "\n",
              "    .dataframe thead th {\n",
              "        text-align: right;\n",
              "    }\n",
              "</style>\n",
              "<table border=\"1\" class=\"dataframe\">\n",
              "  <thead>\n",
              "    <tr style=\"text-align: right;\">\n",
              "      <th></th>\n",
              "      <th>roc_auc</th>\n",
              "      <th>f1</th>\n",
              "      <th>precision</th>\n",
              "      <th>recall</th>\n",
              "    </tr>\n",
              "  </thead>\n",
              "  <tbody>\n",
              "    <tr>\n",
              "      <th>0</th>\n",
              "      <td>0.815236</td>\n",
              "      <td>0.171875</td>\n",
              "      <td>0.097442</td>\n",
              "      <td>0.7</td>\n",
              "    </tr>\n",
              "  </tbody>\n",
              "</table>\n",
              "</div>"
            ],
            "text/plain": [
              "    roc_auc        f1  precision  recall\n",
              "0  0.815236  0.171875   0.097442     0.7"
            ]
          },
          "metadata": {
            "tags": []
          },
          "execution_count": 31
        }
      ]
    },
    {
      "cell_type": "markdown",
      "metadata": {
        "id": "QRcOivtmNKHj",
        "colab_type": "text"
      },
      "source": [
        "### 3-3 Random Undersampling  \n",
        "- Running the example evaluates the model with the pipeline of SMOTE oversampling and random undersampling on the training dataset.  \n",
        "- In this case, we can see that the reported ROC AUC shows an additional lift to about 0.83."
      ]
    },
    {
      "cell_type": "code",
      "metadata": {
        "id": "UhhPTJlxe961",
        "colab_type": "code",
        "colab": {
          "base_uri": "https://localhost:8080/",
          "height": 80
        },
        "outputId": "227b6e3a-381d-46ed-94cb-86b23381b620"
      },
      "source": [
        "# get a data\n",
        "features_columns = ozone.columns[:-1]\n",
        "X = ozone[features_columns]\n",
        "y = ozone['Class'] \n",
        "\n",
        "# define dataset\n",
        "X, y = make_classification(n_samples=10000, n_features=2, n_redundant=0,\n",
        "                           n_clusters_per_class=1, weights=[0.99], \n",
        "                           flip_y=0, random_state=1)\n",
        "\n",
        "# define pipeline\n",
        "model = DecisionTreeClassifier()\n",
        "over = SMOTE(sampling_strategy=0.1)\n",
        "under = RandomUnderSampler(sampling_strategy=0.5)\n",
        "steps = [('over', over), ('under', under), ('model', model)]\n",
        "pipeline = Pipeline(steps=steps)\n",
        "\n",
        "# evaluate pipeline\n",
        "names = ['roc_auc', 'f1', 'precision', 'recall']\n",
        "scores = []\n",
        "for el in names:\n",
        "  cv = RepeatedStratifiedKFold(n_splits=10, n_repeats=3, random_state=1)\n",
        "  scores.append(cross_val_score(pipeline, X, y, cv = cv, n_jobs=-1, \n",
        "                                scoring = el).mean())\n",
        "\n",
        "output_table = pd.DataFrame([scores], columns = names)\n",
        "output_table"
      ],
      "execution_count": 32,
      "outputs": [
        {
          "output_type": "execute_result",
          "data": {
            "text/html": [
              "<div>\n",
              "<style scoped>\n",
              "    .dataframe tbody tr th:only-of-type {\n",
              "        vertical-align: middle;\n",
              "    }\n",
              "\n",
              "    .dataframe tbody tr th {\n",
              "        vertical-align: top;\n",
              "    }\n",
              "\n",
              "    .dataframe thead th {\n",
              "        text-align: right;\n",
              "    }\n",
              "</style>\n",
              "<table border=\"1\" class=\"dataframe\">\n",
              "  <thead>\n",
              "    <tr style=\"text-align: right;\">\n",
              "      <th></th>\n",
              "      <th>roc_auc</th>\n",
              "      <th>f1</th>\n",
              "      <th>precision</th>\n",
              "      <th>recall</th>\n",
              "    </tr>\n",
              "  </thead>\n",
              "  <tbody>\n",
              "    <tr>\n",
              "      <th>0</th>\n",
              "      <td>0.83835</td>\n",
              "      <td>0.206534</td>\n",
              "      <td>0.118816</td>\n",
              "      <td>0.753333</td>\n",
              "    </tr>\n",
              "  </tbody>\n",
              "</table>\n",
              "</div>"
            ],
            "text/plain": [
              "   roc_auc        f1  precision    recall\n",
              "0  0.83835  0.206534   0.118816  0.753333"
            ]
          },
          "metadata": {
            "tags": []
          },
          "execution_count": 32
        }
      ]
    },
    {
      "cell_type": "markdown",
      "metadata": {
        "id": "hG8JGrX1NNkD",
        "colab_type": "text"
      },
      "source": [
        "### 3-4 SMOTE  \n",
        "- Reference  \n",
        "  https://www.kaggle.com/qianchao/smote-with-imbalance-data  \n",
        "  https://machinelearningmastery.com/smote-oversampling-for-imbalanced-classification/"
      ]
    },
    {
      "cell_type": "code",
      "metadata": {
        "id": "wJMwEtyDOwAw",
        "colab_type": "code",
        "cellView": "code",
        "colab": {}
      },
      "source": [
        "features_columns = ozone.columns[:-1] # exclude 'Class'\n",
        "X = ozone[features_columns] # Features\n",
        "y = ozone['Class'] # Target\n",
        "\n",
        "# training size = 70%\n",
        "X_train, X_test, y_train, y_test = train_test_split(X_new, y, \n",
        "                                                      train_size = 0.7,\n",
        "                                                      random_state = 1)"
      ],
      "execution_count": 33,
      "outputs": []
    },
    {
      "cell_type": "code",
      "metadata": {
        "id": "PyU2oNVwhj6U",
        "colab_type": "code",
        "colab": {
          "base_uri": "https://localhost:8080/",
          "height": 153
        },
        "outputId": "fdeb7f7b-1df1-42e8-f616-a816d3638183"
      },
      "source": [
        "print(\"Before OverSampling, counts of label '1': {}\".format(sum(y_train==1)))\n",
        "print(\"Before OverSampling, counts of label '2': {} \\n\".format(sum(y_train==2)))\n",
        "\n",
        "SM = SMOTE(random_state=2)\n",
        "X_train_res, y_train_res = SM.fit_sample(X_train, y_train.ravel())\n",
        "\n",
        "print('After OverSampling, shape of train_X: {}'.format(X_train_res.shape))\n",
        "print('After OverSampling, shape of train_y: {} \\n'.format(y_train_res.shape))\n",
        "\n",
        "print(\"After OverSampling, counts of label '1': {}\".format(sum(y_train_res==1)))\n",
        "print(\"After OverSampling, counts of label '2': {}\".format(sum(y_train_res==2)))"
      ],
      "execution_count": 34,
      "outputs": [
        {
          "output_type": "stream",
          "text": [
            "Before OverSampling, counts of label '1': 1661\n",
            "Before OverSampling, counts of label '2': 112 \n",
            "\n",
            "After OverSampling, shape of train_X: (3322, 24)\n",
            "After OverSampling, shape of train_y: (3322,) \n",
            "\n",
            "After OverSampling, counts of label '1': 1661\n",
            "After OverSampling, counts of label '2': 1661\n"
          ],
          "name": "stdout"
        }
      ]
    },
    {
      "cell_type": "code",
      "metadata": {
        "id": "-_T_KA-hR0Sr",
        "colab_type": "code",
        "colab": {
          "base_uri": "https://localhost:8080/",
          "height": 306
        },
        "outputId": "14837e5e-e346-4d22-c9a2-de32c442ac8e"
      },
      "source": [
        "parameters = {\n",
        "    'C': np.linspace(1, 10, 10)\n",
        "             }\n",
        "lr = LogisticRegression()\n",
        "clf = GridSearchCV(lr, parameters, cv=5, verbose=5, n_jobs=3)\n",
        "clf.fit(X_train_res, y_train_res.ravel())"
      ],
      "execution_count": 35,
      "outputs": [
        {
          "output_type": "stream",
          "text": [
            "Fitting 5 folds for each of 10 candidates, totalling 50 fits\n"
          ],
          "name": "stdout"
        },
        {
          "output_type": "stream",
          "text": [
            "[Parallel(n_jobs=3)]: Using backend LokyBackend with 3 concurrent workers.\n",
            "[Parallel(n_jobs=3)]: Done  18 tasks      | elapsed:    1.4s\n",
            "[Parallel(n_jobs=3)]: Done  50 out of  50 | elapsed:    3.0s finished\n"
          ],
          "name": "stderr"
        },
        {
          "output_type": "execute_result",
          "data": {
            "text/plain": [
              "GridSearchCV(cv=5, error_score=nan,\n",
              "             estimator=LogisticRegression(C=1.0, class_weight=None, dual=False,\n",
              "                                          fit_intercept=True,\n",
              "                                          intercept_scaling=1, l1_ratio=None,\n",
              "                                          max_iter=100, multi_class='auto',\n",
              "                                          n_jobs=None, penalty='l2',\n",
              "                                          random_state=None, solver='lbfgs',\n",
              "                                          tol=0.0001, verbose=0,\n",
              "                                          warm_start=False),\n",
              "             iid='deprecated', n_jobs=3,\n",
              "             param_grid={'C': array([ 1.,  2.,  3.,  4.,  5.,  6.,  7.,  8.,  9., 10.])},\n",
              "             pre_dispatch='2*n_jobs', refit=True, return_train_score=False,\n",
              "             scoring=None, verbose=5)"
            ]
          },
          "metadata": {
            "tags": []
          },
          "execution_count": 35
        }
      ]
    },
    {
      "cell_type": "code",
      "metadata": {
        "id": "TRWV80XPR0wj",
        "colab_type": "code",
        "colab": {
          "base_uri": "https://localhost:8080/",
          "height": 34
        },
        "outputId": "78a700fb-f67d-4c56-d071-65f80ffbf2a4"
      },
      "source": [
        "clf.best_params_"
      ],
      "execution_count": 36,
      "outputs": [
        {
          "output_type": "execute_result",
          "data": {
            "text/plain": [
              "{'C': 3.0}"
            ]
          },
          "metadata": {
            "tags": []
          },
          "execution_count": 36
        }
      ]
    },
    {
      "cell_type": "code",
      "metadata": {
        "id": "oplCDCgVPLB0",
        "colab_type": "code",
        "colab": {
          "base_uri": "https://localhost:8080/",
          "height": 153
        },
        "outputId": "ec5fcdaf-54f0-4487-bc01-06baa64641d1"
      },
      "source": [
        "lr1 = LogisticRegression(C=3,penalty='l2', verbose=5)\n",
        "lr1.fit(X_train_res, y_train_res.ravel())"
      ],
      "execution_count": 37,
      "outputs": [
        {
          "output_type": "stream",
          "text": [
            "[Parallel(n_jobs=1)]: Using backend SequentialBackend with 1 concurrent workers.\n",
            "[Parallel(n_jobs=1)]: Done   1 out of   1 | elapsed:    0.3s remaining:    0.0s\n",
            "[Parallel(n_jobs=1)]: Done   1 out of   1 | elapsed:    0.3s finished\n"
          ],
          "name": "stderr"
        },
        {
          "output_type": "execute_result",
          "data": {
            "text/plain": [
              "LogisticRegression(C=3, class_weight=None, dual=False, fit_intercept=True,\n",
              "                   intercept_scaling=1, l1_ratio=None, max_iter=100,\n",
              "                   multi_class='auto', n_jobs=None, penalty='l2',\n",
              "                   random_state=None, solver='lbfgs', tol=0.0001, verbose=5,\n",
              "                   warm_start=False)"
            ]
          },
          "metadata": {
            "tags": []
          },
          "execution_count": 37
        }
      ]
    },
    {
      "cell_type": "code",
      "metadata": {
        "id": "YIDOfpTgPRqY",
        "colab_type": "code",
        "colab": {}
      },
      "source": [
        "def plot_confusion_matrix(cm, classes,\n",
        "                          normalize=False,\n",
        "                          title='Confusion matrix',\n",
        "                          cmap=plt.cm.Blues):\n",
        "    \"\"\"\n",
        "    This function prints and plots the confusion matrix.\n",
        "    Normalization can be applied by setting `normalize=True`.\n",
        "    \"\"\"\n",
        "    plt.imshow(cm, interpolation='nearest', cmap=cmap)\n",
        "    plt.title(title)\n",
        "    plt.colorbar()\n",
        "    tick_marks = np.arange(len(classes))\n",
        "    \n",
        "    plt.xticks(tick_marks, classes, rotation=0)\n",
        "    plt.yticks(tick_marks, classes)\n",
        "\n",
        "    if normalize:\n",
        "        cm = cm.astype('float') / cm.sum(axis=1)[:, np.newaxis]\n",
        "        #print(\"Normalized confusion matrix\")\n",
        "    else:\n",
        "        1#print('Confusion matrix, without normalization')\n",
        "\n",
        "    #print(cm)\n",
        "\n",
        "    thresh = cm.max() / 2.\n",
        "    for i, j in itertools.product(range(cm.shape[0]), range(cm.shape[1])):\n",
        "        plt.text(j, i, cm[i, j],\n",
        "                 horizontalalignment=\"center\",\n",
        "                 color=\"white\" if cm[i, j] > thresh else \"black\")\n",
        "\n",
        "    plt.tight_layout()\n",
        "    plt.ylabel('True label')\n",
        "    plt.xlabel('Predicted label')"
      ],
      "execution_count": 39,
      "outputs": []
    },
    {
      "cell_type": "code",
      "metadata": {
        "id": "h1LxurWdQPIt",
        "colab_type": "code",
        "colab": {
          "base_uri": "https://localhost:8080/",
          "height": 328
        },
        "outputId": "3fe2542e-102e-4a25-a114-242f1d2806f7"
      },
      "source": [
        "y_train_pre = lr1.predict(X_train)\n",
        "\n",
        "cnf_matrix_tra = confusion_matrix(y_train, y_train_pre)\n",
        "\n",
        "print(\"Recall metric in the train dataset: {}%\".format(100*cnf_matrix_tra[1,1]/(cnf_matrix_tra[1,0]+cnf_matrix_tra[1,1])))\n",
        "\n",
        "\n",
        "class_names = [0,1]\n",
        "plt.figure()\n",
        "plot_confusion_matrix(cnf_matrix_tra , classes=class_names, title='Confusion matrix')\n",
        "plt.show()"
      ],
      "execution_count": 40,
      "outputs": [
        {
          "output_type": "stream",
          "text": [
            "Recall metric in the train dataset: 83.03571428571429%\n"
          ],
          "name": "stdout"
        },
        {
          "output_type": "display_data",
          "data": {
            "image/png": "[encoded data removed]",
            "text/plain": [
              "<Figure size 432x288 with 2 Axes>"
            ]
          },
          "metadata": {
            "tags": [],
            "needs_background": "light"
          }
        }
      ]
    },
    {
      "cell_type": "code",
      "metadata": {
        "id": "ekOf5Y7uQSs1",
        "colab_type": "code",
        "colab": {
          "base_uri": "https://localhost:8080/",
          "height": 328
        },
        "outputId": "ee0bfdbc-9af6-4f80-8add-7371a260814b"
      },
      "source": [
        "y_pre = lr1.predict(X_test)\n",
        "\n",
        "cnf_matrix = confusion_matrix(y_test, y_pre)\n",
        "\n",
        "print(\"Recall metric in the testing dataset: {}%\".format(100*cnf_matrix[1,1]/(cnf_matrix[1,0]+cnf_matrix[1,1])))\n",
        "\n",
        "class_names = [0,1]\n",
        "plt.figure()\n",
        "plot_confusion_matrix(cnf_matrix , classes=class_names, title='Confusion matrix')\n",
        "plt.show()"
      ],
      "execution_count": 41,
      "outputs": [
        {
          "output_type": "stream",
          "text": [
            "Recall metric in the testing dataset: 79.16666666666667%\n"
          ],
          "name": "stdout"
        },
        {
          "output_type": "display_data",
          "data": {
            "image/png": "[encoded data removed]",
            "text/plain": [
              "<Figure size 432x288 with 2 Axes>"
            ]
          },
          "metadata": {
            "tags": [],
            "needs_background": "light"
          }
        }
      ]
    },
    {
      "cell_type": "code",
      "metadata": {
        "id": "oWwZlvRWQYOM",
        "colab_type": "code",
        "colab": {
          "base_uri": "https://localhost:8080/",
          "height": 68
        },
        "outputId": "8875916c-06c6-4223-9cb4-c67c89ed238d"
      },
      "source": [
        "tmp = lr1.fit(X_train_res, y_train_res.ravel())"
      ],
      "execution_count": 42,
      "outputs": [
        {
          "output_type": "stream",
          "text": [
            "[Parallel(n_jobs=1)]: Using backend SequentialBackend with 1 concurrent workers.\n",
            "[Parallel(n_jobs=1)]: Done   1 out of   1 | elapsed:    0.3s remaining:    0.0s\n",
            "[Parallel(n_jobs=1)]: Done   1 out of   1 | elapsed:    0.3s finished\n"
          ],
          "name": "stderr"
        }
      ]
    },
    {
      "cell_type": "code",
      "metadata": {
        "id": "Jv3z9u86Q1Wx",
        "colab_type": "code",
        "colab": {
          "base_uri": "https://localhost:8080/",
          "height": 34
        },
        "outputId": "7326be81-74c6-4173-e13e-a9d550ea83e7"
      },
      "source": [
        "y_test = y_test.replace([1], 0)\n",
        "y_test = y_test.replace([2], 1)\n",
        "set(y_test)"
      ],
      "execution_count": 43,
      "outputs": [
        {
          "output_type": "execute_result",
          "data": {
            "text/plain": [
              "{0, 1}"
            ]
          },
          "metadata": {
            "tags": []
          },
          "execution_count": 43
        }
      ]
    },
    {
      "cell_type": "code",
      "metadata": {
        "id": "s7UmrhWJQddc",
        "colab_type": "code",
        "colab": {
          "base_uri": "https://localhost:8080/",
          "height": 295
        },
        "outputId": "73493790-c1bf-4801-eeb0-9c68e0f9342d"
      },
      "source": [
        "y_pred_sample_score = tmp.decision_function(X_test)\n",
        "\n",
        "\n",
        "fpr, tpr, thresholds = roc_curve(y_test, y_pred_sample_score)\n",
        "\n",
        "roc_auc = auc(fpr,tpr)\n",
        "\n",
        "# Plot ROC\n",
        "plt.title('Receiver Operating Characteristic')\n",
        "plt.plot(fpr, tpr, 'b',label='AUC = %0.3f'% roc_auc)\n",
        "plt.legend(loc='lower right')\n",
        "plt.plot([0,1],[0,1],'r--')\n",
        "plt.xlim([-0.1,1.0])\n",
        "plt.ylim([-0.1,1.01])\n",
        "plt.ylabel('True Positive Rate')\n",
        "plt.xlabel('False Positive Rate')\n",
        "plt.show() \n",
        "# auc = 0.861"
      ],
      "execution_count": 44,
      "outputs": [
        {
          "output_type": "display_data",
          "data": {
            "image/png": "[encoded data removed]",
            "text/plain": [
              "<Figure size 432x288 with 1 Axes>"
            ]
          },
          "metadata": {
            "tags": [],
            "needs_background": "light"
          }
        }
      ]
    },
    {
      "cell_type": "code",
      "metadata": {
        "id": "WC-40EHqQeTL",
        "colab_type": "code",
        "colab": {
          "base_uri": "https://localhost:8080/",
          "height": 153
        },
        "outputId": "ee235a7d-532f-4f14-abcb-ff5c15389e89"
      },
      "source": [
        "print('Confusion Matrix:')\n",
        "print(cnf_matrix)\n",
        "\n",
        "#Specificity = tn / (fp + tn); Sensitivity = tp / (tp + fn)\n",
        "# G-Mean = sqrt(Sensitivity * Specificity)\n",
        "[tp, fp], [fn, tn] = cnf_matrix\n",
        "gmean = math.sqrt((tn / (fp + tn)) * (tp / (tp + fn)))\n",
        "print('G-Mean:', gmean)\n",
        "print('ROC-AUC:', roc_auc)\n",
        "\n",
        "precision = tp / (tp + fp)\n",
        "recall = tp / (tp + fn)\n",
        "f1 = (precision + recall) * 0.5\n",
        "print('Precision:', precision,)\n",
        "print('Recall:', recall)\n",
        "print('F1:', f1)\n"
      ],
      "execution_count": 47,
      "outputs": [
        {
          "output_type": "stream",
          "text": [
            "Confusion Matrix:\n",
            "[[543 170]\n",
            " [ 10  38]]\n",
            "G-Mean: 0.423542972229924\n",
            "ROC-AUC: 0.8613546049555867\n",
            "Precision: 0.761570827489481\n",
            "Recall: 0.9819168173598554\n",
            "F1: 0.8717438224246682\n"
          ],
          "name": "stdout"
        }
      ]
    }
  ]
}
