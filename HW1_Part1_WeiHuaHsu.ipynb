{
  "nbformat": 4,
  "nbformat_minor": 0,
  "metadata": {
    "colab": {
      "name": "HW1_Part1_WeiHuaHsu.ipynb",
      "provenance": [],
      "collapsed_sections": [],
      "toc_visible": true,
      "authorship_tag": "ABX9TyNrLUfvZGzAOPwwZVugoURc",
      "include_colab_link": true
    },
    "kernelspec": {
      "name": "python3",
      "display_name": "Python 3"
    }
  },
  "cells": [
    {
      "cell_type": "markdown",
      "metadata": {
        "id": "view-in-github",
        "colab_type": "text"
      },
      "source": [
        "<a href=\"https://colab.research.google.com/github/wafer110/Python-DataMining-MachineLearning/blob/master/HW1_Part1_WeiHuaHsu.ipynb\" target=\"_parent\"><img src=\"https://colab.research.google.com/assets/colab-badge.svg\" alt=\"Open In Colab\"/></a>"
      ]
    },
    {
      "cell_type": "markdown",
      "metadata": {
        "id": "nSQpJ2d1bvx9",
        "colab_type": "text"
      },
      "source": [
        "## Load Packages"
      ]
    },
    {
      "cell_type": "code",
      "metadata": {
        "id": "sPgO17-ouA92",
        "colab_type": "code",
        "colab": {}
      },
      "source": [
        "import pandas as pd\n",
        "import numpy as np\n",
        "import matplotlib.pylab as plt\n",
        "from google.colab import files # save plots\n",
        "# plt.tight_layout()\n",
        "# plt.savefig('graph_name.png'); files.download('graph_name.png')\n",
        "import warnings; warnings.filterwarnings(\"ignore\")\n",
        "# Machine Learning Algorithms\n",
        "from sklearn.model_selection import train_test_split # Split to train/test data\n",
        "from sklearn.tree import DecisionTreeClassifier # Decision Tree Classifier\n",
        "from sklearn.neural_network import MLPClassifier # Multi-Layer Perceptrons\n",
        "from sklearn.model_selection import cross_val_score # Accuracy & AUC score\n",
        "from sklearn.feature_selection import SelectKBest # Univariate F-test FS\n",
        "from sklearn.feature_selection import f_classif\n",
        "from sklearn.ensemble import ExtraTreesClassifier # Tree-based Feature Selection\n",
        "from sklearn.feature_selection import SelectFromModel"
      ],
      "execution_count": 163,
      "outputs": []
    },
    {
      "cell_type": "markdown",
      "metadata": {
        "id": "TsLlZQEe0co3",
        "colab_type": "text"
      },
      "source": [
        "## Read Datasets"
      ]
    },
    {
      "cell_type": "code",
      "metadata": {
        "id": "l5Cav3Of0cF6",
        "colab_type": "code",
        "colab": {}
      },
      "source": [
        "ozone_url = 'https://raw.githubusercontent.com/wafer110/Python-DataMining-MachineLearning/master/HW1/ozone-level.csv'\n",
        "ozone = pd.read_csv(ozone_url)\n",
        "\n",
        "steel_url = 'https://raw.githubusercontent.com/wafer110/Python-DataMining-MachineLearning/master/HW1/steel-plates.csv'\n",
        "steel = pd.read_csv(steel_url)"
      ],
      "execution_count": 164,
      "outputs": []
    },
    {
      "cell_type": "markdown",
      "metadata": {
        "id": "BBc-41c7v2UK",
        "colab_type": "text"
      },
      "source": [
        "### Data Manipulation - steel-plates  \n",
        "Get the subset data for both multi-class & binary class problem."
      ]
    },
    {
      "cell_type": "markdown",
      "metadata": {
        "id": "teKpyBkfcY4e",
        "colab_type": "text"
      },
      "source": [
        "  - Multi-Class: Set class as 7 types of faults   \n",
        "    1 = Pastry;     \n",
        "    2 = Z_Scratch;   \n",
        "    3 = K_Scatch;  \n",
        "    4 = Stains;  \n",
        "    5 = Dirtiness;  \n",
        "    6 = Bumps;  \n",
        "    7 = Other_Faults"
      ]
    },
    {
      "cell_type": "code",
      "metadata": {
        "id": "QcTmfeaJ7avy",
        "colab_type": "code",
        "colab": {}
      },
      "source": [
        "# replace the class entries 1 as different class 1-7\n",
        "steel['V29'] = steel['V29'].replace([1], 2)\n",
        "steel['V30'] = steel['V30'].replace([1], 3)\n",
        "steel['V31'] = steel['V31'].replace([1], 4)\n",
        "steel['V32'] = steel['V32'].replace([1], 5)\n",
        "steel['V33'] = steel['V33'].replace([1], 6)\n",
        "steel['V34'] = steel['Class'].replace([1,2], [0,7])\n",
        "# create a new column 'multi-class'\n",
        "steel['multi_class'] = steel['V28']\n",
        "# store multi-class variables into the new column\n",
        "steel['multi_class'][158:348]   = 2\n",
        "steel['multi_class'][348:739]   = 3\n",
        "steel['multi_class'][739:811]   = 4\n",
        "steel['multi_class'][811:866]   = 5\n",
        "steel['multi_class'][866:1268]  = 6\n",
        "steel['multi_class'][1268:1941] = 7\n",
        "\n",
        "# save to a new subset: 'steel_mul'\n",
        "steel_data = steel.iloc[:, 0:27]\n",
        "steel_mul = pd.concat([steel_data, steel.multi_class], axis = 1)"
      ],
      "execution_count": 165,
      "outputs": []
    },
    {
      "cell_type": "markdown",
      "metadata": {
        "id": "SuwWVh0_xkzT",
        "colab_type": "text"
      },
      "source": [
        "  - Binary Class: Set class as a binary problem  \n",
        "    1 = Common; \n",
        "    2 = Other Fault"
      ]
    },
    {
      "cell_type": "code",
      "metadata": {
        "id": "VpzuxGvbtOyx",
        "colab_type": "code",
        "colab": {}
      },
      "source": [
        "# save to a new subset: 'steel_bin'\n",
        "steel_bin = pd.concat([steel_data, steel.Class], axis = 1)"
      ],
      "execution_count": 166,
      "outputs": []
    },
    {
      "cell_type": "markdown",
      "metadata": {
        "id": "7X_d0uRl7XLO",
        "colab_type": "text"
      },
      "source": [
        "# Part I\n",
        "\n",
        "1. At which points (in terms of training set-size and classifier) do we observe overfitting in each data set?  \n",
        "2. Can overfitting be overcome by feature selection?  \n",
        "3. Are either of your datasets imbalanced? Select the most imbalanced one and show the results obtained using the following four methods on the full data set:  \n",
        "    - Do nothing  \n",
        "    - Randomly oversample the minority class  \n",
        "    - Randomly undersample the minority class  \n",
        "    - Use SMOTE to oversample the minority class.  "
      ]
    },
    {
      "cell_type": "markdown",
      "metadata": {
        "id": "D6kBmvyhvdy9",
        "colab_type": "text"
      },
      "source": [
        "## 1) At which points (in terms of training set-size and classifier) do we observe overfitting in each data set?"
      ]
    },
    {
      "cell_type": "markdown",
      "metadata": {
        "id": "4GZWvMx9esSl",
        "colab_type": "text"
      },
      "source": [
        "### 1-1 ozone data"
      ]
    },
    {
      "cell_type": "markdown",
      "metadata": {
        "id": "HoxNsRQ5_cHS",
        "colab_type": "text"
      },
      "source": [
        "#### 1-1.1 Decision Tree"
      ]
    },
    {
      "cell_type": "code",
      "metadata": {
        "id": "HZ1M5j6y_YJg",
        "colab_type": "code",
        "colab": {
          "base_uri": "https://localhost:8080/",
          "height": 297
        },
        "outputId": "6fe7aa4b-3dc6-4932-c0eb-99507b929aab"
      },
      "source": [
        "# Get Features & Target variables\n",
        "features_columns = ozone.columns[:-1] # exclude 'Class'\n",
        "X = ozone[features_columns] # Features\n",
        "y = ozone['Class'] # Target\n",
        "\n",
        "training_sizes = [0.1, 0.2, 0.3, 0.4, 0.5, 0.6, 0.7, 0.8, 0.9]\n",
        "DT_AUC_train = []\n",
        "DT_AUC_test = []\n",
        "\n",
        "for i in training_sizes:\n",
        "  # looping through different training size\n",
        "  X_train, X_test, y_train, y_test = train_test_split(X, y, \n",
        "                                                      train_size = i,\n",
        "                                                      random_state = 1)\n",
        "  # fit DecisionTree \n",
        "  clf = DecisionTreeClassifier(criterion = 'entropy', min_samples_split = 50)\n",
        "  clf = clf.fit(X_train, y_train)\n",
        "  y_pred = clf.predict(X_test)\n",
        "  # calculate the mean of AUC score by 10-fold CV\n",
        "  train_scores = cross_val_score(clf, X_train, y_train, cv = 10, scoring = 'roc_auc').mean()\n",
        "  test_scores = cross_val_score(clf, X_test, y_test, cv = 10, scoring = 'roc_auc').mean()\n",
        "  DT_AUC_train.append(train_scores)\n",
        "  DT_AUC_test.append(test_scores)\n",
        "\n",
        "# plotting\n",
        "plt.figure(figsize=(6, 4))\n",
        "plt.plot(training_sizes, DT_AUC_train, 'c^-', label = 'training')\n",
        "plt.plot(training_sizes, DT_AUC_test, 'C1o-', label = 'testing')\n",
        "plt.legend(frameon = True, loc = 'bottom right')\n",
        "plt.title('Decision Tree (ozone)', size = 15)\n",
        "plt.xlabel('Training Size', size = 13)\n",
        "plt.ylabel('AUC Score', size = 13)"
      ],
      "execution_count": 176,
      "outputs": [
        {
          "output_type": "display_data",
          "data": {
            "application/javascript": [
              "\n",
              "    async function download(id, filename, size) {\n",
              "      if (!google.colab.kernel.accessAllowed) {\n",
              "        return;\n",
              "      }\n",
              "      const div = document.createElement('div');\n",
              "      const label = document.createElement('label');\n",
              "      label.textContent = `Downloading \"${filename}\": `;\n",
              "      div.appendChild(label);\n",
              "      const progress = document.createElement('progress');\n",
              "      progress.max = size;\n",
              "      div.appendChild(progress);\n",
              "      document.body.appendChild(div);\n",
              "\n",
              "      const buffers = [];\n",
              "      let downloaded = 0;\n",
              "\n",
              "      const channel = await google.colab.kernel.comms.open(id);\n",
              "      // Send a message to notify the kernel that we're ready.\n",
              "      channel.send({})\n",
              "\n",
              "      for await (const message of channel.messages) {\n",
              "        // Send a message to notify the kernel that we're ready.\n",
              "        channel.send({})\n",
              "        if (message.buffers) {\n",
              "          for (const buffer of message.buffers) {\n",
              "            buffers.push(buffer);\n",
              "            downloaded += buffer.byteLength;\n",
              "            progress.value = downloaded;\n",
              "          }\n",
              "        }\n",
              "      }\n",
              "      const blob = new Blob(buffers, {type: 'application/binary'});\n",
              "      const a = document.createElement('a');\n",
              "      a.href = window.URL.createObjectURL(blob);\n",
              "      a.download = filename;\n",
              "      div.appendChild(a);\n",
              "      a.click();\n",
              "      div.remove();\n",
              "    }\n",
              "  "
            ],
            "text/plain": [
              "<IPython.core.display.Javascript object>"
            ]
          },
          "metadata": {
            "tags": []
          }
        },
        {
          "output_type": "display_data",
          "data": {
            "application/javascript": [
              "download(\"download_ed48d841-7f98-4397-9f71-7fdb13d15156\", \"DT_ozone.png\", 22389)"
            ],
            "text/plain": [
              "<IPython.core.display.Javascript object>"
            ]
          },
          "metadata": {
            "tags": []
          }
        },
        {
          "output_type": "display_data",
          "data": {
            "image/png": "[encoded data removed]",
            "text/plain": [
              "<Figure size 432x288 with 1 Axes>"
            ]
          },
          "metadata": {
            "tags": [],
            "needs_background": "light"
          }
        }
      ]
    },
    {
      "cell_type": "markdown",
      "metadata": {
        "id": "_G_neopke-od",
        "colab_type": "text"
      },
      "source": [
        "#### 1-1.2 Multi-Layer Perceptrons\n"
      ]
    },
    {
      "cell_type": "code",
      "metadata": {
        "id": "H9_Y6t8_fIDR",
        "colab_type": "code",
        "colab": {
          "base_uri": "https://localhost:8080/",
          "height": 297
        },
        "outputId": "a6167bbe-c45b-4833-f88f-fc26e5781dc2"
      },
      "source": [
        "# Get Features & Target variables\n",
        "features_columns = ozone.columns[:-1] # exclude 'Class'\n",
        "X = ozone[features_columns] # Features\n",
        "y = ozone['Class'] # Target\n",
        "\n",
        "training_sizes = [0.1, 0.2, 0.3, 0.4, 0.5, 0.6, 0.7, 0.8, 0.9]\n",
        "MLP_AUC_train = []\n",
        "MLP_AUC_test = []\n",
        "\n",
        "for i in training_sizes:\n",
        "  # looping through different training size\n",
        "  X_train, X_test, y_train, y_test = train_test_split(X, y, \n",
        "                                                      train_size = i,\n",
        "                                                      random_state = 1)\n",
        "  # fit Multi-Layer Perceptrons \n",
        "  clf = MLPClassifier(activation = 'logistic', \n",
        "                    solver = 'adam',\n",
        "                    alpha = 1e-5,\n",
        "                    max_iter = 1000,  \n",
        "                    hidden_layer_sizes = (15, 10),\n",
        "                    random_state = 1,\n",
        "                    learning_rate_init = 0.5)\n",
        "  clf = clf.fit(X_train, y_train)\n",
        "  y_pred = clf.predict(X_test)\n",
        "  # calculate the mean of AUC score by 10-fold CV\n",
        "  train_scores = cross_val_score(clf, X_train, y_train, cv = 10, \n",
        "                                 scoring = 'roc_auc').mean()\n",
        "  test_scores = cross_val_score(clf, X_test, y_test, cv = 10, \n",
        "                                scoring = 'roc_auc').mean()\n",
        "  MLP_AUC_train.append(train_scores)\n",
        "  MLP_AUC_test.append(test_scores)\n",
        "\n",
        "# plotting\n",
        "plt.figure(figsize=(6, 4))\n",
        "plt.plot(training_sizes, MLP_AUC_train, 'c^-', label = 'training')\n",
        "plt.plot(training_sizes, MLP_AUC_test, 'C1o-', label = 'testing')\n",
        "plt.legend(frameon = True, loc = 'bottom left')\n",
        "plt.title('Multi-Layer Perceptrons (ozone)', size = 15)\n",
        "plt.xlabel('Training Size', size = 13)\n",
        "plt.ylabel('AUC Score', size = 13)"
      ],
      "execution_count": 177,
      "outputs": [
        {
          "output_type": "display_data",
          "data": {
            "application/javascript": [
              "\n",
              "    async function download(id, filename, size) {\n",
              "      if (!google.colab.kernel.accessAllowed) {\n",
              "        return;\n",
              "      }\n",
              "      const div = document.createElement('div');\n",
              "      const label = document.createElement('label');\n",
              "      label.textContent = `Downloading \"${filename}\": `;\n",
              "      div.appendChild(label);\n",
              "      const progress = document.createElement('progress');\n",
              "      progress.max = size;\n",
              "      div.appendChild(progress);\n",
              "      document.body.appendChild(div);\n",
              "\n",
              "      const buffers = [];\n",
              "      let downloaded = 0;\n",
              "\n",
              "      const channel = await google.colab.kernel.comms.open(id);\n",
              "      // Send a message to notify the kernel that we're ready.\n",
              "      channel.send({})\n",
              "\n",
              "      for await (const message of channel.messages) {\n",
              "        // Send a message to notify the kernel that we're ready.\n",
              "        channel.send({})\n",
              "        if (message.buffers) {\n",
              "          for (const buffer of message.buffers) {\n",
              "            buffers.push(buffer);\n",
              "            downloaded += buffer.byteLength;\n",
              "            progress.value = downloaded;\n",
              "          }\n",
              "        }\n",
              "      }\n",
              "      const blob = new Blob(buffers, {type: 'application/binary'});\n",
              "      const a = document.createElement('a');\n",
              "      a.href = window.URL.createObjectURL(blob);\n",
              "      a.download = filename;\n",
              "      div.appendChild(a);\n",
              "      a.click();\n",
              "      div.remove();\n",
              "    }\n",
              "  "
            ],
            "text/plain": [
              "<IPython.core.display.Javascript object>"
            ]
          },
          "metadata": {
            "tags": []
          }
        },
        {
          "output_type": "display_data",
          "data": {
            "application/javascript": [
              "download(\"download_dd4d4b3d-b537-4d51-bbf9-afe1c828b1a7\", \"MLP_ozone.png\", 28259)"
            ],
            "text/plain": [
              "<IPython.core.display.Javascript object>"
            ]
          },
          "metadata": {
            "tags": []
          }
        },
        {
          "output_type": "display_data",
          "data": {
            "image/png": "[encoded data removed]",
            "text/plain": [
              "<Figure size 432x288 with 1 Axes>"
            ]
          },
          "metadata": {
            "tags": [],
            "needs_background": "light"
          }
        }
      ]
    },
    {
      "cell_type": "markdown",
      "metadata": {
        "id": "oemfEfr6ttBj",
        "colab_type": "text"
      },
      "source": [
        "### 1-2 steel plates data "
      ]
    },
    {
      "cell_type": "markdown",
      "metadata": {
        "id": "Vs3nN_Y0fjKR",
        "colab_type": "text"
      },
      "source": [
        "#### 1-2.1 Decision Tree (binary)"
      ]
    },
    {
      "cell_type": "code",
      "metadata": {
        "id": "XRsKmbiCtnkq",
        "colab_type": "code",
        "colab": {
          "base_uri": "https://localhost:8080/",
          "height": 297
        },
        "outputId": "ccc05695-0c95-4217-fe75-4acd2a1ca335"
      },
      "source": [
        "# Get Features & Target variables\n",
        "features_columns = steel_bin.columns[:-1] # exclude 'Class'\n",
        "X = steel_bin[features_columns] # Features\n",
        "y = steel_bin['Class'] # Target\n",
        "\n",
        "training_sizes = [0.1, 0.2, 0.3, 0.4, 0.5, 0.6, 0.7, 0.8, 0.9]\n",
        "DT_AUC_train = []\n",
        "DT_AUC_test = []\n",
        "\n",
        "for i in training_sizes:\n",
        "  # looping through different training size\n",
        "  X_train, X_test, y_train, y_test = train_test_split(X, y, \n",
        "                                                      train_size = i,\n",
        "                                                      random_state = 1)\n",
        "  # fit DecisionTree \n",
        "  clf = DecisionTreeClassifier(criterion = 'entropy', min_samples_split = 50)\n",
        "  clf = clf.fit(X_train, y_train)\n",
        "  y_pred = clf.predict(X_test)\n",
        "  # calculate the mean of AUC score by 10-fold CV\n",
        "  train_scores = cross_val_score(clf, X_train, y_train, cv = 10, scoring = 'roc_auc').mean()\n",
        "  test_scores = cross_val_score(clf, X_test, y_test, cv = 10, scoring = 'roc_auc').mean()\n",
        "  DT_AUC_train.append(train_scores)\n",
        "  DT_AUC_test.append(test_scores)\n",
        "\n",
        "# plotting\n",
        "plt.figure(figsize=(6, 4))\n",
        "plt.plot(training_sizes, DT_AUC_train, 'c^-', label = 'training')\n",
        "plt.plot(training_sizes, DT_AUC_test, 'C1o-', label = 'testing')\n",
        "plt.legend(frameon = True, loc = 'bottom right')\n",
        "plt.title('Decision Tree Classifier (steel - binary class)', size = 15)\n",
        "plt.xlabel('Training Size', size = 13)\n",
        "plt.ylabel('AUC Score', size = 13)"
      ],
      "execution_count": 178,
      "outputs": [
        {
          "output_type": "display_data",
          "data": {
            "application/javascript": [
              "\n",
              "    async function download(id, filename, size) {\n",
              "      if (!google.colab.kernel.accessAllowed) {\n",
              "        return;\n",
              "      }\n",
              "      const div = document.createElement('div');\n",
              "      const label = document.createElement('label');\n",
              "      label.textContent = `Downloading \"${filename}\": `;\n",
              "      div.appendChild(label);\n",
              "      const progress = document.createElement('progress');\n",
              "      progress.max = size;\n",
              "      div.appendChild(progress);\n",
              "      document.body.appendChild(div);\n",
              "\n",
              "      const buffers = [];\n",
              "      let downloaded = 0;\n",
              "\n",
              "      const channel = await google.colab.kernel.comms.open(id);\n",
              "      // Send a message to notify the kernel that we're ready.\n",
              "      channel.send({})\n",
              "\n",
              "      for await (const message of channel.messages) {\n",
              "        // Send a message to notify the kernel that we're ready.\n",
              "        channel.send({})\n",
              "        if (message.buffers) {\n",
              "          for (const buffer of message.buffers) {\n",
              "            buffers.push(buffer);\n",
              "            downloaded += buffer.byteLength;\n",
              "            progress.value = downloaded;\n",
              "          }\n",
              "        }\n",
              "      }\n",
              "      const blob = new Blob(buffers, {type: 'application/binary'});\n",
              "      const a = document.createElement('a');\n",
              "      a.href = window.URL.createObjectURL(blob);\n",
              "      a.download = filename;\n",
              "      div.appendChild(a);\n",
              "      a.click();\n",
              "      div.remove();\n",
              "    }\n",
              "  "
            ],
            "text/plain": [
              "<IPython.core.display.Javascript object>"
            ]
          },
          "metadata": {
            "tags": []
          }
        },
        {
          "output_type": "display_data",
          "data": {
            "application/javascript": [
              "download(\"download_b4999df4-408e-41f1-8894-a28fd7b78e77\", \"DT_steel-bin.png\", 27324)"
            ],
            "text/plain": [
              "<IPython.core.display.Javascript object>"
            ]
          },
          "metadata": {
            "tags": []
          }
        },
        {
          "output_type": "display_data",
          "data": {
            "image/png": "[encoded data removed]",
            "text/plain": [
              "<Figure size 432x288 with 1 Axes>"
            ]
          },
          "metadata": {
            "tags": [],
            "needs_background": "light"
          }
        }
      ]
    },
    {
      "cell_type": "markdown",
      "metadata": {
        "id": "0C9gCSuYMZJs",
        "colab_type": "text"
      },
      "source": [
        "#### 1-2.2 Decision Tree (multi-class)"
      ]
    },
    {
      "cell_type": "code",
      "metadata": {
        "id": "laVg7rAaMaof",
        "colab_type": "code",
        "colab": {
          "base_uri": "https://localhost:8080/",
          "height": 297
        },
        "outputId": "9d9365b2-3cff-467f-a8cd-7168c1461d6f"
      },
      "source": [
        "# Get Features & Target variables\n",
        "features_columns = steel_mul.columns[:-1] # exclude 'Class'\n",
        "X = steel_mul[features_columns] # Features\n",
        "y = steel_mul['multi_class'] # Target\n",
        "\n",
        "training_sizes = [0.1, 0.2, 0.3, 0.4, 0.5, 0.6, 0.7, 0.8, 0.9]\n",
        "DT_AUC_train = []\n",
        "DT_AUC_test = []\n",
        "\n",
        "for i in training_sizes:\n",
        "  # looping through different training size\n",
        "  X_train, X_test, y_train, y_test = train_test_split(X, y, \n",
        "                                                      train_size = i,\n",
        "                                                      random_state = 1)\n",
        "  # fit DecisionTree \n",
        "  clf = DecisionTreeClassifier(criterion = 'entropy', min_samples_split = 50)\n",
        "  clf = clf.fit(X_train, y_train)\n",
        "  y_pred = clf.predict(X_test)\n",
        "  # calculate the mean of AUC score by 10-fold CV\n",
        "  train_scores = cross_val_score(clf, X_train, y_train, cv = 10, scoring = 'accuracy').mean()\n",
        "  test_scores = cross_val_score(clf, X_test, y_test, cv = 10, scoring = 'accuracy').mean()\n",
        "  DT_AUC_train.append(train_scores)\n",
        "  DT_AUC_test.append(test_scores)\n",
        "\n",
        "# plotting\n",
        "plt.figure(figsize=(6, 4))\n",
        "plt.plot(training_sizes, DT_AUC_train, 'c^-', label = 'training')\n",
        "plt.plot(training_sizes, DT_AUC_test, 'C1o-', label = 'testing')\n",
        "plt.legend(frameon = True, loc = 'bottom right')\n",
        "plt.title('Decision Tree Classifier (steel - multi class)', size = 15)\n",
        "plt.xlabel('Training Size', size = 13)\n",
        "plt.ylabel('Accuracy', size = 13)"
      ],
      "execution_count": 179,
      "outputs": [
        {
          "output_type": "display_data",
          "data": {
            "application/javascript": [
              "\n",
              "    async function download(id, filename, size) {\n",
              "      if (!google.colab.kernel.accessAllowed) {\n",
              "        return;\n",
              "      }\n",
              "      const div = document.createElement('div');\n",
              "      const label = document.createElement('label');\n",
              "      label.textContent = `Downloading \"${filename}\": `;\n",
              "      div.appendChild(label);\n",
              "      const progress = document.createElement('progress');\n",
              "      progress.max = size;\n",
              "      div.appendChild(progress);\n",
              "      document.body.appendChild(div);\n",
              "\n",
              "      const buffers = [];\n",
              "      let downloaded = 0;\n",
              "\n",
              "      const channel = await google.colab.kernel.comms.open(id);\n",
              "      // Send a message to notify the kernel that we're ready.\n",
              "      channel.send({})\n",
              "\n",
              "      for await (const message of channel.messages) {\n",
              "        // Send a message to notify the kernel that we're ready.\n",
              "        channel.send({})\n",
              "        if (message.buffers) {\n",
              "          for (const buffer of message.buffers) {\n",
              "            buffers.push(buffer);\n",
              "            downloaded += buffer.byteLength;\n",
              "            progress.value = downloaded;\n",
              "          }\n",
              "        }\n",
              "      }\n",
              "      const blob = new Blob(buffers, {type: 'application/binary'});\n",
              "      const a = document.createElement('a');\n",
              "      a.href = window.URL.createObjectURL(blob);\n",
              "      a.download = filename;\n",
              "      div.appendChild(a);\n",
              "      a.click();\n",
              "      div.remove();\n",
              "    }\n",
              "  "
            ],
            "text/plain": [
              "<IPython.core.display.Javascript object>"
            ]
          },
          "metadata": {
            "tags": []
          }
        },
        {
          "output_type": "display_data",
          "data": {
            "application/javascript": [
              "download(\"download_8873b1df-f111-42e9-a059-faf1f1054b77\", \"DT_steel-mul.png\", 25219)"
            ],
            "text/plain": [
              "<IPython.core.display.Javascript object>"
            ]
          },
          "metadata": {
            "tags": []
          }
        },
        {
          "output_type": "display_data",
          "data": {
            "image/png": "[encoded data removed]",
            "text/plain": [
              "<Figure size 432x288 with 1 Axes>"
            ]
          },
          "metadata": {
            "tags": [],
            "needs_background": "light"
          }
        }
      ]
    },
    {
      "cell_type": "markdown",
      "metadata": {
        "id": "A1EzQuON5ffa",
        "colab_type": "text"
      },
      "source": [
        "#### 1-2.3 Multi-Layer Perceptrons (binary)     "
      ]
    },
    {
      "cell_type": "code",
      "metadata": {
        "id": "ckxRFruq5o2a",
        "colab_type": "code",
        "colab": {
          "base_uri": "https://localhost:8080/",
          "height": 297
        },
        "outputId": "d589c476-8079-4623-ea66-745d674f5e69"
      },
      "source": [
        "# Get Features & Target variables\n",
        "features_columns = steel_bin.columns[:-1] # exclude 'Class'\n",
        "X = steel_bin[features_columns] # Features\n",
        "y = steel_bin['Class'] # Target\n",
        "\n",
        "training_sizes = [0.1, 0.2, 0.3, 0.4, 0.5, 0.6, 0.7, 0.8, 0.9]\n",
        "MLP_AUC_train = []\n",
        "MLP_AUC_test = []\n",
        "\n",
        "for i in training_sizes:\n",
        "  # looping through different training size\n",
        "  X_train, X_test, y_train, y_test = train_test_split(X, y, \n",
        "                                                      train_size = i,\n",
        "                                                      random_state = 1)\n",
        "  # fit Multi-Layer Perceptrons \n",
        "  clf = MLPClassifier(activation = 'logistic', \n",
        "                    solver = 'adam',\n",
        "                    alpha = 1e-5,\n",
        "                    max_iter = 1000,  \n",
        "                    hidden_layer_sizes = (15, 10),\n",
        "                    random_state = 1,\n",
        "                    learning_rate_init = 0.5)\n",
        "  clf = clf.fit(X_train, y_train)\n",
        "  y_pred = clf.predict(X_test)\n",
        "  # calculate the mean of AUC score by 10-fold CV\n",
        "  train_scores = cross_val_score(clf, X_train, y_train, cv = 10, \n",
        "                                 scoring = 'roc_auc').mean()\n",
        "  test_scores = cross_val_score(clf, X_test, y_test, cv = 10, \n",
        "                                scoring = 'roc_auc').mean()\n",
        "  MLP_AUC_train.append(train_scores)\n",
        "  MLP_AUC_test.append(test_scores)\n",
        "\n",
        "# plotting\n",
        "plt.figure(figsize=(6, 4))\n",
        "plt.plot(training_sizes, MLP_AUC_train, 'c^-', label = 'training')\n",
        "plt.plot(training_sizes, MLP_AUC_test, 'C1o-', label = 'testing')\n",
        "plt.legend(frameon = True, loc = 'bottom left')\n",
        "plt.title('Multi-Layer Perceptrons (steel - binary class)', size = 15)\n",
        "plt.xlabel('Training Size', size = 13)\n",
        "plt.ylabel('AUC Score', size = 13)"
      ],
      "execution_count": 180,
      "outputs": [
        {
          "output_type": "display_data",
          "data": {
            "application/javascript": [
              "\n",
              "    async function download(id, filename, size) {\n",
              "      if (!google.colab.kernel.accessAllowed) {\n",
              "        return;\n",
              "      }\n",
              "      const div = document.createElement('div');\n",
              "      const label = document.createElement('label');\n",
              "      label.textContent = `Downloading \"${filename}\": `;\n",
              "      div.appendChild(label);\n",
              "      const progress = document.createElement('progress');\n",
              "      progress.max = size;\n",
              "      div.appendChild(progress);\n",
              "      document.body.appendChild(div);\n",
              "\n",
              "      const buffers = [];\n",
              "      let downloaded = 0;\n",
              "\n",
              "      const channel = await google.colab.kernel.comms.open(id);\n",
              "      // Send a message to notify the kernel that we're ready.\n",
              "      channel.send({})\n",
              "\n",
              "      for await (const message of channel.messages) {\n",
              "        // Send a message to notify the kernel that we're ready.\n",
              "        channel.send({})\n",
              "        if (message.buffers) {\n",
              "          for (const buffer of message.buffers) {\n",
              "            buffers.push(buffer);\n",
              "            downloaded += buffer.byteLength;\n",
              "            progress.value = downloaded;\n",
              "          }\n",
              "        }\n",
              "      }\n",
              "      const blob = new Blob(buffers, {type: 'application/binary'});\n",
              "      const a = document.createElement('a');\n",
              "      a.href = window.URL.createObjectURL(blob);\n",
              "      a.download = filename;\n",
              "      div.appendChild(a);\n",
              "      a.click();\n",
              "      div.remove();\n",
              "    }\n",
              "  "
            ],
            "text/plain": [
              "<IPython.core.display.Javascript object>"
            ]
          },
          "metadata": {
            "tags": []
          }
        },
        {
          "output_type": "display_data",
          "data": {
            "application/javascript": [
              "download(\"download_112cbbab-2890-40c4-8e21-a961b0fc4baa\", \"MLP_steel-bin.png\", 28399)"
            ],
            "text/plain": [
              "<IPython.core.display.Javascript object>"
            ]
          },
          "metadata": {
            "tags": []
          }
        },
        {
          "output_type": "display_data",
          "data": {
            "image/png": "[encoded data removed]",
            "text/plain": [
              "<Figure size 432x288 with 1 Axes>"
            ]
          },
          "metadata": {
            "tags": [],
            "needs_background": "light"
          }
        }
      ]
    },
    {
      "cell_type": "markdown",
      "metadata": {
        "id": "cKqHj-F55pkb",
        "colab_type": "text"
      },
      "source": [
        "#### 1-2.4 Multi-Layer Perceptrons (multi-class)     \n",
        "\n",
        "\n"
      ]
    },
    {
      "cell_type": "code",
      "metadata": {
        "id": "kB9qQLNQ5sQW",
        "colab_type": "code",
        "colab": {
          "base_uri": "https://localhost:8080/",
          "height": 297
        },
        "outputId": "2741e4d4-812e-4486-99b9-41c5d39d5122"
      },
      "source": [
        "# Get Features & Target variables\n",
        "features_columns = steel_mul.columns[:-1] # exclude 'Class'\n",
        "X = steel_mul[features_columns] # Features\n",
        "y = steel_mul['multi_class'] # Target\n",
        "\n",
        "training_sizes = [0.1, 0.2, 0.3, 0.4, 0.5, 0.6, 0.7, 0.8, 0.9]\n",
        "MLP_AUC_train = []\n",
        "MLP_AUC_test = []\n",
        "\n",
        "for i in training_sizes:\n",
        "  # looping through different training size\n",
        "  X_train, X_test, y_train, y_test = train_test_split(X, y, \n",
        "                                                      train_size = i,\n",
        "                                                      random_state = 1)\n",
        "  # fit Multi-Layer Perceptrons \n",
        "  clf = MLPClassifier(activation = 'logistic', \n",
        "                    solver = 'adam',\n",
        "                    alpha = 1e-5,\n",
        "                    max_iter = 1000,  \n",
        "                    hidden_layer_sizes = (15, 10),\n",
        "                    random_state = 1,\n",
        "                    learning_rate_init = 0.5)\n",
        "  clf = clf.fit(X_train, y_train)\n",
        "  y_pred = clf.predict(X_test)\n",
        "  # calculate the mean of AUC score by 10-fold CV\n",
        "  train_scores = cross_val_score(clf, X_train, y_train, cv = 10, \n",
        "                                 scoring = 'accuracy').mean()\n",
        "  test_scores = cross_val_score(clf, X_test, y_test, cv = 10, \n",
        "                                scoring = 'accuracy').mean()\n",
        "  MLP_AUC_train.append(train_scores)\n",
        "  MLP_AUC_test.append(test_scores)\n",
        "\n",
        "# plotting\n",
        "plt.figure(figsize=(6, 4))\n",
        "plt.plot(training_sizes, DT_AUC_train, 'c^-', label = 'training')\n",
        "plt.plot(training_sizes, DT_AUC_test, 'C1o-', label = 'testing')\n",
        "plt.legend(frameon = True, loc = 'bottom right')\n",
        "plt.title('Multi-Layer Perceptrons (steel - multi class)', size = 15)\n",
        "plt.xlabel('Training Size', size = 13)\n",
        "plt.ylabel('Accuracy', size = 13)"
      ],
      "execution_count": 181,
      "outputs": [
        {
          "output_type": "display_data",
          "data": {
            "application/javascript": [
              "\n",
              "    async function download(id, filename, size) {\n",
              "      if (!google.colab.kernel.accessAllowed) {\n",
              "        return;\n",
              "      }\n",
              "      const div = document.createElement('div');\n",
              "      const label = document.createElement('label');\n",
              "      label.textContent = `Downloading \"${filename}\": `;\n",
              "      div.appendChild(label);\n",
              "      const progress = document.createElement('progress');\n",
              "      progress.max = size;\n",
              "      div.appendChild(progress);\n",
              "      document.body.appendChild(div);\n",
              "\n",
              "      const buffers = [];\n",
              "      let downloaded = 0;\n",
              "\n",
              "      const channel = await google.colab.kernel.comms.open(id);\n",
              "      // Send a message to notify the kernel that we're ready.\n",
              "      channel.send({})\n",
              "\n",
              "      for await (const message of channel.messages) {\n",
              "        // Send a message to notify the kernel that we're ready.\n",
              "        channel.send({})\n",
              "        if (message.buffers) {\n",
              "          for (const buffer of message.buffers) {\n",
              "            buffers.push(buffer);\n",
              "            downloaded += buffer.byteLength;\n",
              "            progress.value = downloaded;\n",
              "          }\n",
              "        }\n",
              "      }\n",
              "      const blob = new Blob(buffers, {type: 'application/binary'});\n",
              "      const a = document.createElement('a');\n",
              "      a.href = window.URL.createObjectURL(blob);\n",
              "      a.download = filename;\n",
              "      div.appendChild(a);\n",
              "      a.click();\n",
              "      div.remove();\n",
              "    }\n",
              "  "
            ],
            "text/plain": [
              "<IPython.core.display.Javascript object>"
            ]
          },
          "metadata": {
            "tags": []
          }
        },
        {
          "output_type": "display_data",
          "data": {
            "application/javascript": [
              "download(\"download_d4f9493b-b41a-42fa-9b21-6a914861f026\", \"MLP_steel-mul.png\", 25273)"
            ],
            "text/plain": [
              "<IPython.core.display.Javascript object>"
            ]
          },
          "metadata": {
            "tags": []
          }
        },
        {
          "output_type": "display_data",
          "data": {
            "image/png": "[encoded data removed]",
            "text/plain": [
              "<Figure size 432x288 with 1 Axes>"
            ]
          },
          "metadata": {
            "tags": [],
            "needs_background": "light"
          }
        }
      ]
    },
    {
      "cell_type": "markdown",
      "metadata": {
        "id": "ceeBkJlAEv77",
        "colab_type": "text"
      },
      "source": [
        "## 2) Can overfitting be overcome by feature selection?"
      ]
    },
    {
      "cell_type": "markdown",
      "metadata": {
        "id": "Gjy92zI7E2Jv",
        "colab_type": "text"
      },
      "source": [
        "### 2-1 ozone data (Feature Selection)"
      ]
    },
    {
      "cell_type": "markdown",
      "metadata": {
        "id": "y5UeqYAxM8Mj",
        "colab_type": "text"
      },
      "source": [
        "#### 2-1.1 Decision Tree"
      ]
    },
    {
      "cell_type": "code",
      "metadata": {
        "id": "7JKbKVprZync",
        "colab_type": "code",
        "colab": {
          "base_uri": "https://localhost:8080/",
          "height": 34
        },
        "outputId": "5b45f3a3-0426-43e1-ce9d-991db53f0360"
      },
      "source": [
        "features_columns = ozone.columns[:-1] # exclude 'Class'\n",
        "X = ozone[features_columns] # Features\n",
        "y = ozone['Class'] # Target\n",
        "\n",
        "# feature selection - Univariate F-test Feature selection\n",
        "X_new = SelectKBest(f_classif, k = 24).fit_transform(X, y)\n",
        "print(X_new.shape)"
      ],
      "execution_count": 182,
      "outputs": [
        {
          "output_type": "stream",
          "text": [
            "(2534, 24)\n"
          ],
          "name": "stdout"
        }
      ]
    },
    {
      "cell_type": "code",
      "metadata": {
        "id": "FI8oALkjMfnu",
        "colab_type": "code",
        "colab": {
          "base_uri": "https://localhost:8080/",
          "height": 297
        },
        "outputId": "ff5deeb8-d5bc-48a4-dc49-56043d494546"
      },
      "source": [
        "training_sizes = [0.1, 0.2, 0.3, 0.4, 0.5, 0.6, 0.7, 0.8, 0.9]\n",
        "DT_AUC_train = []\n",
        "DT_AUC_test = []\n",
        "\n",
        "for i in training_sizes:\n",
        "  # looping through different training size\n",
        "  X_train, X_test, y_train, y_test = train_test_split(X_new, y, \n",
        "                                                      train_size = i,\n",
        "                                                      random_state = 1)\n",
        "  # fit DecisionTree \n",
        "  clf = DecisionTreeClassifier(criterion = 'entropy', min_samples_split = 50)\n",
        "  clf = clf.fit(X_train, y_train)\n",
        "  y_pred = clf.predict(X_test)\n",
        "  # calculate the mean of AUC score by 10-fold CV\n",
        "  train_scores = cross_val_score(clf, X_train, y_train, cv = 10, \n",
        "                                 scoring = 'roc_auc').mean()\n",
        "  test_scores = cross_val_score(clf, X_test, y_test, cv = 10, \n",
        "                                scoring = 'roc_auc').mean()\n",
        "  DT_AUC_train.append(train_scores)\n",
        "  DT_AUC_test.append(test_scores)\n",
        "\n",
        "# plotting\n",
        "plt.figure(figsize=(6, 4))\n",
        "plt.plot(training_sizes, DT_AUC_train, 'c^-', label = 'training')\n",
        "plt.plot(training_sizes, DT_AUC_test, 'C1o-', label = 'testing')\n",
        "plt.legend(frameon = True, loc = 'bottom right')\n",
        "plt.title('Decision Tree Classifier (ozone)', size = 15)\n",
        "plt.xlabel('Training Size', size = 13)\n",
        "plt.ylabel('AUC Score', size = 13)"
      ],
      "execution_count": 183,
      "outputs": [
        {
          "output_type": "display_data",
          "data": {
            "application/javascript": [
              "\n",
              "    async function download(id, filename, size) {\n",
              "      if (!google.colab.kernel.accessAllowed) {\n",
              "        return;\n",
              "      }\n",
              "      const div = document.createElement('div');\n",
              "      const label = document.createElement('label');\n",
              "      label.textContent = `Downloading \"${filename}\": `;\n",
              "      div.appendChild(label);\n",
              "      const progress = document.createElement('progress');\n",
              "      progress.max = size;\n",
              "      div.appendChild(progress);\n",
              "      document.body.appendChild(div);\n",
              "\n",
              "      const buffers = [];\n",
              "      let downloaded = 0;\n",
              "\n",
              "      const channel = await google.colab.kernel.comms.open(id);\n",
              "      // Send a message to notify the kernel that we're ready.\n",
              "      channel.send({})\n",
              "\n",
              "      for await (const message of channel.messages) {\n",
              "        // Send a message to notify the kernel that we're ready.\n",
              "        channel.send({})\n",
              "        if (message.buffers) {\n",
              "          for (const buffer of message.buffers) {\n",
              "            buffers.push(buffer);\n",
              "            downloaded += buffer.byteLength;\n",
              "            progress.value = downloaded;\n",
              "          }\n",
              "        }\n",
              "      }\n",
              "      const blob = new Blob(buffers, {type: 'application/binary'});\n",
              "      const a = document.createElement('a');\n",
              "      a.href = window.URL.createObjectURL(blob);\n",
              "      a.download = filename;\n",
              "      div.appendChild(a);\n",
              "      a.click();\n",
              "      div.remove();\n",
              "    }\n",
              "  "
            ],
            "text/plain": [
              "<IPython.core.display.Javascript object>"
            ]
          },
          "metadata": {
            "tags": []
          }
        },
        {
          "output_type": "display_data",
          "data": {
            "application/javascript": [
              "download(\"download_4190d2f1-7f95-46cf-8d07-4ba9f1629867\", \"FS_DT_ozone.png\", 21656)"
            ],
            "text/plain": [
              "<IPython.core.display.Javascript object>"
            ]
          },
          "metadata": {
            "tags": []
          }
        },
        {
          "output_type": "display_data",
          "data": {
            "image/png": "[encoded data removed]",
            "text/plain": [
              "<Figure size 432x288 with 1 Axes>"
            ]
          },
          "metadata": {
            "tags": [],
            "needs_background": "light"
          }
        }
      ]
    },
    {
      "cell_type": "markdown",
      "metadata": {
        "id": "MsD0FbW7YDo_",
        "colab_type": "text"
      },
      "source": [
        "#### 2-1.2 Multi-Layer Perceptrons"
      ]
    },
    {
      "cell_type": "code",
      "metadata": {
        "id": "KWvFXsTRZUCO",
        "colab_type": "code",
        "colab": {
          "base_uri": "https://localhost:8080/",
          "height": 34
        },
        "outputId": "62c389cb-1d44-4cb9-f114-19fe29aaaa62"
      },
      "source": [
        "features_columns = ozone.columns[:-1] # exclude 'Class'\n",
        "X = ozone[features_columns] # Features\n",
        "y = ozone['Class'] # Target\n",
        "\n",
        "# feature selection - Tree-based Feature Selection\n",
        "clf = ExtraTreesClassifier(n_estimators = 2)\n",
        "clf = clf.fit(X, y)\n",
        "clf.feature_importances_  \n",
        "\n",
        "model = SelectFromModel(clf, prefit=True)\n",
        "X_new = model.transform(X)\n",
        "print(X_new.shape)"
      ],
      "execution_count": 185,
      "outputs": [
        {
          "output_type": "stream",
          "text": [
            "(2534, 26)\n"
          ],
          "name": "stdout"
        }
      ]
    },
    {
      "cell_type": "code",
      "metadata": {
        "id": "6XZ4ZBd3YJVf",
        "colab_type": "code",
        "colab": {
          "base_uri": "https://localhost:8080/",
          "height": 297
        },
        "outputId": "bd615590-c60d-470d-db2d-ffa9b2bf5a8c"
      },
      "source": [
        "training_sizes = [0.1, 0.2, 0.3, 0.4, 0.5, 0.6, 0.7, 0.8, 0.9]\n",
        "MLP_AUC_train = []\n",
        "MLP_AUC_test = []\n",
        "\n",
        "for i in training_sizes:\n",
        "  # looping through different training size\n",
        "  X_train, X_test, y_train, y_test = train_test_split(X_new, y, \n",
        "                                                      train_size = i,\n",
        "                                                      random_state = 1)\n",
        "  # fit Multi-Layer Perceptrons \n",
        "  clf = MLPClassifier(activation = 'logistic', \n",
        "                    solver = 'adam',\n",
        "                    alpha = 1e-5,\n",
        "                    max_iter = 700,  \n",
        "                    hidden_layer_sizes = (15, 10),\n",
        "                    random_state = 1,\n",
        "                    learning_rate_init = 0.5)\n",
        "  clf = clf.fit(X_train, y_train)\n",
        "  y_pred = clf.predict(X_test)\n",
        "  # calculate the mean of AUC score by 10-fold CV\n",
        "  train_scores = cross_val_score(clf, X_train, y_train, cv = 10, \n",
        "                                 scoring = 'roc_auc').mean()\n",
        "  test_scores = cross_val_score(clf, X_test, y_test, cv = 10, \n",
        "                                scoring = 'roc_auc').mean()\n",
        "  MLP_AUC_train.append(train_scores)\n",
        "  MLP_AUC_test.append(test_scores)\n",
        "\n",
        "# plotting\n",
        "plt.figure(figsize=(6, 4))\n",
        "plt.plot(training_sizes, MLP_AUC_train, 'c^-', label = 'training')\n",
        "plt.plot(training_sizes, MLP_AUC_test, 'C1o-', label = 'testing')\n",
        "plt.legend(frameon = True, loc = 'bottom left')\n",
        "plt.title('Multi-Layer Perceptrons (ozone)', size = 15)\n",
        "plt.xlabel('Training Size', size = 13)\n",
        "plt.ylabel('AUC Score', size = 13)"
      ],
      "execution_count": 186,
      "outputs": [
        {
          "output_type": "display_data",
          "data": {
            "application/javascript": [
              "\n",
              "    async function download(id, filename, size) {\n",
              "      if (!google.colab.kernel.accessAllowed) {\n",
              "        return;\n",
              "      }\n",
              "      const div = document.createElement('div');\n",
              "      const label = document.createElement('label');\n",
              "      label.textContent = `Downloading \"${filename}\": `;\n",
              "      div.appendChild(label);\n",
              "      const progress = document.createElement('progress');\n",
              "      progress.max = size;\n",
              "      div.appendChild(progress);\n",
              "      document.body.appendChild(div);\n",
              "\n",
              "      const buffers = [];\n",
              "      let downloaded = 0;\n",
              "\n",
              "      const channel = await google.colab.kernel.comms.open(id);\n",
              "      // Send a message to notify the kernel that we're ready.\n",
              "      channel.send({})\n",
              "\n",
              "      for await (const message of channel.messages) {\n",
              "        // Send a message to notify the kernel that we're ready.\n",
              "        channel.send({})\n",
              "        if (message.buffers) {\n",
              "          for (const buffer of message.buffers) {\n",
              "            buffers.push(buffer);\n",
              "            downloaded += buffer.byteLength;\n",
              "            progress.value = downloaded;\n",
              "          }\n",
              "        }\n",
              "      }\n",
              "      const blob = new Blob(buffers, {type: 'application/binary'});\n",
              "      const a = document.createElement('a');\n",
              "      a.href = window.URL.createObjectURL(blob);\n",
              "      a.download = filename;\n",
              "      div.appendChild(a);\n",
              "      a.click();\n",
              "      div.remove();\n",
              "    }\n",
              "  "
            ],
            "text/plain": [
              "<IPython.core.display.Javascript object>"
            ]
          },
          "metadata": {
            "tags": []
          }
        },
        {
          "output_type": "display_data",
          "data": {
            "application/javascript": [
              "download(\"download_b56e9bdb-3f52-42f1-8997-c8bfbe14d1db\", \"FS_MLP_ozone.png\", 28018)"
            ],
            "text/plain": [
              "<IPython.core.display.Javascript object>"
            ]
          },
          "metadata": {
            "tags": []
          }
        },
        {
          "output_type": "display_data",
          "data": {
            "image/png": "[encoded data removed]",
            "text/plain": [
              "<Figure size 432x288 with 1 Axes>"
            ]
          },
          "metadata": {
            "tags": [],
            "needs_background": "light"
          }
        }
      ]
    },
    {
      "cell_type": "markdown",
      "metadata": {
        "id": "nG1NAqxaE8L3",
        "colab_type": "text"
      },
      "source": [
        "### 2-2 steel plates data (Feature Selection)"
      ]
    },
    {
      "cell_type": "markdown",
      "metadata": {
        "id": "LWalVCasFEPz",
        "colab_type": "text"
      },
      "source": [
        "#### 2-2.1 Decision Tree (binary)"
      ]
    },
    {
      "cell_type": "code",
      "metadata": {
        "id": "gCySii2Ta1Lr",
        "colab_type": "code",
        "colab": {
          "base_uri": "https://localhost:8080/",
          "height": 34
        },
        "outputId": "54fcd81c-fa5c-49f5-b888-5dd9d0deb148"
      },
      "source": [
        "features_columns = steel_bin.columns[:-1] # exclude 'Class'\n",
        "X = steel_bin[features_columns] # Features\n",
        "y = steel_bin['Class'] # Target\n",
        "\n",
        "# feature selection - Univariate F-test Feature selection\n",
        "X_new = SelectKBest(f_classif, k = 13).fit_transform(X, y)\n",
        "print(X_new.shape)"
      ],
      "execution_count": 187,
      "outputs": [
        {
          "output_type": "stream",
          "text": [
            "(1941, 13)\n"
          ],
          "name": "stdout"
        }
      ]
    },
    {
      "cell_type": "code",
      "metadata": {
        "id": "hQOjGvnlFLy_",
        "colab_type": "code",
        "colab": {
          "base_uri": "https://localhost:8080/",
          "height": 297
        },
        "outputId": "ffb7a39a-7745-4537-f96e-d9b5c6433cb6"
      },
      "source": [
        "training_sizes = [0.1, 0.2, 0.3, 0.4, 0.5, 0.6, 0.7, 0.8, 0.9]\n",
        "DT_AUC_train = []\n",
        "DT_AUC_test = []\n",
        "\n",
        "for i in training_sizes:\n",
        "  # looping through different training size\n",
        "  X_train, X_test, y_train, y_test = train_test_split(X_new, y, \n",
        "                                                      train_size = i,\n",
        "                                                      random_state = 1)\n",
        "  # fit DecisionTree \n",
        "  clf = DecisionTreeClassifier(criterion = 'entropy', min_samples_split = 50)\n",
        "  clf = clf.fit(X_train, y_train)\n",
        "  y_pred = clf.predict(X_test)\n",
        "  # calculate the mean of AUC score by 10-fold CV\n",
        "  train_scores = cross_val_score(clf, X_train, y_train, cv = 10, \n",
        "                                 scoring = 'roc_auc').mean()\n",
        "  test_scores = cross_val_score(clf, X_test, y_test, cv = 10, \n",
        "                                scoring = 'roc_auc').mean()\n",
        "  DT_AUC_train.append(train_scores)\n",
        "  DT_AUC_test.append(test_scores)\n",
        "\n",
        "# plotting\n",
        "plt.figure(figsize=(6, 4))\n",
        "plt.plot(training_sizes, DT_AUC_train, 'c^-', label = 'training')\n",
        "plt.plot(training_sizes, DT_AUC_test, 'C1o-', label = 'testing')\n",
        "plt.legend(frameon = True, loc = 'bottom right')\n",
        "plt.title('Decision Tree Classifier (steel - binary class)', size = 15)\n",
        "plt.xlabel('Training Size', size = 13)\n",
        "plt.ylabel('AUC Score', size = 13)"
      ],
      "execution_count": 188,
      "outputs": [
        {
          "output_type": "display_data",
          "data": {
            "application/javascript": [
              "\n",
              "    async function download(id, filename, size) {\n",
              "      if (!google.colab.kernel.accessAllowed) {\n",
              "        return;\n",
              "      }\n",
              "      const div = document.createElement('div');\n",
              "      const label = document.createElement('label');\n",
              "      label.textContent = `Downloading \"${filename}\": `;\n",
              "      div.appendChild(label);\n",
              "      const progress = document.createElement('progress');\n",
              "      progress.max = size;\n",
              "      div.appendChild(progress);\n",
              "      document.body.appendChild(div);\n",
              "\n",
              "      const buffers = [];\n",
              "      let downloaded = 0;\n",
              "\n",
              "      const channel = await google.colab.kernel.comms.open(id);\n",
              "      // Send a message to notify the kernel that we're ready.\n",
              "      channel.send({})\n",
              "\n",
              "      for await (const message of channel.messages) {\n",
              "        // Send a message to notify the kernel that we're ready.\n",
              "        channel.send({})\n",
              "        if (message.buffers) {\n",
              "          for (const buffer of message.buffers) {\n",
              "            buffers.push(buffer);\n",
              "            downloaded += buffer.byteLength;\n",
              "            progress.value = downloaded;\n",
              "          }\n",
              "        }\n",
              "      }\n",
              "      const blob = new Blob(buffers, {type: 'application/binary'});\n",
              "      const a = document.createElement('a');\n",
              "      a.href = window.URL.createObjectURL(blob);\n",
              "      a.download = filename;\n",
              "      div.appendChild(a);\n",
              "      a.click();\n",
              "      div.remove();\n",
              "    }\n",
              "  "
            ],
            "text/plain": [
              "<IPython.core.display.Javascript object>"
            ]
          },
          "metadata": {
            "tags": []
          }
        },
        {
          "output_type": "display_data",
          "data": {
            "application/javascript": [
              "download(\"download_5dcf7e65-4613-4bcb-af44-ac34019c2c44\", \"FS_DT_steel-bin.png\", 26056)"
            ],
            "text/plain": [
              "<IPython.core.display.Javascript object>"
            ]
          },
          "metadata": {
            "tags": []
          }
        },
        {
          "output_type": "display_data",
          "data": {
            "image/png": "[encoded data removed]",
            "text/plain": [
              "<Figure size 432x288 with 1 Axes>"
            ]
          },
          "metadata": {
            "tags": [],
            "needs_background": "light"
          }
        }
      ]
    },
    {
      "cell_type": "markdown",
      "metadata": {
        "id": "TyP14UQfao1z",
        "colab_type": "text"
      },
      "source": [
        "#### 2-2.2 Decision Tree (multi-class)"
      ]
    },
    {
      "cell_type": "code",
      "metadata": {
        "id": "Fki_uRBDas1n",
        "colab_type": "code",
        "colab": {
          "base_uri": "https://localhost:8080/",
          "height": 34
        },
        "outputId": "7b106b94-c3d8-44b0-9814-f7fab9ac1e2a"
      },
      "source": [
        "# Get Features & Target variables\n",
        "features_columns = steel_mul.columns[:-1] # exclude 'Class'\n",
        "X = steel_mul[features_columns] # Features\n",
        "y = steel_mul['multi_class'] # Target\n",
        "\n",
        "# feature selection - Univariate F-test Feature selection\n",
        "X_new = SelectKBest(f_classif, k = 12).fit_transform(X, y)\n",
        "print(X_new.shape)"
      ],
      "execution_count": 213,
      "outputs": [
        {
          "output_type": "stream",
          "text": [
            "(1941, 12)\n"
          ],
          "name": "stdout"
        }
      ]
    },
    {
      "cell_type": "code",
      "metadata": {
        "id": "EGKB2wjubvMI",
        "colab_type": "code",
        "colab": {
          "base_uri": "https://localhost:8080/",
          "height": 297
        },
        "outputId": "5624d161-2210-4135-c208-7c1b185e0347"
      },
      "source": [
        "training_sizes = [0.1, 0.2, 0.3, 0.4, 0.5, 0.6, 0.7, 0.8, 0.9]\n",
        "DT_AUC_train = []\n",
        "DT_AUC_test = []\n",
        "\n",
        "for i in training_sizes:\n",
        "  # looping through different training size\n",
        "  X_train, X_test, y_train, y_test = train_test_split(X_new, y, \n",
        "                                                      train_size = i,\n",
        "                                                      random_state = 1)\n",
        "  # fit DecisionTree \n",
        "  clf = DecisionTreeClassifier(criterion = 'entropy', min_samples_split = 50)\n",
        "  clf = clf.fit(X_train, y_train)\n",
        "  y_pred = clf.predict(X_test)\n",
        "  # calculate the mean of AUC score by 10-fold CV\n",
        "  train_scores = cross_val_score(clf, X_train, y_train, cv = 10, \n",
        "                                 scoring = 'accuracy').mean()\n",
        "  test_scores = cross_val_score(clf, X_test, y_test, cv = 10, \n",
        "                                scoring = 'accuracy').mean()\n",
        "  DT_AUC_train.append(train_scores)\n",
        "  DT_AUC_test.append(test_scores)\n",
        "\n",
        "# plotting\n",
        "plt.figure(figsize=(6, 4))\n",
        "plt.plot(training_sizes, DT_AUC_train, 'c^-', label = 'training')\n",
        "plt.plot(training_sizes, DT_AUC_test, 'C1o-', label = 'testing')\n",
        "plt.legend(frameon = True, loc = 'bottom right')\n",
        "plt.title('Decision Tree Classifier (steel - multi class)', size = 15)\n",
        "plt.xlabel('Training Size', size = 13)\n",
        "plt.ylabel('Accuracy', size = 13)"
      ],
      "execution_count": 215,
      "outputs": [
        {
          "output_type": "display_data",
          "data": {
            "application/javascript": [
              "\n",
              "    async function download(id, filename, size) {\n",
              "      if (!google.colab.kernel.accessAllowed) {\n",
              "        return;\n",
              "      }\n",
              "      const div = document.createElement('div');\n",
              "      const label = document.createElement('label');\n",
              "      label.textContent = `Downloading \"${filename}\": `;\n",
              "      div.appendChild(label);\n",
              "      const progress = document.createElement('progress');\n",
              "      progress.max = size;\n",
              "      div.appendChild(progress);\n",
              "      document.body.appendChild(div);\n",
              "\n",
              "      const buffers = [];\n",
              "      let downloaded = 0;\n",
              "\n",
              "      const channel = await google.colab.kernel.comms.open(id);\n",
              "      // Send a message to notify the kernel that we're ready.\n",
              "      channel.send({})\n",
              "\n",
              "      for await (const message of channel.messages) {\n",
              "        // Send a message to notify the kernel that we're ready.\n",
              "        channel.send({})\n",
              "        if (message.buffers) {\n",
              "          for (const buffer of message.buffers) {\n",
              "            buffers.push(buffer);\n",
              "            downloaded += buffer.byteLength;\n",
              "            progress.value = downloaded;\n",
              "          }\n",
              "        }\n",
              "      }\n",
              "      const blob = new Blob(buffers, {type: 'application/binary'});\n",
              "      const a = document.createElement('a');\n",
              "      a.href = window.URL.createObjectURL(blob);\n",
              "      a.download = filename;\n",
              "      div.appendChild(a);\n",
              "      a.click();\n",
              "      div.remove();\n",
              "    }\n",
              "  "
            ],
            "text/plain": [
              "<IPython.core.display.Javascript object>"
            ]
          },
          "metadata": {
            "tags": []
          }
        },
        {
          "output_type": "display_data",
          "data": {
            "application/javascript": [
              "download(\"download_145608ad-734a-4441-a2ae-3b3d7b8c1678\", \"FS_DT_steel-mul.png\", 24904)"
            ],
            "text/plain": [
              "<IPython.core.display.Javascript object>"
            ]
          },
          "metadata": {
            "tags": []
          }
        },
        {
          "output_type": "display_data",
          "data": {
            "image/png": "[encoded data removed]",
            "text/plain": [
              "<Figure size 432x288 with 1 Axes>"
            ]
          },
          "metadata": {
            "tags": [],
            "needs_background": "light"
          }
        }
      ]
    },
    {
      "cell_type": "markdown",
      "metadata": {
        "id": "Tjsmn-ueFcMD",
        "colab_type": "text"
      },
      "source": [
        "#### 2-2.3 Multi-Layer Perceptrons (binary)"
      ]
    },
    {
      "cell_type": "code",
      "metadata": {
        "id": "Of1t4_OwFj1T",
        "colab_type": "code",
        "colab": {
          "base_uri": "https://localhost:8080/",
          "height": 34
        },
        "outputId": "5581658a-c995-4714-ba1b-fd7595371dc7"
      },
      "source": [
        "# Get Features & Target variables\n",
        "features_columns = steel_bin.columns[:-1] # exclude 'Class'\n",
        "X = steel_bin[features_columns] # Features\n",
        "y = steel_bin['Class'] # Target\n",
        "\n",
        "# feature selection - Univariate F-test Feature selection\n",
        "X_new = SelectKBest(f_classif, k = 12).fit_transform(X, y)\n",
        "print(X_new.shape)"
      ],
      "execution_count": 191,
      "outputs": [
        {
          "output_type": "stream",
          "text": [
            "(1941, 12)\n"
          ],
          "name": "stdout"
        }
      ]
    },
    {
      "cell_type": "code",
      "metadata": {
        "id": "GTO4Px7ic5TN",
        "colab_type": "code",
        "colab": {
          "base_uri": "https://localhost:8080/",
          "height": 297
        },
        "outputId": "ac5bb428-e564-49bb-b83d-6417e3e750bc"
      },
      "source": [
        "training_sizes = [0.1, 0.2, 0.3, 0.4, 0.5, 0.6, 0.7, 0.8, 0.9]\n",
        "MLP_AUC_train = []\n",
        "MLP_AUC_test = []\n",
        "\n",
        "for i in training_sizes:\n",
        "  # looping through different training size\n",
        "  X_train, X_test, y_train, y_test = train_test_split(X_new, y, \n",
        "                                                      train_size = i,\n",
        "                                                      random_state = 1)\n",
        "  # fit Multi-Layer Perceptrons \n",
        "  clf = MLPClassifier(activation = 'logistic', \n",
        "                    solver = 'adam',\n",
        "                    alpha = 1e-5,\n",
        "                    max_iter = 1000,  \n",
        "                    hidden_layer_sizes = (15, 10),\n",
        "                    random_state = 1,\n",
        "                    learning_rate_init = 0.5)\n",
        "  clf = clf.fit(X_train, y_train)\n",
        "  y_pred = clf.predict(X_test)\n",
        "  # calculate the mean of AUC score by 10-fold CV\n",
        "  train_scores = cross_val_score(clf, X_train, y_train, cv = 10, \n",
        "                                 scoring = 'roc_auc').mean()\n",
        "  test_scores = cross_val_score(clf, X_test, y_test, cv = 10, \n",
        "                                scoring = 'roc_auc').mean()\n",
        "  MLP_AUC_train.append(train_scores)\n",
        "  MLP_AUC_test.append(test_scores)\n",
        "\n",
        "# plotting\n",
        "plt.figure(figsize=(6, 4))\n",
        "plt.plot(training_sizes, MLP_AUC_train, 'c^-', label = 'training')\n",
        "plt.plot(training_sizes, MLP_AUC_test, 'C1o-', label = 'testing')\n",
        "plt.legend(frameon = True, loc = 'bottom left')\n",
        "plt.title('Multi-Layer Perceptrons (steel - binary class)', size = 15)\n",
        "plt.xlabel('Training Size', size = 13)\n",
        "plt.ylabel('AUC Score', size = 13)"
      ],
      "execution_count": 192,
      "outputs": [
        {
          "output_type": "display_data",
          "data": {
            "application/javascript": [
              "\n",
              "    async function download(id, filename, size) {\n",
              "      if (!google.colab.kernel.accessAllowed) {\n",
              "        return;\n",
              "      }\n",
              "      const div = document.createElement('div');\n",
              "      const label = document.createElement('label');\n",
              "      label.textContent = `Downloading \"${filename}\": `;\n",
              "      div.appendChild(label);\n",
              "      const progress = document.createElement('progress');\n",
              "      progress.max = size;\n",
              "      div.appendChild(progress);\n",
              "      document.body.appendChild(div);\n",
              "\n",
              "      const buffers = [];\n",
              "      let downloaded = 0;\n",
              "\n",
              "      const channel = await google.colab.kernel.comms.open(id);\n",
              "      // Send a message to notify the kernel that we're ready.\n",
              "      channel.send({})\n",
              "\n",
              "      for await (const message of channel.messages) {\n",
              "        // Send a message to notify the kernel that we're ready.\n",
              "        channel.send({})\n",
              "        if (message.buffers) {\n",
              "          for (const buffer of message.buffers) {\n",
              "            buffers.push(buffer);\n",
              "            downloaded += buffer.byteLength;\n",
              "            progress.value = downloaded;\n",
              "          }\n",
              "        }\n",
              "      }\n",
              "      const blob = new Blob(buffers, {type: 'application/binary'});\n",
              "      const a = document.createElement('a');\n",
              "      a.href = window.URL.createObjectURL(blob);\n",
              "      a.download = filename;\n",
              "      div.appendChild(a);\n",
              "      a.click();\n",
              "      div.remove();\n",
              "    }\n",
              "  "
            ],
            "text/plain": [
              "<IPython.core.display.Javascript object>"
            ]
          },
          "metadata": {
            "tags": []
          }
        },
        {
          "output_type": "display_data",
          "data": {
            "application/javascript": [
              "download(\"download_8cbd490a-fcf8-4a25-b874-8fc0aaf45445\", \"FS_MLP_steel-bin.png\", 27470)"
            ],
            "text/plain": [
              "<IPython.core.display.Javascript object>"
            ]
          },
          "metadata": {
            "tags": []
          }
        },
        {
          "output_type": "display_data",
          "data": {
            "image/png": "[encoded data removed]",
            "text/plain": [
              "<Figure size 432x288 with 1 Axes>"
            ]
          },
          "metadata": {
            "tags": [],
            "needs_background": "light"
          }
        }
      ]
    },
    {
      "cell_type": "markdown",
      "metadata": {
        "id": "pD18uG9MFTd4",
        "colab_type": "text"
      },
      "source": [
        "#### 2-2.4 Multi-Layer Perceptrons (multi-class)    "
      ]
    },
    {
      "cell_type": "code",
      "metadata": {
        "id": "pGS9sIyUFawY",
        "colab_type": "code",
        "colab": {
          "base_uri": "https://localhost:8080/",
          "height": 34
        },
        "outputId": "b6611a3a-ad20-4f46-d5dc-45b6023c6189"
      },
      "source": [
        "# Get Features & Target variables\n",
        "features_columns = steel_mul.columns[:-1] # exclude 'Class'\n",
        "X = steel_mul[features_columns] # Features\n",
        "y = steel_mul['multi_class'] # Target\n",
        "\n",
        "# feature selection - Univariate F-test Feature selection\n",
        "X_new = SelectKBest(f_classif, k = 10).fit_transform(X, y)\n",
        "print(X_new.shape)"
      ],
      "execution_count": 193,
      "outputs": [
        {
          "output_type": "stream",
          "text": [
            "(1941, 10)\n"
          ],
          "name": "stdout"
        }
      ]
    },
    {
      "cell_type": "code",
      "metadata": {
        "id": "liKL292gd8kw",
        "colab_type": "code",
        "colab": {
          "base_uri": "https://localhost:8080/",
          "height": 297
        },
        "outputId": "5b86d759-1565-4cd7-b70c-87b18e2236b2"
      },
      "source": [
        "training_sizes = [0.1, 0.2, 0.3, 0.4, 0.5, 0.6, 0.7, 0.8, 0.9]\n",
        "MLP_AUC_train = []\n",
        "MLP_AUC_test = []\n",
        "\n",
        "for i in training_sizes:\n",
        "  # looping through different training size\n",
        "  X_train, X_test, y_train, y_test = train_test_split(X_new, y, \n",
        "                                                      train_size = i,\n",
        "                                                      random_state = 1)\n",
        "  # fit Multi-Layer Perceptrons \n",
        "  clf = MLPClassifier(activation = 'logistic', \n",
        "                    solver = 'adam',\n",
        "                    alpha = 1e-5,\n",
        "                    max_iter = 1000,  \n",
        "                    hidden_layer_sizes = (15, 10),\n",
        "                    random_state = 1,\n",
        "                    learning_rate_init = 0.5)\n",
        "  clf = clf.fit(X_train, y_train)\n",
        "  y_pred = clf.predict(X_test)\n",
        "  # calculate the mean of AUC score by 10-fold CV\n",
        "  train_scores = cross_val_score(clf, X_train, y_train, cv = 10, \n",
        "                                 scoring = 'accuracy').mean()\n",
        "  test_scores = cross_val_score(clf, X_test, y_test, cv = 10, \n",
        "                                scoring = 'accuracy').mean()\n",
        "  MLP_AUC_train.append(train_scores)\n",
        "  MLP_AUC_test.append(test_scores)\n",
        "\n",
        "# plotting\n",
        "plt.figure(figsize=(6, 4))\n",
        "plt.plot(training_sizes, DT_AUC_train, 'c^-', label = 'training')\n",
        "plt.plot(training_sizes, DT_AUC_test, 'C1o-', label = 'testing')\n",
        "plt.legend(frameon = True, loc = 'bottom right')\n",
        "plt.title('Multi-Layer Perceptrons (steel - multi class)', size = 15)\n",
        "plt.xlabel('Training Size', size = 13)\n",
        "plt.ylabel('Accuracy', size = 13)"
      ],
      "execution_count": 194,
      "outputs": [
        {
          "output_type": "display_data",
          "data": {
            "application/javascript": [
              "\n",
              "    async function download(id, filename, size) {\n",
              "      if (!google.colab.kernel.accessAllowed) {\n",
              "        return;\n",
              "      }\n",
              "      const div = document.createElement('div');\n",
              "      const label = document.createElement('label');\n",
              "      label.textContent = `Downloading \"${filename}\": `;\n",
              "      div.appendChild(label);\n",
              "      const progress = document.createElement('progress');\n",
              "      progress.max = size;\n",
              "      div.appendChild(progress);\n",
              "      document.body.appendChild(div);\n",
              "\n",
              "      const buffers = [];\n",
              "      let downloaded = 0;\n",
              "\n",
              "      const channel = await google.colab.kernel.comms.open(id);\n",
              "      // Send a message to notify the kernel that we're ready.\n",
              "      channel.send({})\n",
              "\n",
              "      for await (const message of channel.messages) {\n",
              "        // Send a message to notify the kernel that we're ready.\n",
              "        channel.send({})\n",
              "        if (message.buffers) {\n",
              "          for (const buffer of message.buffers) {\n",
              "            buffers.push(buffer);\n",
              "            downloaded += buffer.byteLength;\n",
              "            progress.value = downloaded;\n",
              "          }\n",
              "        }\n",
              "      }\n",
              "      const blob = new Blob(buffers, {type: 'application/binary'});\n",
              "      const a = document.createElement('a');\n",
              "      a.href = window.URL.createObjectURL(blob);\n",
              "      a.download = filename;\n",
              "      div.appendChild(a);\n",
              "      a.click();\n",
              "      div.remove();\n",
              "    }\n",
              "  "
            ],
            "text/plain": [
              "<IPython.core.display.Javascript object>"
            ]
          },
          "metadata": {
            "tags": []
          }
        },
        {
          "output_type": "display_data",
          "data": {
            "application/javascript": [
              "download(\"download_967b800b-bb62-4dd8-9873-34bae1bdaf8b\", \"FS_MLP_steel-mul.png\", 24661)"
            ],
            "text/plain": [
              "<IPython.core.display.Javascript object>"
            ]
          },
          "metadata": {
            "tags": []
          }
        },
        {
          "output_type": "display_data",
          "data": {
            "image/png": "[encoded data removed]",
            "text/plain": [
              "<Figure size 432x288 with 1 Axes>"
            ]
          },
          "metadata": {
            "tags": [],
            "needs_background": "light"
          }
        }
      ]
    },
    {
      "cell_type": "markdown",
      "metadata": {
        "id": "t6aHgsdXgTSO",
        "colab_type": "text"
      },
      "source": [
        "## 3) Are either of your datasets imbalanced?  \n",
        "- The ozone data is the most imbalance"
      ]
    },
    {
      "cell_type": "code",
      "metadata": {
        "id": "hStlHs0UeNBH",
        "colab_type": "code",
        "colab": {
          "base_uri": "https://localhost:8080/",
          "height": 340
        },
        "outputId": "699765d9-340c-448e-f288-00feb886f88d"
      },
      "source": [
        "# view the frequency between binary classes steel plates data\n",
        "print('binary steel: ')\n",
        "print(steel_bin.Class.value_counts())\n",
        "print(' - - - - - - - ')\n",
        "# view the frequency between multiple classes steel plates data\n",
        "print('multi-class steel: ')\n",
        "print(steel_mul.multi_class.value_counts())\n",
        "print(' - - - - - - - ')\n",
        "# view the frequency between ozone data\n",
        "print('ozone: ')\n",
        "print(ozone.Class.value_counts()) "
      ],
      "execution_count": 158,
      "outputs": [
        {
          "output_type": "stream",
          "text": [
            "binary steel: \n",
            "1    1268\n",
            "2     673\n",
            "Name: Class, dtype: int64\n",
            " - - - - - - - \n",
            "multi-class steel: \n",
            "7    673\n",
            "6    402\n",
            "3    391\n",
            "2    190\n",
            "1    158\n",
            "4     72\n",
            "5     55\n",
            "Name: multi_class, dtype: int64\n",
            " - - - - - - - \n",
            "ozone: \n",
            "1    2374\n",
            "2     160\n",
            "Name: Class, dtype: int64\n"
          ],
          "name": "stdout"
        }
      ]
    },
    {
      "cell_type": "code",
      "metadata": {
        "id": "Ks6lYrQxeM22",
        "colab_type": "code",
        "colab": {}
      },
      "source": [
        ""
      ],
      "execution_count": 161,
      "outputs": []
    },
    {
      "cell_type": "code",
      "metadata": {
        "id": "PyU2oNVwhj6U",
        "colab_type": "code",
        "colab": {}
      },
      "source": [
        ""
      ],
      "execution_count": 161,
      "outputs": []
    },
    {
      "cell_type": "code",
      "metadata": {
        "id": "3AA1wYA6hrBb",
        "colab_type": "code",
        "colab": {}
      },
      "source": [
        ""
      ],
      "execution_count": null,
      "outputs": []
    },
    {
      "cell_type": "code",
      "metadata": {
        "id": "WbdOuFM1x7yD",
        "colab_type": "code",
        "colab": {}
      },
      "source": [
        ""
      ],
      "execution_count": null,
      "outputs": []
    }
  ]
}